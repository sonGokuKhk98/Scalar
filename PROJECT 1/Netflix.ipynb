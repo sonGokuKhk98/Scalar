{
 "cells": [
  {
   "attachments": {},
   "cell_type": "markdown",
   "metadata": {},
   "source": [
    "###  1.) Problem Statement definition and Basic metrics analysis\n",
    "The dataset is of a video streaming platform (Netflix). The data given indicates the details about Movies and TV shows.\n",
    "* Problem Statement definition: The data can be used to derive insights to find out which movies/shows need to be created.\n",
    " Also, it is expected to give few insights on how to grow this business in different countries\n",
    "\n",
    " Let's now move forward to have a look at the data, and analyse the basic metrics\n",
    "\n"
   ]
  },
  {
   "cell_type": "code",
   "execution_count": 2261,
   "metadata": {},
   "outputs": [],
   "source": [
    "#Importing Necessary libraries (We will keep on importing libraries in this cell)\n",
    "import warnings\n",
    "warnings.filterwarnings('ignore')\n",
    "import pandas as pd\n",
    "import numpy as np\n",
    "import matplotlib.pyplot as plt\n",
    "%matplotlib inline\n",
    "import seaborn as sns"
   ]
  },
  {
   "cell_type": "code",
   "execution_count": 2262,
   "metadata": {},
   "outputs": [
    {
     "name": "stdout",
     "output_type": "stream",
     "text": [
      "Shape of the data set is as follows: \n",
      "No. of Rows: 8807\n",
      "No. of Columns: 12\n",
      "-------------------------------------------\n"
     ]
    }
   ],
   "source": [
    "Netflix_data= pd.read_csv('netflix.txt')\n",
    "\n",
    "# Shape -> Rows,columns\n",
    "print('Shape of the data set is as follows: ')\n",
    "print('No. of Rows: '+ str(Netflix_data.shape[0]))\n",
    "print('No. of Columns: '+ str(Netflix_data.shape[1]))\n",
    "print('-------------------------------------------')\n"
   ]
  },
  {
   "cell_type": "code",
   "execution_count": 2263,
   "metadata": {},
   "outputs": [
    {
     "name": "stdout",
     "output_type": "stream",
     "text": [
      "<class 'pandas.core.frame.DataFrame'>\n",
      "RangeIndex: 8807 entries, 0 to 8806\n",
      "Data columns (total 12 columns):\n",
      " #   Column        Non-Null Count  Dtype \n",
      "---  ------        --------------  ----- \n",
      " 0   show_id       8807 non-null   object\n",
      " 1   type          8807 non-null   object\n",
      " 2   title         8807 non-null   object\n",
      " 3   director      6173 non-null   object\n",
      " 4   cast          7982 non-null   object\n",
      " 5   country       7976 non-null   object\n",
      " 6   date_added    8797 non-null   object\n",
      " 7   release_year  8807 non-null   int64 \n",
      " 8   rating        8803 non-null   object\n",
      " 9   duration      8804 non-null   object\n",
      " 10  listed_in     8807 non-null   object\n",
      " 11  description   8807 non-null   object\n",
      "dtypes: int64(1), object(11)\n",
      "memory usage: 825.8+ KB\n",
      "None\n",
      "-------------------------------------------\n"
     ]
    },
    {
     "data": {
      "text/html": [
       "<div>\n",
       "<style scoped>\n",
       "    .dataframe tbody tr th:only-of-type {\n",
       "        vertical-align: middle;\n",
       "    }\n",
       "\n",
       "    .dataframe tbody tr th {\n",
       "        vertical-align: top;\n",
       "    }\n",
       "\n",
       "    .dataframe thead th {\n",
       "        text-align: right;\n",
       "    }\n",
       "</style>\n",
       "<table border=\"1\" class=\"dataframe\">\n",
       "  <thead>\n",
       "    <tr style=\"text-align: right;\">\n",
       "      <th></th>\n",
       "      <th>show_id</th>\n",
       "      <th>type</th>\n",
       "      <th>title</th>\n",
       "      <th>director</th>\n",
       "      <th>cast</th>\n",
       "      <th>country</th>\n",
       "      <th>date_added</th>\n",
       "      <th>release_year</th>\n",
       "      <th>rating</th>\n",
       "      <th>duration</th>\n",
       "      <th>listed_in</th>\n",
       "      <th>description</th>\n",
       "    </tr>\n",
       "  </thead>\n",
       "  <tbody>\n",
       "    <tr>\n",
       "      <th>count</th>\n",
       "      <td>8807</td>\n",
       "      <td>8807</td>\n",
       "      <td>8807</td>\n",
       "      <td>6173</td>\n",
       "      <td>7982</td>\n",
       "      <td>7976</td>\n",
       "      <td>8797</td>\n",
       "      <td>8807.000000</td>\n",
       "      <td>8803</td>\n",
       "      <td>8804</td>\n",
       "      <td>8807</td>\n",
       "      <td>8807</td>\n",
       "    </tr>\n",
       "    <tr>\n",
       "      <th>unique</th>\n",
       "      <td>8807</td>\n",
       "      <td>2</td>\n",
       "      <td>8807</td>\n",
       "      <td>4528</td>\n",
       "      <td>7692</td>\n",
       "      <td>748</td>\n",
       "      <td>1767</td>\n",
       "      <td>NaN</td>\n",
       "      <td>17</td>\n",
       "      <td>220</td>\n",
       "      <td>514</td>\n",
       "      <td>8775</td>\n",
       "    </tr>\n",
       "    <tr>\n",
       "      <th>top</th>\n",
       "      <td>s1</td>\n",
       "      <td>Movie</td>\n",
       "      <td>Dick Johnson Is Dead</td>\n",
       "      <td>Rajiv Chilaka</td>\n",
       "      <td>David Attenborough</td>\n",
       "      <td>United States</td>\n",
       "      <td>January 1, 2020</td>\n",
       "      <td>NaN</td>\n",
       "      <td>TV-MA</td>\n",
       "      <td>1 Season</td>\n",
       "      <td>Dramas, International Movies</td>\n",
       "      <td>Paranormal activity at a lush, abandoned prope...</td>\n",
       "    </tr>\n",
       "    <tr>\n",
       "      <th>freq</th>\n",
       "      <td>1</td>\n",
       "      <td>6131</td>\n",
       "      <td>1</td>\n",
       "      <td>19</td>\n",
       "      <td>19</td>\n",
       "      <td>2818</td>\n",
       "      <td>109</td>\n",
       "      <td>NaN</td>\n",
       "      <td>3207</td>\n",
       "      <td>1793</td>\n",
       "      <td>362</td>\n",
       "      <td>4</td>\n",
       "    </tr>\n",
       "    <tr>\n",
       "      <th>mean</th>\n",
       "      <td>NaN</td>\n",
       "      <td>NaN</td>\n",
       "      <td>NaN</td>\n",
       "      <td>NaN</td>\n",
       "      <td>NaN</td>\n",
       "      <td>NaN</td>\n",
       "      <td>NaN</td>\n",
       "      <td>2014.180198</td>\n",
       "      <td>NaN</td>\n",
       "      <td>NaN</td>\n",
       "      <td>NaN</td>\n",
       "      <td>NaN</td>\n",
       "    </tr>\n",
       "    <tr>\n",
       "      <th>std</th>\n",
       "      <td>NaN</td>\n",
       "      <td>NaN</td>\n",
       "      <td>NaN</td>\n",
       "      <td>NaN</td>\n",
       "      <td>NaN</td>\n",
       "      <td>NaN</td>\n",
       "      <td>NaN</td>\n",
       "      <td>8.819312</td>\n",
       "      <td>NaN</td>\n",
       "      <td>NaN</td>\n",
       "      <td>NaN</td>\n",
       "      <td>NaN</td>\n",
       "    </tr>\n",
       "    <tr>\n",
       "      <th>min</th>\n",
       "      <td>NaN</td>\n",
       "      <td>NaN</td>\n",
       "      <td>NaN</td>\n",
       "      <td>NaN</td>\n",
       "      <td>NaN</td>\n",
       "      <td>NaN</td>\n",
       "      <td>NaN</td>\n",
       "      <td>1925.000000</td>\n",
       "      <td>NaN</td>\n",
       "      <td>NaN</td>\n",
       "      <td>NaN</td>\n",
       "      <td>NaN</td>\n",
       "    </tr>\n",
       "    <tr>\n",
       "      <th>25%</th>\n",
       "      <td>NaN</td>\n",
       "      <td>NaN</td>\n",
       "      <td>NaN</td>\n",
       "      <td>NaN</td>\n",
       "      <td>NaN</td>\n",
       "      <td>NaN</td>\n",
       "      <td>NaN</td>\n",
       "      <td>2013.000000</td>\n",
       "      <td>NaN</td>\n",
       "      <td>NaN</td>\n",
       "      <td>NaN</td>\n",
       "      <td>NaN</td>\n",
       "    </tr>\n",
       "    <tr>\n",
       "      <th>50%</th>\n",
       "      <td>NaN</td>\n",
       "      <td>NaN</td>\n",
       "      <td>NaN</td>\n",
       "      <td>NaN</td>\n",
       "      <td>NaN</td>\n",
       "      <td>NaN</td>\n",
       "      <td>NaN</td>\n",
       "      <td>2017.000000</td>\n",
       "      <td>NaN</td>\n",
       "      <td>NaN</td>\n",
       "      <td>NaN</td>\n",
       "      <td>NaN</td>\n",
       "    </tr>\n",
       "    <tr>\n",
       "      <th>75%</th>\n",
       "      <td>NaN</td>\n",
       "      <td>NaN</td>\n",
       "      <td>NaN</td>\n",
       "      <td>NaN</td>\n",
       "      <td>NaN</td>\n",
       "      <td>NaN</td>\n",
       "      <td>NaN</td>\n",
       "      <td>2019.000000</td>\n",
       "      <td>NaN</td>\n",
       "      <td>NaN</td>\n",
       "      <td>NaN</td>\n",
       "      <td>NaN</td>\n",
       "    </tr>\n",
       "    <tr>\n",
       "      <th>max</th>\n",
       "      <td>NaN</td>\n",
       "      <td>NaN</td>\n",
       "      <td>NaN</td>\n",
       "      <td>NaN</td>\n",
       "      <td>NaN</td>\n",
       "      <td>NaN</td>\n",
       "      <td>NaN</td>\n",
       "      <td>2021.000000</td>\n",
       "      <td>NaN</td>\n",
       "      <td>NaN</td>\n",
       "      <td>NaN</td>\n",
       "      <td>NaN</td>\n",
       "    </tr>\n",
       "  </tbody>\n",
       "</table>\n",
       "</div>"
      ],
      "text/plain": [
       "       show_id   type                 title       director   \n",
       "count     8807   8807                  8807           6173  \\\n",
       "unique    8807      2                  8807           4528   \n",
       "top         s1  Movie  Dick Johnson Is Dead  Rajiv Chilaka   \n",
       "freq         1   6131                     1             19   \n",
       "mean       NaN    NaN                   NaN            NaN   \n",
       "std        NaN    NaN                   NaN            NaN   \n",
       "min        NaN    NaN                   NaN            NaN   \n",
       "25%        NaN    NaN                   NaN            NaN   \n",
       "50%        NaN    NaN                   NaN            NaN   \n",
       "75%        NaN    NaN                   NaN            NaN   \n",
       "max        NaN    NaN                   NaN            NaN   \n",
       "\n",
       "                      cast        country       date_added  release_year   \n",
       "count                 7982           7976             8797   8807.000000  \\\n",
       "unique                7692            748             1767           NaN   \n",
       "top     David Attenborough  United States  January 1, 2020           NaN   \n",
       "freq                    19           2818              109           NaN   \n",
       "mean                   NaN            NaN              NaN   2014.180198   \n",
       "std                    NaN            NaN              NaN      8.819312   \n",
       "min                    NaN            NaN              NaN   1925.000000   \n",
       "25%                    NaN            NaN              NaN   2013.000000   \n",
       "50%                    NaN            NaN              NaN   2017.000000   \n",
       "75%                    NaN            NaN              NaN   2019.000000   \n",
       "max                    NaN            NaN              NaN   2021.000000   \n",
       "\n",
       "       rating  duration                     listed_in   \n",
       "count    8803      8804                          8807  \\\n",
       "unique     17       220                           514   \n",
       "top     TV-MA  1 Season  Dramas, International Movies   \n",
       "freq     3207      1793                           362   \n",
       "mean      NaN       NaN                           NaN   \n",
       "std       NaN       NaN                           NaN   \n",
       "min       NaN       NaN                           NaN   \n",
       "25%       NaN       NaN                           NaN   \n",
       "50%       NaN       NaN                           NaN   \n",
       "75%       NaN       NaN                           NaN   \n",
       "max       NaN       NaN                           NaN   \n",
       "\n",
       "                                              description  \n",
       "count                                                8807  \n",
       "unique                                               8775  \n",
       "top     Paranormal activity at a lush, abandoned prope...  \n",
       "freq                                                    4  \n",
       "mean                                                  NaN  \n",
       "std                                                   NaN  \n",
       "min                                                   NaN  \n",
       "25%                                                   NaN  \n",
       "50%                                                   NaN  \n",
       "75%                                                   NaN  \n",
       "max                                                   NaN  "
      ]
     },
     "execution_count": 2263,
     "metadata": {},
     "output_type": "execute_result"
    }
   ],
   "source": [
    "# Finding out the basic info\n",
    "print(Netflix_data.info())\n",
    "print('-------------------------------------------')\n",
    "\n",
    "# Describing each feature, by listing out the basic metrics\n",
    "\n",
    "Netflix_data.describe(include='all')\n"
   ]
  },
  {
   "attachments": {},
   "cell_type": "markdown",
   "metadata": {},
   "source": [
    "\n",
    "\n",
    "2.) Observations on the following -\n",
    "----\n",
    "1. Shape of data: \n",
    "    \n",
    "    * No. of Columns: 12, No. of Rows: 8807\n",
    "        *   Column observations\n",
    "            * There are only two types of data in the column \"type\" (unique values in column type is 2)\n",
    "            * Show_id is the unique key as freq = 1, so is the title having all unique values\n",
    "        * --\n",
    "        *   Row observations\n",
    "            * Columns, which have missing or null values are: [director, cast, country, date_added, rating, duration] -> \n",
    "            * Nulls need to be handled, Imputed if necessary\n",
    "----\n",
    "2. Data type of all attributes\n",
    "    * The year has int64 (integer) datatype , while the rest are objects\n",
    "    * There are many np.Nan's (null values in the values of their respective attributes)\n",
    "\n",
    "----\n",
    "3. Conversion of categorical attributes to 'category'  (Information derived from .describe )\n",
    "    * Categorical attributes in this data are: \n",
    "       \n",
    "        * Type (Movie or Tv shows) -> nunique value is 2 for this column\n",
    "        * Country (Country list) -> nunique value is 748 diffrent countries where the movies were produced\n",
    "        * Genre (Column name : listed_in) -> Can be categorized to 514 unique genres\n",
    "----\n",
    "4. missing value detection\n",
    "    * Columns, which have missing or null values are: [director, cast, country, date_added, rating, duration] \n",
    "----\n",
    "5. Statistical summary\n",
    " -- Need to write\n"
   ]
  },
  {
   "cell_type": "markdown",
   "metadata": {},
   "source": []
  },
  {
   "attachments": {},
   "cell_type": "markdown",
   "metadata": {},
   "source": [
    "### 3. Non-Graphical Analysis: Value counts and unique attributes"
   ]
  },
  {
   "attachments": {},
   "cell_type": "markdown",
   "metadata": {},
   "source": [
    "* We can omit the values counts of the following columns: \n",
    "    * [show_id,title] -> because they are unique for each row and no point in getting it's value counts\n",
    "    * [director,cast,date_added,release_year,description] -> Because these don't appear to be categorical values, \n",
    "    even if they have a large number of categories"
   ]
  },
  {
   "cell_type": "code",
   "execution_count": 2264,
   "metadata": {},
   "outputs": [
    {
     "name": "stdout",
     "output_type": "stream",
     "text": [
      "Type:  2\n",
      "Country: 748\n",
      "Genre: 514\n",
      "Rating: 17\n",
      "Duration: 220\n",
      "-------------------------\n"
     ]
    }
   ],
   "source": [
    "# Unique attributes \n",
    "print(\"Type:  \"+ str(Netflix_data['type'].value_counts().count()) )\n",
    "print(\"Country: \"+str(Netflix_data['country'].value_counts().count()))\n",
    "print(\"Genre: \"+str(Netflix_data['listed_in'].value_counts().count()))\n",
    "print(\"Rating: \"+str(Netflix_data['rating'].value_counts().count()))\n",
    "print(\"Duration: \"+str(Netflix_data['duration'].value_counts().count()))\n",
    "print(\"-------------------------\")\n",
    "\n"
   ]
  },
  {
   "cell_type": "code",
   "execution_count": 2265,
   "metadata": {},
   "outputs": [
    {
     "name": "stdout",
     "output_type": "stream",
     "text": [
      "Type value count stats: \n",
      "      type  count\n",
      "0    Movie   6131\n",
      "1  TV Show   2676\n",
      "-------------------------\n",
      "Country value count stats: \n",
      "                                    country  count\n",
      "0                             United States   2818\n",
      "1                                     India    972\n",
      "2                            United Kingdom    419\n",
      "3                                     Japan    245\n",
      "4                               South Korea    199\n",
      "..                                      ...    ...\n",
      "743              Romania, Bulgaria, Hungary      1\n",
      "744                      Uruguay, Guatemala      1\n",
      "745                France, Senegal, Belgium      1\n",
      "746  Mexico, United States, Spain, Colombia      1\n",
      "747            United Arab Emirates, Jordan      1\n",
      "\n",
      "[748 rows x 2 columns]\n",
      "-------------------------\n"
     ]
    }
   ],
   "source": [
    "\n",
    "#Value counts of each categorical attributes\n",
    "\n",
    "print(\"Type value count stats: \")\n",
    "print(Netflix_data['type'].value_counts().to_frame().reset_index())\n",
    "print(\"-------------------------\")\n",
    "\n",
    "print(\"Country value count stats: \")\n",
    "print(Netflix_data['country'].value_counts().to_frame().reset_index())\n",
    "print(\"-------------------------\")\n",
    "\n"
   ]
  },
  {
   "cell_type": "code",
   "execution_count": 2266,
   "metadata": {},
   "outputs": [
    {
     "name": "stdout",
     "output_type": "stream",
     "text": [
      "Genre value count stats: \n",
      "                                             listed_in  count\n",
      "0                         Dramas, International Movies    362\n",
      "1                                        Documentaries    359\n",
      "2                                      Stand-Up Comedy    334\n",
      "3               Comedies, Dramas, International Movies    274\n",
      "4     Dramas, Independent Movies, International Movies    252\n",
      "..                                                 ...    ...\n",
      "509         Kids' TV, TV Action & Adventure, TV Dramas      1\n",
      "510                  TV Comedies, TV Dramas, TV Horror      1\n",
      "511   Children & Family Movies, Comedies, LGBTQ Movies      1\n",
      "512  Kids' TV, Spanish-Language TV Shows, Teen TV S...      1\n",
      "513                     Cult Movies, Dramas, Thrillers      1\n",
      "\n",
      "[514 rows x 2 columns]\n",
      "-------------------------\n",
      "Rating value count stats: \n",
      "      rating  count\n",
      "0      TV-MA   3207\n",
      "1      TV-14   2160\n",
      "2      TV-PG    863\n",
      "3          R    799\n",
      "4      PG-13    490\n",
      "5      TV-Y7    334\n",
      "6       TV-Y    307\n",
      "7         PG    287\n",
      "8       TV-G    220\n",
      "9         NR     80\n",
      "10         G     41\n",
      "11  TV-Y7-FV      6\n",
      "12     NC-17      3\n",
      "13        UR      3\n",
      "14    74 min      1\n",
      "15    84 min      1\n",
      "16    66 min      1\n",
      "-------------------------\n"
     ]
    }
   ],
   "source": [
    "\n",
    "print(\"Genre value count stats: \")\n",
    "print(Netflix_data['listed_in'].value_counts().to_frame().reset_index())\n",
    "print(\"-------------------------\")\n",
    "\n",
    "print(\"Rating value count stats: \")\n",
    "print(Netflix_data['rating'].value_counts().to_frame().reset_index())\n",
    "print(\"-------------------------\")"
   ]
  },
  {
   "cell_type": "code",
   "execution_count": 2267,
   "metadata": {},
   "outputs": [
    {
     "name": "stdout",
     "output_type": "stream",
     "text": [
      "Duration value count stats: \n",
      "      duration  count\n",
      "0     1 Season   1793\n",
      "1    2 Seasons    425\n",
      "2    3 Seasons    199\n",
      "3       90 min    152\n",
      "4       94 min    146\n",
      "..         ...    ...\n",
      "215     16 min      1\n",
      "216    186 min      1\n",
      "217    193 min      1\n",
      "218    189 min      1\n",
      "219    191 min      1\n",
      "\n",
      "[220 rows x 2 columns]\n",
      "-------------------------\n",
      "Director value count stats: \n",
      "                            director  count\n",
      "0                      Rajiv Chilaka     19\n",
      "1             Raúl Campos, Jan Suter     18\n",
      "2                       Marcus Raboy     16\n",
      "3                        Suhas Kadav     16\n",
      "4                          Jay Karas     14\n",
      "...                              ...    ...\n",
      "4523  Raymie Muzquiz, Stu Livingston      1\n",
      "4524                    Joe Menendez      1\n",
      "4525                      Eric Bross      1\n",
      "4526                  Will Eisenberg      1\n",
      "4527                     Mozez Singh      1\n",
      "\n",
      "[4528 rows x 2 columns]\n",
      "-------------------------\n"
     ]
    }
   ],
   "source": [
    "print(\"Duration value count stats: \")\n",
    "print(Netflix_data['duration'].value_counts().to_frame().reset_index())\n",
    "print(\"-------------------------\")\n",
    "\n",
    "\n",
    "print(\"Director value count stats: \")\n",
    "print(Netflix_data['director'].value_counts().to_frame().reset_index())\n",
    "print(\"-------------------------\")"
   ]
  },
  {
   "attachments": {},
   "cell_type": "markdown",
   "metadata": {},
   "source": [
    "### Preprocessing of data"
   ]
  },
  {
   "cell_type": "code",
   "execution_count": 2268,
   "metadata": {},
   "outputs": [
    {
     "data": {
      "text/html": [
       "<div>\n",
       "<style scoped>\n",
       "    .dataframe tbody tr th:only-of-type {\n",
       "        vertical-align: middle;\n",
       "    }\n",
       "\n",
       "    .dataframe tbody tr th {\n",
       "        vertical-align: top;\n",
       "    }\n",
       "\n",
       "    .dataframe thead th {\n",
       "        text-align: right;\n",
       "    }\n",
       "</style>\n",
       "<table border=\"1\" class=\"dataframe\">\n",
       "  <thead>\n",
       "    <tr style=\"text-align: right;\">\n",
       "      <th></th>\n",
       "      <th>show_id</th>\n",
       "      <th>type</th>\n",
       "      <th>title</th>\n",
       "      <th>director</th>\n",
       "      <th>cast</th>\n",
       "      <th>country</th>\n",
       "      <th>date_added</th>\n",
       "      <th>release_year</th>\n",
       "      <th>rating</th>\n",
       "      <th>duration</th>\n",
       "      <th>listed_in</th>\n",
       "      <th>description</th>\n",
       "    </tr>\n",
       "  </thead>\n",
       "  <tbody>\n",
       "    <tr>\n",
       "      <th>5541</th>\n",
       "      <td>s5542</td>\n",
       "      <td>Movie</td>\n",
       "      <td>Louis C.K. 2017</td>\n",
       "      <td>Louis C.K.</td>\n",
       "      <td>Louis C.K.</td>\n",
       "      <td>United States</td>\n",
       "      <td>April 4, 2017</td>\n",
       "      <td>2017</td>\n",
       "      <td>74 min</td>\n",
       "      <td>NaN</td>\n",
       "      <td>Movies</td>\n",
       "      <td>Louis C.K. muses on religion, eternal love, gi...</td>\n",
       "    </tr>\n",
       "    <tr>\n",
       "      <th>5794</th>\n",
       "      <td>s5795</td>\n",
       "      <td>Movie</td>\n",
       "      <td>Louis C.K.: Hilarious</td>\n",
       "      <td>Louis C.K.</td>\n",
       "      <td>Louis C.K.</td>\n",
       "      <td>United States</td>\n",
       "      <td>September 16, 2016</td>\n",
       "      <td>2010</td>\n",
       "      <td>84 min</td>\n",
       "      <td>NaN</td>\n",
       "      <td>Movies</td>\n",
       "      <td>Emmy-winning comedy writer Louis C.K. brings h...</td>\n",
       "    </tr>\n",
       "    <tr>\n",
       "      <th>5813</th>\n",
       "      <td>s5814</td>\n",
       "      <td>Movie</td>\n",
       "      <td>Louis C.K.: Live at the Comedy Store</td>\n",
       "      <td>Louis C.K.</td>\n",
       "      <td>Louis C.K.</td>\n",
       "      <td>United States</td>\n",
       "      <td>August 15, 2016</td>\n",
       "      <td>2015</td>\n",
       "      <td>66 min</td>\n",
       "      <td>NaN</td>\n",
       "      <td>Movies</td>\n",
       "      <td>The comic puts his trademark hilarious/thought...</td>\n",
       "    </tr>\n",
       "  </tbody>\n",
       "</table>\n",
       "</div>"
      ],
      "text/plain": [
       "     show_id   type                                 title    director   \n",
       "5541   s5542  Movie                       Louis C.K. 2017  Louis C.K.  \\\n",
       "5794   s5795  Movie                 Louis C.K.: Hilarious  Louis C.K.   \n",
       "5813   s5814  Movie  Louis C.K.: Live at the Comedy Store  Louis C.K.   \n",
       "\n",
       "            cast        country          date_added  release_year  rating   \n",
       "5541  Louis C.K.  United States       April 4, 2017          2017  74 min  \\\n",
       "5794  Louis C.K.  United States  September 16, 2016          2010  84 min   \n",
       "5813  Louis C.K.  United States     August 15, 2016          2015  66 min   \n",
       "\n",
       "     duration listed_in                                        description  \n",
       "5541      NaN    Movies  Louis C.K. muses on religion, eternal love, gi...  \n",
       "5794      NaN    Movies  Emmy-winning comedy writer Louis C.K. brings h...  \n",
       "5813      NaN    Movies  The comic puts his trademark hilarious/thought...  "
      ]
     },
     "execution_count": 2268,
     "metadata": {},
     "output_type": "execute_result"
    }
   ],
   "source": [
    "#As we see \"movies\" have \"<int> mins\" and \"Tv show\" have \"<int> Seasons\" we only pick the first interger value after spliting the space\n",
    "Netflix_data['duration'] = Netflix_data['duration'].str.split(' ').str[0]\n",
    "\n",
    "Netflix_data[Netflix_data['duration'].isna()]"
   ]
  },
  {
   "cell_type": "code",
   "execution_count": 2269,
   "metadata": {},
   "outputs": [
    {
     "name": "stdout",
     "output_type": "stream",
     "text": [
      "The following Duration and rating columns interchanged\n",
      "['s5542', 's5795', 's5814']\n"
     ]
    },
    {
     "data": {
      "text/html": [
       "<div>\n",
       "<style scoped>\n",
       "    .dataframe tbody tr th:only-of-type {\n",
       "        vertical-align: middle;\n",
       "    }\n",
       "\n",
       "    .dataframe tbody tr th {\n",
       "        vertical-align: top;\n",
       "    }\n",
       "\n",
       "    .dataframe thead th {\n",
       "        text-align: right;\n",
       "    }\n",
       "</style>\n",
       "<table border=\"1\" class=\"dataframe\">\n",
       "  <thead>\n",
       "    <tr style=\"text-align: right;\">\n",
       "      <th></th>\n",
       "      <th>show_id</th>\n",
       "      <th>type</th>\n",
       "      <th>title</th>\n",
       "      <th>director</th>\n",
       "      <th>cast</th>\n",
       "      <th>country</th>\n",
       "      <th>date_added</th>\n",
       "      <th>release_year</th>\n",
       "      <th>rating</th>\n",
       "      <th>duration</th>\n",
       "      <th>listed_in</th>\n",
       "      <th>description</th>\n",
       "    </tr>\n",
       "  </thead>\n",
       "  <tbody>\n",
       "    <tr>\n",
       "      <th>5541</th>\n",
       "      <td>s5542</td>\n",
       "      <td>Movie</td>\n",
       "      <td>Louis C.K. 2017</td>\n",
       "      <td>Louis C.K.</td>\n",
       "      <td>Louis C.K.</td>\n",
       "      <td>United States</td>\n",
       "      <td>April 4, 2017</td>\n",
       "      <td>2017</td>\n",
       "      <td>NaN</td>\n",
       "      <td>74</td>\n",
       "      <td>Movies</td>\n",
       "      <td>Louis C.K. muses on religion, eternal love, gi...</td>\n",
       "    </tr>\n",
       "  </tbody>\n",
       "</table>\n",
       "</div>"
      ],
      "text/plain": [
       "     show_id   type            title    director        cast        country   \n",
       "5541   s5542  Movie  Louis C.K. 2017  Louis C.K.  Louis C.K.  United States  \\\n",
       "\n",
       "         date_added  release_year rating duration listed_in   \n",
       "5541  April 4, 2017          2017    NaN       74    Movies  \\\n",
       "\n",
       "                                            description  \n",
       "5541  Louis C.K. muses on religion, eternal love, gi...  "
      ]
     },
     "metadata": {},
     "output_type": "display_data"
    },
    {
     "data": {
      "text/html": [
       "<div>\n",
       "<style scoped>\n",
       "    .dataframe tbody tr th:only-of-type {\n",
       "        vertical-align: middle;\n",
       "    }\n",
       "\n",
       "    .dataframe tbody tr th {\n",
       "        vertical-align: top;\n",
       "    }\n",
       "\n",
       "    .dataframe thead th {\n",
       "        text-align: right;\n",
       "    }\n",
       "</style>\n",
       "<table border=\"1\" class=\"dataframe\">\n",
       "  <thead>\n",
       "    <tr style=\"text-align: right;\">\n",
       "      <th></th>\n",
       "      <th>show_id</th>\n",
       "      <th>type</th>\n",
       "      <th>title</th>\n",
       "      <th>director</th>\n",
       "      <th>cast</th>\n",
       "      <th>country</th>\n",
       "      <th>date_added</th>\n",
       "      <th>release_year</th>\n",
       "      <th>rating</th>\n",
       "      <th>duration</th>\n",
       "      <th>listed_in</th>\n",
       "      <th>description</th>\n",
       "    </tr>\n",
       "  </thead>\n",
       "  <tbody>\n",
       "    <tr>\n",
       "      <th>5794</th>\n",
       "      <td>s5795</td>\n",
       "      <td>Movie</td>\n",
       "      <td>Louis C.K.: Hilarious</td>\n",
       "      <td>Louis C.K.</td>\n",
       "      <td>Louis C.K.</td>\n",
       "      <td>United States</td>\n",
       "      <td>September 16, 2016</td>\n",
       "      <td>2010</td>\n",
       "      <td>NaN</td>\n",
       "      <td>84</td>\n",
       "      <td>Movies</td>\n",
       "      <td>Emmy-winning comedy writer Louis C.K. brings h...</td>\n",
       "    </tr>\n",
       "  </tbody>\n",
       "</table>\n",
       "</div>"
      ],
      "text/plain": [
       "     show_id   type                  title    director        cast   \n",
       "5794   s5795  Movie  Louis C.K.: Hilarious  Louis C.K.  Louis C.K.  \\\n",
       "\n",
       "            country          date_added  release_year rating duration   \n",
       "5794  United States  September 16, 2016          2010    NaN       84  \\\n",
       "\n",
       "     listed_in                                        description  \n",
       "5794    Movies  Emmy-winning comedy writer Louis C.K. brings h...  "
      ]
     },
     "metadata": {},
     "output_type": "display_data"
    },
    {
     "data": {
      "text/html": [
       "<div>\n",
       "<style scoped>\n",
       "    .dataframe tbody tr th:only-of-type {\n",
       "        vertical-align: middle;\n",
       "    }\n",
       "\n",
       "    .dataframe tbody tr th {\n",
       "        vertical-align: top;\n",
       "    }\n",
       "\n",
       "    .dataframe thead th {\n",
       "        text-align: right;\n",
       "    }\n",
       "</style>\n",
       "<table border=\"1\" class=\"dataframe\">\n",
       "  <thead>\n",
       "    <tr style=\"text-align: right;\">\n",
       "      <th></th>\n",
       "      <th>show_id</th>\n",
       "      <th>type</th>\n",
       "      <th>title</th>\n",
       "      <th>director</th>\n",
       "      <th>cast</th>\n",
       "      <th>country</th>\n",
       "      <th>date_added</th>\n",
       "      <th>release_year</th>\n",
       "      <th>rating</th>\n",
       "      <th>duration</th>\n",
       "      <th>listed_in</th>\n",
       "      <th>description</th>\n",
       "    </tr>\n",
       "  </thead>\n",
       "  <tbody>\n",
       "    <tr>\n",
       "      <th>5813</th>\n",
       "      <td>s5814</td>\n",
       "      <td>Movie</td>\n",
       "      <td>Louis C.K.: Live at the Comedy Store</td>\n",
       "      <td>Louis C.K.</td>\n",
       "      <td>Louis C.K.</td>\n",
       "      <td>United States</td>\n",
       "      <td>August 15, 2016</td>\n",
       "      <td>2015</td>\n",
       "      <td>NaN</td>\n",
       "      <td>66</td>\n",
       "      <td>Movies</td>\n",
       "      <td>The comic puts his trademark hilarious/thought...</td>\n",
       "    </tr>\n",
       "  </tbody>\n",
       "</table>\n",
       "</div>"
      ],
      "text/plain": [
       "     show_id   type                                 title    director   \n",
       "5813   s5814  Movie  Louis C.K.: Live at the Comedy Store  Louis C.K.  \\\n",
       "\n",
       "            cast        country       date_added  release_year rating   \n",
       "5813  Louis C.K.  United States  August 15, 2016          2015    NaN  \\\n",
       "\n",
       "     duration listed_in                                        description  \n",
       "5813       66    Movies  The comic puts his trademark hilarious/thought...  "
      ]
     },
     "metadata": {},
     "output_type": "display_data"
    },
    {
     "data": {
      "text/plain": [
       "0        90\n",
       "1         2\n",
       "2         1\n",
       "3         1\n",
       "4         2\n",
       "       ... \n",
       "8802    158\n",
       "8803      2\n",
       "8804     88\n",
       "8805     88\n",
       "8806    111\n",
       "Name: duration, Length: 8807, dtype: int64"
      ]
     },
     "execution_count": 2269,
     "metadata": {},
     "output_type": "execute_result"
    }
   ],
   "source": [
    "\n",
    "\n",
    "#As we see these 3 nulls in duration column \n",
    "# we also notice that rating is noticed to be the duration value\n",
    "# WE will replace rating with null and add duration column with the corresponding values from rating column\n",
    "\n",
    "# SAving our rating values into a list as these will be converted to Np.Nan's\n",
    "Show_id_with_null_duration = Netflix_data[Netflix_data['duration'].isna()][\"show_id\"].to_list()\n",
    "print('The following Duration and rating columns interchanged')\n",
    "print(Show_id_with_null_duration)\n",
    "\n",
    "#Fill the values of duration with the coreesponding values in rating which are nulls\n",
    "Netflix_data['duration'].fillna(value=Netflix_data[Netflix_data['duration'].isna()]['rating'],inplace=True)\n",
    "Netflix_data[Netflix_data['duration'].isna()]\n",
    "\n",
    "\n",
    "Netflix_data['rating'].loc[Netflix_data['duration'].isna()] \n",
    "Netflix_data[Netflix_data['duration'].isna()]\n",
    "\n",
    "Netflix_data['duration'] = Netflix_data['duration'].str.split(' ').str[0]\n",
    "\n",
    "for i in Show_id_with_null_duration:\n",
    "    Netflix_data['rating'].loc[Netflix_data['show_id'] == i ] = np.NaN\n",
    "    display(Netflix_data.loc[Netflix_data['show_id'] == i])\n",
    "\n",
    "#As we see from the previous execution block the values of duration and rating is exchanged and null's are removed\n",
    "Netflix_data['duration'].astype(int)\n"
   ]
  },
  {
   "cell_type": "code",
   "execution_count": 2270,
   "metadata": {},
   "outputs": [
    {
     "name": "stdout",
     "output_type": "stream",
     "text": [
      "7\n"
     ]
    },
    {
     "data": {
      "text/html": [
       "<div>\n",
       "<style scoped>\n",
       "    .dataframe tbody tr th:only-of-type {\n",
       "        vertical-align: middle;\n",
       "    }\n",
       "\n",
       "    .dataframe tbody tr th {\n",
       "        vertical-align: top;\n",
       "    }\n",
       "\n",
       "    .dataframe thead th {\n",
       "        text-align: right;\n",
       "    }\n",
       "</style>\n",
       "<table border=\"1\" class=\"dataframe\">\n",
       "  <thead>\n",
       "    <tr style=\"text-align: right;\">\n",
       "      <th></th>\n",
       "      <th>show_id</th>\n",
       "      <th>type</th>\n",
       "      <th>title</th>\n",
       "      <th>director</th>\n",
       "      <th>cast</th>\n",
       "      <th>country</th>\n",
       "      <th>date_added</th>\n",
       "      <th>release_year</th>\n",
       "      <th>rating</th>\n",
       "      <th>duration</th>\n",
       "      <th>listed_in</th>\n",
       "      <th>description</th>\n",
       "    </tr>\n",
       "  </thead>\n",
       "  <tbody>\n",
       "    <tr>\n",
       "      <th>5541</th>\n",
       "      <td>s5542</td>\n",
       "      <td>Movie</td>\n",
       "      <td>Louis C.K. 2017</td>\n",
       "      <td>Louis C.K.</td>\n",
       "      <td>Louis C.K.</td>\n",
       "      <td>United States</td>\n",
       "      <td>April 4, 2017</td>\n",
       "      <td>2017</td>\n",
       "      <td>NaN</td>\n",
       "      <td>74</td>\n",
       "      <td>Movies</td>\n",
       "      <td>Louis C.K. muses on religion, eternal love, gi...</td>\n",
       "    </tr>\n",
       "    <tr>\n",
       "      <th>5794</th>\n",
       "      <td>s5795</td>\n",
       "      <td>Movie</td>\n",
       "      <td>Louis C.K.: Hilarious</td>\n",
       "      <td>Louis C.K.</td>\n",
       "      <td>Louis C.K.</td>\n",
       "      <td>United States</td>\n",
       "      <td>September 16, 2016</td>\n",
       "      <td>2010</td>\n",
       "      <td>NaN</td>\n",
       "      <td>84</td>\n",
       "      <td>Movies</td>\n",
       "      <td>Emmy-winning comedy writer Louis C.K. brings h...</td>\n",
       "    </tr>\n",
       "    <tr>\n",
       "      <th>5813</th>\n",
       "      <td>s5814</td>\n",
       "      <td>Movie</td>\n",
       "      <td>Louis C.K.: Live at the Comedy Store</td>\n",
       "      <td>Louis C.K.</td>\n",
       "      <td>Louis C.K.</td>\n",
       "      <td>United States</td>\n",
       "      <td>August 15, 2016</td>\n",
       "      <td>2015</td>\n",
       "      <td>NaN</td>\n",
       "      <td>66</td>\n",
       "      <td>Movies</td>\n",
       "      <td>The comic puts his trademark hilarious/thought...</td>\n",
       "    </tr>\n",
       "    <tr>\n",
       "      <th>5989</th>\n",
       "      <td>s5990</td>\n",
       "      <td>Movie</td>\n",
       "      <td>13TH: A Conversation with Oprah Winfrey &amp; Ava ...</td>\n",
       "      <td>NaN</td>\n",
       "      <td>Oprah Winfrey, Ava DuVernay</td>\n",
       "      <td>NaN</td>\n",
       "      <td>January 26, 2017</td>\n",
       "      <td>2017</td>\n",
       "      <td>NaN</td>\n",
       "      <td>37</td>\n",
       "      <td>Movies</td>\n",
       "      <td>Oprah Winfrey sits down with director Ava DuVe...</td>\n",
       "    </tr>\n",
       "    <tr>\n",
       "      <th>6827</th>\n",
       "      <td>s6828</td>\n",
       "      <td>TV Show</td>\n",
       "      <td>Gargantia on the Verdurous Planet</td>\n",
       "      <td>NaN</td>\n",
       "      <td>Kaito Ishikawa, Hisako Kanemoto, Ai Kayano, Ka...</td>\n",
       "      <td>Japan</td>\n",
       "      <td>December 1, 2016</td>\n",
       "      <td>2013</td>\n",
       "      <td>NaN</td>\n",
       "      <td>1</td>\n",
       "      <td>Anime Series, International TV Shows</td>\n",
       "      <td>After falling through a wormhole, a space-dwel...</td>\n",
       "    </tr>\n",
       "    <tr>\n",
       "      <th>7312</th>\n",
       "      <td>s7313</td>\n",
       "      <td>TV Show</td>\n",
       "      <td>Little Lunch</td>\n",
       "      <td>NaN</td>\n",
       "      <td>Flynn Curry, Olivia Deeble, Madison Lu, Oisín ...</td>\n",
       "      <td>Australia</td>\n",
       "      <td>February 1, 2018</td>\n",
       "      <td>2015</td>\n",
       "      <td>NaN</td>\n",
       "      <td>1</td>\n",
       "      <td>Kids' TV, TV Comedies</td>\n",
       "      <td>Adopting a child's perspective, this show take...</td>\n",
       "    </tr>\n",
       "    <tr>\n",
       "      <th>7537</th>\n",
       "      <td>s7538</td>\n",
       "      <td>Movie</td>\n",
       "      <td>My Honor Was Loyalty</td>\n",
       "      <td>Alessandro Pepe</td>\n",
       "      <td>Leone Frisa, Paolo Vaccarino, Francesco Miglio...</td>\n",
       "      <td>Italy</td>\n",
       "      <td>March 1, 2017</td>\n",
       "      <td>2015</td>\n",
       "      <td>NaN</td>\n",
       "      <td>115</td>\n",
       "      <td>Dramas</td>\n",
       "      <td>Amid the chaos and horror of World War II, a c...</td>\n",
       "    </tr>\n",
       "  </tbody>\n",
       "</table>\n",
       "</div>"
      ],
      "text/plain": [
       "     show_id     type                                              title   \n",
       "5541   s5542    Movie                                    Louis C.K. 2017  \\\n",
       "5794   s5795    Movie                              Louis C.K.: Hilarious   \n",
       "5813   s5814    Movie               Louis C.K.: Live at the Comedy Store   \n",
       "5989   s5990    Movie  13TH: A Conversation with Oprah Winfrey & Ava ...   \n",
       "6827   s6828  TV Show                  Gargantia on the Verdurous Planet   \n",
       "7312   s7313  TV Show                                       Little Lunch   \n",
       "7537   s7538    Movie                               My Honor Was Loyalty   \n",
       "\n",
       "             director                                               cast   \n",
       "5541       Louis C.K.                                         Louis C.K.  \\\n",
       "5794       Louis C.K.                                         Louis C.K.   \n",
       "5813       Louis C.K.                                         Louis C.K.   \n",
       "5989              NaN                        Oprah Winfrey, Ava DuVernay   \n",
       "6827              NaN  Kaito Ishikawa, Hisako Kanemoto, Ai Kayano, Ka...   \n",
       "7312              NaN  Flynn Curry, Olivia Deeble, Madison Lu, Oisín ...   \n",
       "7537  Alessandro Pepe  Leone Frisa, Paolo Vaccarino, Francesco Miglio...   \n",
       "\n",
       "            country          date_added  release_year rating duration   \n",
       "5541  United States       April 4, 2017          2017    NaN       74  \\\n",
       "5794  United States  September 16, 2016          2010    NaN       84   \n",
       "5813  United States     August 15, 2016          2015    NaN       66   \n",
       "5989            NaN    January 26, 2017          2017    NaN       37   \n",
       "6827          Japan    December 1, 2016          2013    NaN        1   \n",
       "7312      Australia    February 1, 2018          2015    NaN        1   \n",
       "7537          Italy       March 1, 2017          2015    NaN      115   \n",
       "\n",
       "                                 listed_in   \n",
       "5541                                Movies  \\\n",
       "5794                                Movies   \n",
       "5813                                Movies   \n",
       "5989                                Movies   \n",
       "6827  Anime Series, International TV Shows   \n",
       "7312                 Kids' TV, TV Comedies   \n",
       "7537                                Dramas   \n",
       "\n",
       "                                            description  \n",
       "5541  Louis C.K. muses on religion, eternal love, gi...  \n",
       "5794  Emmy-winning comedy writer Louis C.K. brings h...  \n",
       "5813  The comic puts his trademark hilarious/thought...  \n",
       "5989  Oprah Winfrey sits down with director Ava DuVe...  \n",
       "6827  After falling through a wormhole, a space-dwel...  \n",
       "7312  Adopting a child's perspective, this show take...  \n",
       "7537  Amid the chaos and horror of World War II, a c...  "
      ]
     },
     "metadata": {},
     "output_type": "display_data"
    },
    {
     "name": "stdout",
     "output_type": "stream",
     "text": [
      "Highest type type of rating is: \n",
      "3207\n"
     ]
    },
    {
     "data": {
      "text/html": [
       "<div>\n",
       "<style scoped>\n",
       "    .dataframe tbody tr th:only-of-type {\n",
       "        vertical-align: middle;\n",
       "    }\n",
       "\n",
       "    .dataframe tbody tr th {\n",
       "        vertical-align: top;\n",
       "    }\n",
       "\n",
       "    .dataframe thead th {\n",
       "        text-align: right;\n",
       "    }\n",
       "</style>\n",
       "<table border=\"1\" class=\"dataframe\">\n",
       "  <thead>\n",
       "    <tr style=\"text-align: right;\">\n",
       "      <th></th>\n",
       "      <th>show_id</th>\n",
       "      <th>type</th>\n",
       "      <th>title</th>\n",
       "      <th>director</th>\n",
       "      <th>cast</th>\n",
       "      <th>country</th>\n",
       "      <th>date_added</th>\n",
       "      <th>release_year</th>\n",
       "      <th>rating</th>\n",
       "      <th>duration</th>\n",
       "      <th>listed_in</th>\n",
       "      <th>description</th>\n",
       "    </tr>\n",
       "  </thead>\n",
       "  <tbody>\n",
       "  </tbody>\n",
       "</table>\n",
       "</div>"
      ],
      "text/plain": [
       "Empty DataFrame\n",
       "Columns: [show_id, type, title, director, cast, country, date_added, release_year, rating, duration, listed_in, description]\n",
       "Index: []"
      ]
     },
     "metadata": {},
     "output_type": "display_data"
    }
   ],
   "source": [
    "#Imputing ratinf columns with highest frequency rating from the entire data\n",
    "Netflix_rating_nulls = Netflix_data[\"rating\"].isna().sum() \n",
    "print(Netflix_rating_nulls)\n",
    "\n",
    "#Only two of them are null, let's give them each the first popular rating\n",
    "\n",
    "display(Netflix_data.loc[Netflix_data[\"rating\"].isna()])\n",
    "\n",
    "# Rating column nulls\n",
    "\n",
    "print(\"Highest type type of rating is: \")\n",
    "print(Netflix_data['rating'].value_counts(ascending=False).to_frame().reset_index().head(1)['count'][0])\n",
    "\n",
    "\n",
    "#Netflix_data[\"rating\"].loc[Netflix_data[\"rating\"].isna()] = 'TV-MA'\n",
    "# Replacing nulls in rating with highest frequenct rating value from the data \n",
    "Netflix_data[\"rating\"].loc[Netflix_data[\"rating\"].isna()] = Netflix_data['rating'].value_counts(ascending=False).to_frame().reset_index().head(1)['count'][0]\n",
    "#After imputing there are no Na's\n",
    "display(Netflix_data.loc[Netflix_data[\"rating\"].isna()])\n"
   ]
  },
  {
   "cell_type": "code",
   "execution_count": 2271,
   "metadata": {},
   "outputs": [
    {
     "name": "stdout",
     "output_type": "stream",
     "text": [
      "Number of records having null is country column: 831\n"
     ]
    },
    {
     "data": {
      "text/plain": [
       "0"
      ]
     },
     "execution_count": 2271,
     "metadata": {},
     "output_type": "execute_result"
    }
   ],
   "source": [
    "#Let us look at the null values of different nations, as we want to analyse business in different countries\n",
    "Netflix_movies_null_countries = Netflix_data[\"country\"].isna().sum() \n",
    "print(\"Number of records having null is country column: \" + str(Netflix_movies_null_countries ))\n",
    "\n",
    "#Assuming data is scrapped or fed in a sequential manner we forward filll the null values of countries\n",
    "Netflix_data[\"country\"] = Netflix_data[\"country\"].ffill(axis=0)\n",
    "Netflix_data[\"country\"].isna().sum()"
   ]
  },
  {
   "cell_type": "code",
   "execution_count": 2272,
   "metadata": {},
   "outputs": [
    {
     "data": {
      "text/html": [
       "<div>\n",
       "<style scoped>\n",
       "    .dataframe tbody tr th:only-of-type {\n",
       "        vertical-align: middle;\n",
       "    }\n",
       "\n",
       "    .dataframe tbody tr th {\n",
       "        vertical-align: top;\n",
       "    }\n",
       "\n",
       "    .dataframe thead th {\n",
       "        text-align: right;\n",
       "    }\n",
       "</style>\n",
       "<table border=\"1\" class=\"dataframe\">\n",
       "  <thead>\n",
       "    <tr style=\"text-align: right;\">\n",
       "      <th></th>\n",
       "      <th>show_id</th>\n",
       "      <th>type</th>\n",
       "      <th>title</th>\n",
       "      <th>country</th>\n",
       "      <th>date_added</th>\n",
       "      <th>release_year</th>\n",
       "      <th>rating</th>\n",
       "      <th>duration</th>\n",
       "      <th>listed_in</th>\n",
       "    </tr>\n",
       "  </thead>\n",
       "  <tbody>\n",
       "    <tr>\n",
       "      <th>0</th>\n",
       "      <td>s1</td>\n",
       "      <td>Movie</td>\n",
       "      <td>Dick Johnson Is Dead</td>\n",
       "      <td>United States</td>\n",
       "      <td>September 25, 2021</td>\n",
       "      <td>2020</td>\n",
       "      <td>PG-13</td>\n",
       "      <td>90</td>\n",
       "      <td>Documentaries</td>\n",
       "    </tr>\n",
       "    <tr>\n",
       "      <th>1</th>\n",
       "      <td>s2</td>\n",
       "      <td>TV Show</td>\n",
       "      <td>Blood &amp; Water</td>\n",
       "      <td>South Africa</td>\n",
       "      <td>September 24, 2021</td>\n",
       "      <td>2021</td>\n",
       "      <td>TV-MA</td>\n",
       "      <td>2</td>\n",
       "      <td>International TV Shows, TV Dramas, TV Mysteries</td>\n",
       "    </tr>\n",
       "    <tr>\n",
       "      <th>2</th>\n",
       "      <td>s3</td>\n",
       "      <td>TV Show</td>\n",
       "      <td>Ganglands</td>\n",
       "      <td>South Africa</td>\n",
       "      <td>September 24, 2021</td>\n",
       "      <td>2021</td>\n",
       "      <td>TV-MA</td>\n",
       "      <td>1</td>\n",
       "      <td>Crime TV Shows, International TV Shows, TV Act...</td>\n",
       "    </tr>\n",
       "    <tr>\n",
       "      <th>3</th>\n",
       "      <td>s4</td>\n",
       "      <td>TV Show</td>\n",
       "      <td>Jailbirds New Orleans</td>\n",
       "      <td>South Africa</td>\n",
       "      <td>September 24, 2021</td>\n",
       "      <td>2021</td>\n",
       "      <td>TV-MA</td>\n",
       "      <td>1</td>\n",
       "      <td>Docuseries, Reality TV</td>\n",
       "    </tr>\n",
       "    <tr>\n",
       "      <th>4</th>\n",
       "      <td>s5</td>\n",
       "      <td>TV Show</td>\n",
       "      <td>Kota Factory</td>\n",
       "      <td>India</td>\n",
       "      <td>September 24, 2021</td>\n",
       "      <td>2021</td>\n",
       "      <td>TV-MA</td>\n",
       "      <td>2</td>\n",
       "      <td>International TV Shows, Romantic TV Shows, TV ...</td>\n",
       "    </tr>\n",
       "    <tr>\n",
       "      <th>...</th>\n",
       "      <td>...</td>\n",
       "      <td>...</td>\n",
       "      <td>...</td>\n",
       "      <td>...</td>\n",
       "      <td>...</td>\n",
       "      <td>...</td>\n",
       "      <td>...</td>\n",
       "      <td>...</td>\n",
       "      <td>...</td>\n",
       "    </tr>\n",
       "    <tr>\n",
       "      <th>8802</th>\n",
       "      <td>s8803</td>\n",
       "      <td>Movie</td>\n",
       "      <td>Zodiac</td>\n",
       "      <td>United States</td>\n",
       "      <td>November 20, 2019</td>\n",
       "      <td>2007</td>\n",
       "      <td>R</td>\n",
       "      <td>158</td>\n",
       "      <td>Cult Movies, Dramas, Thrillers</td>\n",
       "    </tr>\n",
       "    <tr>\n",
       "      <th>8803</th>\n",
       "      <td>s8804</td>\n",
       "      <td>TV Show</td>\n",
       "      <td>Zombie Dumb</td>\n",
       "      <td>United States</td>\n",
       "      <td>July 1, 2019</td>\n",
       "      <td>2018</td>\n",
       "      <td>TV-Y7</td>\n",
       "      <td>2</td>\n",
       "      <td>Kids' TV, Korean TV Shows, TV Comedies</td>\n",
       "    </tr>\n",
       "    <tr>\n",
       "      <th>8804</th>\n",
       "      <td>s8805</td>\n",
       "      <td>Movie</td>\n",
       "      <td>Zombieland</td>\n",
       "      <td>United States</td>\n",
       "      <td>November 1, 2019</td>\n",
       "      <td>2009</td>\n",
       "      <td>R</td>\n",
       "      <td>88</td>\n",
       "      <td>Comedies, Horror Movies</td>\n",
       "    </tr>\n",
       "    <tr>\n",
       "      <th>8805</th>\n",
       "      <td>s8806</td>\n",
       "      <td>Movie</td>\n",
       "      <td>Zoom</td>\n",
       "      <td>United States</td>\n",
       "      <td>January 11, 2020</td>\n",
       "      <td>2006</td>\n",
       "      <td>PG</td>\n",
       "      <td>88</td>\n",
       "      <td>Children &amp; Family Movies, Comedies</td>\n",
       "    </tr>\n",
       "    <tr>\n",
       "      <th>8806</th>\n",
       "      <td>s8807</td>\n",
       "      <td>Movie</td>\n",
       "      <td>Zubaan</td>\n",
       "      <td>India</td>\n",
       "      <td>March 2, 2019</td>\n",
       "      <td>2015</td>\n",
       "      <td>TV-14</td>\n",
       "      <td>111</td>\n",
       "      <td>Dramas, International Movies, Music &amp; Musicals</td>\n",
       "    </tr>\n",
       "  </tbody>\n",
       "</table>\n",
       "<p>8807 rows × 9 columns</p>\n",
       "</div>"
      ],
      "text/plain": [
       "     show_id     type                  title        country   \n",
       "0         s1    Movie   Dick Johnson Is Dead  United States  \\\n",
       "1         s2  TV Show          Blood & Water   South Africa   \n",
       "2         s3  TV Show              Ganglands   South Africa   \n",
       "3         s4  TV Show  Jailbirds New Orleans   South Africa   \n",
       "4         s5  TV Show           Kota Factory          India   \n",
       "...      ...      ...                    ...            ...   \n",
       "8802   s8803    Movie                 Zodiac  United States   \n",
       "8803   s8804  TV Show            Zombie Dumb  United States   \n",
       "8804   s8805    Movie             Zombieland  United States   \n",
       "8805   s8806    Movie                   Zoom  United States   \n",
       "8806   s8807    Movie                 Zubaan          India   \n",
       "\n",
       "              date_added  release_year rating duration   \n",
       "0     September 25, 2021          2020  PG-13       90  \\\n",
       "1     September 24, 2021          2021  TV-MA        2   \n",
       "2     September 24, 2021          2021  TV-MA        1   \n",
       "3     September 24, 2021          2021  TV-MA        1   \n",
       "4     September 24, 2021          2021  TV-MA        2   \n",
       "...                  ...           ...    ...      ...   \n",
       "8802   November 20, 2019          2007      R      158   \n",
       "8803        July 1, 2019          2018  TV-Y7        2   \n",
       "8804    November 1, 2019          2009      R       88   \n",
       "8805    January 11, 2020          2006     PG       88   \n",
       "8806       March 2, 2019          2015  TV-14      111   \n",
       "\n",
       "                                              listed_in  \n",
       "0                                         Documentaries  \n",
       "1       International TV Shows, TV Dramas, TV Mysteries  \n",
       "2     Crime TV Shows, International TV Shows, TV Act...  \n",
       "3                                Docuseries, Reality TV  \n",
       "4     International TV Shows, Romantic TV Shows, TV ...  \n",
       "...                                                 ...  \n",
       "8802                     Cult Movies, Dramas, Thrillers  \n",
       "8803             Kids' TV, Korean TV Shows, TV Comedies  \n",
       "8804                            Comedies, Horror Movies  \n",
       "8805                 Children & Family Movies, Comedies  \n",
       "8806     Dramas, International Movies, Music & Musicals  \n",
       "\n",
       "[8807 rows x 9 columns]"
      ]
     },
     "execution_count": 2272,
     "metadata": {},
     "output_type": "execute_result"
    }
   ],
   "source": [
    "Netflix_data.drop(['director', 'cast','description'], axis=1, inplace=True)\n",
    "\n",
    "Netflix_data"
   ]
  },
  {
   "attachments": {},
   "cell_type": "markdown",
   "metadata": {},
   "source": [
    "Preprocessing complete"
   ]
  },
  {
   "cell_type": "code",
   "execution_count": 2273,
   "metadata": {},
   "outputs": [
    {
     "name": "stdout",
     "output_type": "stream",
     "text": [
      "<class 'pandas.core.frame.DataFrame'>\n",
      "RangeIndex: 8807 entries, 0 to 8806\n",
      "Data columns (total 9 columns):\n",
      " #   Column        Non-Null Count  Dtype \n",
      "---  ------        --------------  ----- \n",
      " 0   show_id       8807 non-null   object\n",
      " 1   type          8807 non-null   object\n",
      " 2   title         8807 non-null   object\n",
      " 3   country       8807 non-null   object\n",
      " 4   date_added    8797 non-null   object\n",
      " 5   release_year  8807 non-null   int64 \n",
      " 6   rating        8807 non-null   object\n",
      " 7   duration      8807 non-null   object\n",
      " 8   listed_in     8807 non-null   object\n",
      "dtypes: int64(1), object(8)\n",
      "memory usage: 619.4+ KB\n"
     ]
    },
    {
     "data": {
      "text/html": [
       "<div>\n",
       "<style scoped>\n",
       "    .dataframe tbody tr th:only-of-type {\n",
       "        vertical-align: middle;\n",
       "    }\n",
       "\n",
       "    .dataframe tbody tr th {\n",
       "        vertical-align: top;\n",
       "    }\n",
       "\n",
       "    .dataframe thead th {\n",
       "        text-align: right;\n",
       "    }\n",
       "</style>\n",
       "<table border=\"1\" class=\"dataframe\">\n",
       "  <thead>\n",
       "    <tr style=\"text-align: right;\">\n",
       "      <th></th>\n",
       "      <th>show_id</th>\n",
       "      <th>type</th>\n",
       "      <th>title</th>\n",
       "      <th>country</th>\n",
       "      <th>date_added</th>\n",
       "      <th>release_year</th>\n",
       "      <th>rating</th>\n",
       "      <th>duration</th>\n",
       "      <th>listed_in</th>\n",
       "    </tr>\n",
       "  </thead>\n",
       "  <tbody>\n",
       "    <tr>\n",
       "      <th>0</th>\n",
       "      <td>s1</td>\n",
       "      <td>Movie</td>\n",
       "      <td>Dick Johnson Is Dead</td>\n",
       "      <td>United States</td>\n",
       "      <td>September 25, 2021</td>\n",
       "      <td>2020</td>\n",
       "      <td>PG-13</td>\n",
       "      <td>90</td>\n",
       "      <td>Documentaries</td>\n",
       "    </tr>\n",
       "    <tr>\n",
       "      <th>1</th>\n",
       "      <td>s2</td>\n",
       "      <td>TV Show</td>\n",
       "      <td>Blood &amp; Water</td>\n",
       "      <td>South Africa</td>\n",
       "      <td>September 24, 2021</td>\n",
       "      <td>2021</td>\n",
       "      <td>TV-MA</td>\n",
       "      <td>2</td>\n",
       "      <td>International TV Shows, TV Dramas, TV Mysteries</td>\n",
       "    </tr>\n",
       "    <tr>\n",
       "      <th>2</th>\n",
       "      <td>s3</td>\n",
       "      <td>TV Show</td>\n",
       "      <td>Ganglands</td>\n",
       "      <td>South Africa</td>\n",
       "      <td>September 24, 2021</td>\n",
       "      <td>2021</td>\n",
       "      <td>TV-MA</td>\n",
       "      <td>1</td>\n",
       "      <td>Crime TV Shows, International TV Shows, TV Act...</td>\n",
       "    </tr>\n",
       "    <tr>\n",
       "      <th>3</th>\n",
       "      <td>s4</td>\n",
       "      <td>TV Show</td>\n",
       "      <td>Jailbirds New Orleans</td>\n",
       "      <td>South Africa</td>\n",
       "      <td>September 24, 2021</td>\n",
       "      <td>2021</td>\n",
       "      <td>TV-MA</td>\n",
       "      <td>1</td>\n",
       "      <td>Docuseries, Reality TV</td>\n",
       "    </tr>\n",
       "    <tr>\n",
       "      <th>4</th>\n",
       "      <td>s5</td>\n",
       "      <td>TV Show</td>\n",
       "      <td>Kota Factory</td>\n",
       "      <td>India</td>\n",
       "      <td>September 24, 2021</td>\n",
       "      <td>2021</td>\n",
       "      <td>TV-MA</td>\n",
       "      <td>2</td>\n",
       "      <td>International TV Shows, Romantic TV Shows, TV ...</td>\n",
       "    </tr>\n",
       "    <tr>\n",
       "      <th>...</th>\n",
       "      <td>...</td>\n",
       "      <td>...</td>\n",
       "      <td>...</td>\n",
       "      <td>...</td>\n",
       "      <td>...</td>\n",
       "      <td>...</td>\n",
       "      <td>...</td>\n",
       "      <td>...</td>\n",
       "      <td>...</td>\n",
       "    </tr>\n",
       "    <tr>\n",
       "      <th>8802</th>\n",
       "      <td>s8803</td>\n",
       "      <td>Movie</td>\n",
       "      <td>Zodiac</td>\n",
       "      <td>United States</td>\n",
       "      <td>November 20, 2019</td>\n",
       "      <td>2007</td>\n",
       "      <td>R</td>\n",
       "      <td>158</td>\n",
       "      <td>Cult Movies, Dramas, Thrillers</td>\n",
       "    </tr>\n",
       "    <tr>\n",
       "      <th>8803</th>\n",
       "      <td>s8804</td>\n",
       "      <td>TV Show</td>\n",
       "      <td>Zombie Dumb</td>\n",
       "      <td>United States</td>\n",
       "      <td>July 1, 2019</td>\n",
       "      <td>2018</td>\n",
       "      <td>TV-Y7</td>\n",
       "      <td>2</td>\n",
       "      <td>Kids' TV, Korean TV Shows, TV Comedies</td>\n",
       "    </tr>\n",
       "    <tr>\n",
       "      <th>8804</th>\n",
       "      <td>s8805</td>\n",
       "      <td>Movie</td>\n",
       "      <td>Zombieland</td>\n",
       "      <td>United States</td>\n",
       "      <td>November 1, 2019</td>\n",
       "      <td>2009</td>\n",
       "      <td>R</td>\n",
       "      <td>88</td>\n",
       "      <td>Comedies, Horror Movies</td>\n",
       "    </tr>\n",
       "    <tr>\n",
       "      <th>8805</th>\n",
       "      <td>s8806</td>\n",
       "      <td>Movie</td>\n",
       "      <td>Zoom</td>\n",
       "      <td>United States</td>\n",
       "      <td>January 11, 2020</td>\n",
       "      <td>2006</td>\n",
       "      <td>PG</td>\n",
       "      <td>88</td>\n",
       "      <td>Children &amp; Family Movies, Comedies</td>\n",
       "    </tr>\n",
       "    <tr>\n",
       "      <th>8806</th>\n",
       "      <td>s8807</td>\n",
       "      <td>Movie</td>\n",
       "      <td>Zubaan</td>\n",
       "      <td>India</td>\n",
       "      <td>March 2, 2019</td>\n",
       "      <td>2015</td>\n",
       "      <td>TV-14</td>\n",
       "      <td>111</td>\n",
       "      <td>Dramas, International Movies, Music &amp; Musicals</td>\n",
       "    </tr>\n",
       "  </tbody>\n",
       "</table>\n",
       "<p>8807 rows × 9 columns</p>\n",
       "</div>"
      ],
      "text/plain": [
       "     show_id     type                  title        country   \n",
       "0         s1    Movie   Dick Johnson Is Dead  United States  \\\n",
       "1         s2  TV Show          Blood & Water   South Africa   \n",
       "2         s3  TV Show              Ganglands   South Africa   \n",
       "3         s4  TV Show  Jailbirds New Orleans   South Africa   \n",
       "4         s5  TV Show           Kota Factory          India   \n",
       "...      ...      ...                    ...            ...   \n",
       "8802   s8803    Movie                 Zodiac  United States   \n",
       "8803   s8804  TV Show            Zombie Dumb  United States   \n",
       "8804   s8805    Movie             Zombieland  United States   \n",
       "8805   s8806    Movie                   Zoom  United States   \n",
       "8806   s8807    Movie                 Zubaan          India   \n",
       "\n",
       "              date_added  release_year rating duration   \n",
       "0     September 25, 2021          2020  PG-13       90  \\\n",
       "1     September 24, 2021          2021  TV-MA        2   \n",
       "2     September 24, 2021          2021  TV-MA        1   \n",
       "3     September 24, 2021          2021  TV-MA        1   \n",
       "4     September 24, 2021          2021  TV-MA        2   \n",
       "...                  ...           ...    ...      ...   \n",
       "8802   November 20, 2019          2007      R      158   \n",
       "8803        July 1, 2019          2018  TV-Y7        2   \n",
       "8804    November 1, 2019          2009      R       88   \n",
       "8805    January 11, 2020          2006     PG       88   \n",
       "8806       March 2, 2019          2015  TV-14      111   \n",
       "\n",
       "                                              listed_in  \n",
       "0                                         Documentaries  \n",
       "1       International TV Shows, TV Dramas, TV Mysteries  \n",
       "2     Crime TV Shows, International TV Shows, TV Act...  \n",
       "3                                Docuseries, Reality TV  \n",
       "4     International TV Shows, Romantic TV Shows, TV ...  \n",
       "...                                                 ...  \n",
       "8802                     Cult Movies, Dramas, Thrillers  \n",
       "8803             Kids' TV, Korean TV Shows, TV Comedies  \n",
       "8804                            Comedies, Horror Movies  \n",
       "8805                 Children & Family Movies, Comedies  \n",
       "8806     Dramas, International Movies, Music & Musicals  \n",
       "\n",
       "[8807 rows x 9 columns]"
      ]
     },
     "metadata": {},
     "output_type": "display_data"
    }
   ],
   "source": [
    "Netflix_data.info() # Except data added we have imputed nulls through different use cases\n",
    "display(Netflix_data)"
   ]
  },
  {
   "attachments": {},
   "cell_type": "markdown",
   "metadata": {},
   "source": [
    "#### Comparison of tv shows vs. movies."
   ]
  },
  {
   "cell_type": "code",
   "execution_count": 2274,
   "metadata": {},
   "outputs": [
    {
     "name": "stdout",
     "output_type": "stream",
     "text": [
      "The number of Movies: \n"
     ]
    },
    {
     "data": {
      "text/plain": [
       "6131"
      ]
     },
     "metadata": {},
     "output_type": "display_data"
    },
    {
     "name": "stdout",
     "output_type": "stream",
     "text": [
      "The number of TV shows: \n"
     ]
    },
    {
     "data": {
      "text/plain": [
       "2676"
      ]
     },
     "metadata": {},
     "output_type": "display_data"
    },
    {
     "data": {
      "image/png": "[encoded data removed]",
      "text/plain": [
       "<Figure size 640x480 with 1 Axes>"
      ]
     },
     "metadata": {},
     "output_type": "display_data"
    }
   ],
   "source": [
    "#We will handle movie and TV SHOWS seperately when we need them)\n",
    "# Netflix_data_movies -> Movies df\n",
    "# Netflix_data_series -> TV shows df\n",
    "\n",
    "\n",
    "Netflix_data_movies = Netflix_data[Netflix_data['type'] == 'Movie']\n",
    "\n",
    "Netflix_data_movies['duration'] = Netflix_data_movies['duration'].str.split(' ').str[0]\n",
    "print(\"The number of Movies: \")\n",
    "display(Netflix_data_movies.count()[0])\n",
    "\n",
    "Netflix_data_series = Netflix_data[Netflix_data['type'] == 'TV Show']\n",
    "Netflix_data_series['duration'] = Netflix_data_series['duration'].str.split(' ').str[0]\n",
    "\n",
    "print(\"The number of TV shows: \")\n",
    "display(Netflix_data_series.count()[0])\n",
    "\n",
    "\n",
    "sns.countplot(data=Netflix_data,x='type')\n",
    "plt.show()\n"
   ]
  },
  {
   "cell_type": "code",
   "execution_count": 2275,
   "metadata": {},
   "outputs": [
    {
     "name": "stdout",
     "output_type": "stream",
     "text": [
      "Average seasons for every TV show :1.764947683109118\n",
      "Average mins for every movie :99.56499755341706\n"
     ]
    },
    {
     "data": {
      "image/png": "[encoded data removed]",
      "text/plain": [
       "<Figure size 640x480 with 1 Axes>"
      ]
     },
     "metadata": {},
     "output_type": "display_data"
    }
   ],
   "source": [
    "Netflix_data_series['duration'] = Netflix_data_series['duration'].astype('int')\n",
    "Netflix_data_movies['duration'] = Netflix_data_movies['duration'].astype('int')\n",
    "\n",
    "#Mean time in seasons to watch a series\n",
    "print(\"Average seasons for every TV show :\" + str(Netflix_data_series[\"duration\"].mean()))\n",
    "\n",
    "#Mean time in seasons to watch a movie\n",
    "print(\"Average mins for every movie :\" + str(Netflix_data_movies[\"duration\"].mean()))\n",
    "\n",
    "sns.lineplot(data = Netflix_data_movies,\n",
    "             x='release_year',\n",
    "             y=\"duration\",\n",
    "             label = \"Movies\")\n",
    "sns.lineplot(data = Netflix_data_series,\n",
    "             x='release_year',\n",
    "             y=\"duration\",\n",
    "             label = \"TV shows\")\n",
    "plt.legend(loc=(0,0),ncol=1) # Legend at 0,0 location in the map\n",
    "\n",
    "plt.show()\n",
    "# As we see the duration has spiked up between 1960 and 1980, probably an outlier\n"
   ]
  },
  {
   "cell_type": "code",
   "execution_count": 2276,
   "metadata": {},
   "outputs": [
    {
     "data": {
      "text/plain": [
       "listed_in\n",
       "International Movies        2752\n",
       "Dramas                      2427\n",
       "Comedies                    1674\n",
       "Documentaries                869\n",
       "Action & Adventure           859\n",
       "Independent Movies           756\n",
       "Children & Family Movies     641\n",
       "Romantic Movies              616\n",
       "Thrillers                    577\n",
       "Music & Musicals             375\n",
       "dtype: int64"
      ]
     },
     "metadata": {},
     "output_type": "display_data"
    }
   ],
   "source": [
    "# Top 10 genres in Movies \n",
    "#Since we have comma seperated values for country column\n",
    "Netflix_data_genres_movies = Netflix_data_movies\n",
    "Netflix_data_genres_movies[\"listed_in\"] = Netflix_data_genres_movies[\"listed_in\"].str.split(',')\n",
    "\n",
    "Netflix_data_genres_movies = Netflix_data_genres_movies.explode('listed_in',ignore_index=True)\n",
    "Netflix_data_genres_movies[\"listed_in\"] = Netflix_data_genres_movies[\"listed_in\"].str.strip()\n",
    "Netflix_top_genres = Netflix_data_genres_movies.groupby('listed_in').size().sort_values(ascending=False)\n",
    "display(Netflix_top_genres[:10])\n"
   ]
  },
  {
   "cell_type": "code",
   "execution_count": 2277,
   "metadata": {},
   "outputs": [
    {
     "data": {
      "image/png": "[encoded data removed]",
      "text/plain": [
       "<Figure size 640x480 with 1 Axes>"
      ]
     },
     "metadata": {},
     "output_type": "display_data"
    }
   ],
   "source": [
    "\n",
    "sns.countplot(data= Netflix_data_genres_movies,x='listed_in')\n",
    "plt.xticks(rotation = 90)\n",
    "plt.show()\n"
   ]
  },
  {
   "cell_type": "code",
   "execution_count": 2278,
   "metadata": {},
   "outputs": [
    {
     "data": {
      "text/plain": [
       "listed_in\n",
       "International TV Shows    1351\n",
       "TV Dramas                  763\n",
       "TV Comedies                581\n",
       "Crime TV Shows             470\n",
       "Kids' TV                   451\n",
       "Docuseries                 395\n",
       "Romantic TV Shows          370\n",
       "Reality TV                 255\n",
       "British TV Shows           253\n",
       "Anime Series               176\n",
       "dtype: int64"
      ]
     },
     "execution_count": 2278,
     "metadata": {},
     "output_type": "execute_result"
    }
   ],
   "source": [
    "# Top 10 genres in Series \n",
    "#Since we have comma seperated values for country column\n",
    "Netflix_data_genres_series = Netflix_data_series\n",
    "Netflix_data_genres_series[\"listed_in\"] = Netflix_data_genres_series[\"listed_in\"].str.split(',')\n",
    "\n",
    "Netflix_data_genres_series = Netflix_data_genres_series.explode('listed_in',ignore_index=True)\n",
    "Netflix_data_genres_series[\"listed_in\"] = Netflix_data_genres_series[\"listed_in\"].str.strip()\n",
    "Netflix_top_genres = Netflix_data_genres_series.groupby('listed_in').size().sort_values(ascending=False)\n",
    "Netflix_top_genres[:10]"
   ]
  },
  {
   "cell_type": "code",
   "execution_count": 2260,
   "metadata": {},
   "outputs": [
    {
     "data": {
      "image/png": "[encoded data removed]",
      "text/plain": [
       "<Figure size 640x480 with 1 Axes>"
      ]
     },
     "metadata": {},
     "output_type": "display_data"
    }
   ],
   "source": [
    "\n",
    "sns.countplot(data= Netflix_data_genres_series,x='listed_in')\n",
    "plt.xticks(rotation = 90)\n",
    "plt.show()\n"
   ]
  },
  {
   "attachments": {},
   "cell_type": "markdown",
   "metadata": {},
   "source": []
  },
  {
   "cell_type": "code",
   "execution_count": 2280,
   "metadata": {},
   "outputs": [
    {
     "data": {
      "text/plain": [
       "<Axes: xlabel='release_year', ylabel='Density'>"
      ]
     },
     "execution_count": 2280,
     "metadata": {},
     "output_type": "execute_result"
    },
    {
     "data": {
      "image/png": "[encoded data removed]",
      "text/plain": [
       "<Figure size 640x480 with 1 Axes>"
      ]
     },
     "metadata": {},
     "output_type": "display_data"
    }
   ],
   "source": [
    "#plotting it in a countplot according to the last 20-30 years\n",
    "sns.kdeplot(data=Netflix_data.loc[Netflix_data['release_year']> Netflix_data['release_year'].max()-30],\n",
    "              x=\"release_year\",\n",
    "              hue=\"type\")\n"
   ]
  },
  {
   "attachments": {},
   "cell_type": "markdown",
   "metadata": {},
   "source": [
    "### How has the number of movies released per year changed over the last 20-30 years?\n",
    "* From the above interpretation, The number of movies and series made have been significantly increased over time,\n",
    "*  Making TV shows is not as much as series though."
   ]
  },
  {
   "cell_type": "code",
   "execution_count": 2286,
   "metadata": {},
   "outputs": [
    {
     "data": {
      "text/plain": [
       "<Axes: xlabel='release_year', ylabel='count'>"
      ]
     },
     "execution_count": 2286,
     "metadata": {},
     "output_type": "execute_result"
    },
    {
     "data": {
      "image/png": "[encoded data removed]",
      "text/plain": [
       "<Figure size 640x480 with 1 Axes>"
      ]
     },
     "metadata": {},
     "output_type": "display_data"
    }
   ],
   "source": [
    "### Does Netflix has more focus on TV Shows than movies in recent years?\n",
    "sns.countplot(data=Netflix_data.loc[ Netflix_data['release_year']>2012],\n",
    "              x=\"release_year\",\n",
    "              hue=\"type\")\n"
   ]
  },
  {
   "attachments": {},
   "cell_type": "markdown",
   "metadata": {},
   "source": [
    "### Does Netflix has more focus on TV Shows than movies in recent years?\n",
    "* As seen in the above graph, movies have been prominent and widely created until 2019.\n",
    "* From 2020 it is observed to have surpased the number of movies made.\n",
    "* while the overall number of movies created has reduced significantly and focus is clearly on TV series as it has surpassed the number of movies created\n"
   ]
  },
  {
   "attachments": {},
   "cell_type": "markdown",
   "metadata": {},
   "source": [
    "### Understanding what content is available in different countries"
   ]
  },
  {
   "cell_type": "code",
   "execution_count": 2307,
   "metadata": {},
   "outputs": [
    {
     "data": {
      "text/plain": [
       "Index(['International Movies', 'Dramas', 'Comedies', 'Documentaries',\n",
       "       'Action & Adventure'],\n",
       "      dtype='object', name='listed_in')"
      ]
     },
     "execution_count": 2307,
     "metadata": {},
     "output_type": "execute_result"
    }
   ],
   "source": [
    "top_3_rating = Netflix_data_genres_movies[\"rating\"].value_counts().index[:3]\n",
    "top_5_genre = Netflix_data_genres_movies[\"listed_in\"].value_counts().index[:5]\n",
    "top_5_country = Netflix_data_genres_movies[\"country\"].value_counts().index[:5]\n",
    "\n",
    "top_5_genre"
   ]
  },
  {
   "cell_type": "code",
   "execution_count": 2310,
   "metadata": {},
   "outputs": [
    {
     "data": {
      "text/html": [
       "<div>\n",
       "<style scoped>\n",
       "    .dataframe tbody tr th:only-of-type {\n",
       "        vertical-align: middle;\n",
       "    }\n",
       "\n",
       "    .dataframe tbody tr th {\n",
       "        vertical-align: top;\n",
       "    }\n",
       "\n",
       "    .dataframe thead th {\n",
       "        text-align: right;\n",
       "    }\n",
       "</style>\n",
       "<table border=\"1\" class=\"dataframe\">\n",
       "  <thead>\n",
       "    <tr style=\"text-align: right;\">\n",
       "      <th></th>\n",
       "      <th>show_id</th>\n",
       "      <th>type</th>\n",
       "      <th>title</th>\n",
       "      <th>country</th>\n",
       "      <th>date_added</th>\n",
       "      <th>release_year</th>\n",
       "      <th>rating</th>\n",
       "      <th>duration</th>\n",
       "      <th>listed_in</th>\n",
       "    </tr>\n",
       "  </thead>\n",
       "  <tbody>\n",
       "    <tr>\n",
       "      <th>11</th>\n",
       "      <td>s17</td>\n",
       "      <td>Movie</td>\n",
       "      <td>Europe's Most Dangerous Man: Otto Skorzeny in ...</td>\n",
       "      <td>United States</td>\n",
       "      <td>September 22, 2021</td>\n",
       "      <td>2020</td>\n",
       "      <td>TV-MA</td>\n",
       "      <td>67</td>\n",
       "      <td>Documentaries</td>\n",
       "    </tr>\n",
       "    <tr>\n",
       "      <th>12</th>\n",
       "      <td>s17</td>\n",
       "      <td>Movie</td>\n",
       "      <td>Europe's Most Dangerous Man: Otto Skorzeny in ...</td>\n",
       "      <td>United States</td>\n",
       "      <td>September 22, 2021</td>\n",
       "      <td>2020</td>\n",
       "      <td>TV-MA</td>\n",
       "      <td>67</td>\n",
       "      <td>International Movies</td>\n",
       "    </tr>\n",
       "    <tr>\n",
       "      <th>17</th>\n",
       "      <td>s25</td>\n",
       "      <td>Movie</td>\n",
       "      <td>Jeans</td>\n",
       "      <td>India</td>\n",
       "      <td>September 21, 2021</td>\n",
       "      <td>1998</td>\n",
       "      <td>TV-14</td>\n",
       "      <td>166</td>\n",
       "      <td>Comedies</td>\n",
       "    </tr>\n",
       "    <tr>\n",
       "      <th>18</th>\n",
       "      <td>s25</td>\n",
       "      <td>Movie</td>\n",
       "      <td>Jeans</td>\n",
       "      <td>India</td>\n",
       "      <td>September 21, 2021</td>\n",
       "      <td>1998</td>\n",
       "      <td>TV-14</td>\n",
       "      <td>166</td>\n",
       "      <td>International Movies</td>\n",
       "    </tr>\n",
       "    <tr>\n",
       "      <th>30</th>\n",
       "      <td>s36</td>\n",
       "      <td>Movie</td>\n",
       "      <td>The Father Who Moves Mountains</td>\n",
       "      <td>United Kingdom</td>\n",
       "      <td>September 17, 2021</td>\n",
       "      <td>2021</td>\n",
       "      <td>TV-MA</td>\n",
       "      <td>110</td>\n",
       "      <td>Dramas</td>\n",
       "    </tr>\n",
       "    <tr>\n",
       "      <th>...</th>\n",
       "      <td>...</td>\n",
       "      <td>...</td>\n",
       "      <td>...</td>\n",
       "      <td>...</td>\n",
       "      <td>...</td>\n",
       "      <td>...</td>\n",
       "      <td>...</td>\n",
       "      <td>...</td>\n",
       "      <td>...</td>\n",
       "    </tr>\n",
       "    <tr>\n",
       "      <th>13176</th>\n",
       "      <td>s8800</td>\n",
       "      <td>Movie</td>\n",
       "      <td>Zenda</td>\n",
       "      <td>India</td>\n",
       "      <td>February 15, 2018</td>\n",
       "      <td>2009</td>\n",
       "      <td>TV-14</td>\n",
       "      <td>120</td>\n",
       "      <td>International Movies</td>\n",
       "    </tr>\n",
       "    <tr>\n",
       "      <th>13181</th>\n",
       "      <td>s8803</td>\n",
       "      <td>Movie</td>\n",
       "      <td>Zodiac</td>\n",
       "      <td>United States</td>\n",
       "      <td>November 20, 2019</td>\n",
       "      <td>2007</td>\n",
       "      <td>R</td>\n",
       "      <td>158</td>\n",
       "      <td>Dramas</td>\n",
       "    </tr>\n",
       "    <tr>\n",
       "      <th>13183</th>\n",
       "      <td>s8805</td>\n",
       "      <td>Movie</td>\n",
       "      <td>Zombieland</td>\n",
       "      <td>United States</td>\n",
       "      <td>November 1, 2019</td>\n",
       "      <td>2009</td>\n",
       "      <td>R</td>\n",
       "      <td>88</td>\n",
       "      <td>Comedies</td>\n",
       "    </tr>\n",
       "    <tr>\n",
       "      <th>13187</th>\n",
       "      <td>s8807</td>\n",
       "      <td>Movie</td>\n",
       "      <td>Zubaan</td>\n",
       "      <td>India</td>\n",
       "      <td>March 2, 2019</td>\n",
       "      <td>2015</td>\n",
       "      <td>TV-14</td>\n",
       "      <td>111</td>\n",
       "      <td>Dramas</td>\n",
       "    </tr>\n",
       "    <tr>\n",
       "      <th>13188</th>\n",
       "      <td>s8807</td>\n",
       "      <td>Movie</td>\n",
       "      <td>Zubaan</td>\n",
       "      <td>India</td>\n",
       "      <td>March 2, 2019</td>\n",
       "      <td>2015</td>\n",
       "      <td>TV-14</td>\n",
       "      <td>111</td>\n",
       "      <td>International Movies</td>\n",
       "    </tr>\n",
       "  </tbody>\n",
       "</table>\n",
       "<p>3394 rows × 9 columns</p>\n",
       "</div>"
      ],
      "text/plain": [
       "      show_id   type                                              title   \n",
       "11        s17  Movie  Europe's Most Dangerous Man: Otto Skorzeny in ...  \\\n",
       "12        s17  Movie  Europe's Most Dangerous Man: Otto Skorzeny in ...   \n",
       "17        s25  Movie                                              Jeans   \n",
       "18        s25  Movie                                              Jeans   \n",
       "30        s36  Movie                     The Father Who Moves Mountains   \n",
       "...       ...    ...                                                ...   \n",
       "13176   s8800  Movie                                              Zenda   \n",
       "13181   s8803  Movie                                             Zodiac   \n",
       "13183   s8805  Movie                                         Zombieland   \n",
       "13187   s8807  Movie                                             Zubaan   \n",
       "13188   s8807  Movie                                             Zubaan   \n",
       "\n",
       "              country          date_added  release_year rating  duration   \n",
       "11      United States  September 22, 2021          2020  TV-MA        67  \\\n",
       "12      United States  September 22, 2021          2020  TV-MA        67   \n",
       "17              India  September 21, 2021          1998  TV-14       166   \n",
       "18              India  September 21, 2021          1998  TV-14       166   \n",
       "30     United Kingdom  September 17, 2021          2021  TV-MA       110   \n",
       "...               ...                 ...           ...    ...       ...   \n",
       "13176           India   February 15, 2018          2009  TV-14       120   \n",
       "13181   United States   November 20, 2019          2007      R       158   \n",
       "13183   United States    November 1, 2019          2009      R        88   \n",
       "13187           India       March 2, 2019          2015  TV-14       111   \n",
       "13188           India       March 2, 2019          2015  TV-14       111   \n",
       "\n",
       "                  listed_in  \n",
       "11            Documentaries  \n",
       "12     International Movies  \n",
       "17                 Comedies  \n",
       "18     International Movies  \n",
       "30                   Dramas  \n",
       "...                     ...  \n",
       "13176  International Movies  \n",
       "13181                Dramas  \n",
       "13183              Comedies  \n",
       "13187                Dramas  \n",
       "13188  International Movies  \n",
       "\n",
       "[3394 rows x 9 columns]"
      ]
     },
     "execution_count": 2310,
     "metadata": {},
     "output_type": "execute_result"
    }
   ],
   "source": [
    "top10_data = Netflix_data_genres_movies.loc[Netflix_data_genres_movies[\"rating\"].isin(top_3_rating) & Netflix_data_genres_movies[\"listed_in\"].isin(top_5_genre) & Netflix_data_genres_movies[\"country\"].isin(top_5_country)]\n",
    "top10_data"
   ]
  },
  {
   "cell_type": "code",
   "execution_count": 2311,
   "metadata": {},
   "outputs": [
    {
     "data": {
      "text/plain": [
       "<Axes: xlabel='country', ylabel='count'>"
      ]
     },
     "execution_count": 2311,
     "metadata": {},
     "output_type": "execute_result"
    },
    {
     "data": {
      "image/png": "[encoded data removed]",
      "text/plain": [
       "<Figure size 640x480 with 1 Axes>"
      ]
     },
     "metadata": {},
     "output_type": "display_data"
    }
   ],
   "source": [
    "sns.countplot(data=top10_data,\n",
    "              x=\"country\",\n",
    "              hue=\"listed_in\")"
   ]
  },
  {
   "cell_type": "code",
   "execution_count": 2315,
   "metadata": {},
   "outputs": [
    {
     "data": {
      "text/plain": [
       "<Axes: xlabel='country'>"
      ]
     },
     "execution_count": 2315,
     "metadata": {},
     "output_type": "execute_result"
    },
    {
     "data": {
      "image/png": "[encoded data removed]",
      "text/plain": [
       "<Figure size 640x480 with 1 Axes>"
      ]
     },
     "metadata": {},
     "output_type": "display_data"
    }
   ],
   "source": [
    "#Recommended way is stacked bar chat\n",
    "df_plot= top10_data.groupby(['rating','country']).size().reset_index().pivot(columns=\"rating\",index='country',values= 0)\n",
    "df_plot\n",
    "df_plot.plot(kind='bar',stacked=True)"
   ]
  },
  {
   "cell_type": "code",
   "execution_count": null,
   "metadata": {},
   "outputs": [],
   "source": [
    "#Bivariate \n",
    "sns.boxplot(data=top10_data,x=\"Country\",y=\"Global_Sales\")"
   ]
  },
  {
   "cell_type": "code",
   "execution_count": null,
   "metadata": {},
   "outputs": [],
   "source": [
    "\n",
    "Netflix_data_series['duration'] = Netflix_data_series['duration'].astype('int')\n",
    "sns.boxplot( y = 'duration',x = 'release_year' ,data = Netflix_data_series[Netflix_data_series['release_year']>2011])\n"
   ]
  },
  {
   "attachments": {},
   "cell_type": "markdown",
   "metadata": {},
   "source": [
    "### What type of content is available in different countries?"
   ]
  },
  {
   "cell_type": "code",
   "execution_count": 1692,
   "metadata": {},
   "outputs": [
    {
     "data": {
      "text/html": [
       "<div>\n",
       "<style scoped>\n",
       "    .dataframe tbody tr th:only-of-type {\n",
       "        vertical-align: middle;\n",
       "    }\n",
       "\n",
       "    .dataframe tbody tr th {\n",
       "        vertical-align: top;\n",
       "    }\n",
       "\n",
       "    .dataframe thead th {\n",
       "        text-align: right;\n",
       "    }\n",
       "</style>\n",
       "<table border=\"1\" class=\"dataframe\">\n",
       "  <thead>\n",
       "    <tr style=\"text-align: right;\">\n",
       "      <th></th>\n",
       "      <th>show_id</th>\n",
       "      <th>type</th>\n",
       "      <th>title</th>\n",
       "      <th>director</th>\n",
       "      <th>cast</th>\n",
       "      <th>country</th>\n",
       "      <th>date_added</th>\n",
       "      <th>release_year</th>\n",
       "      <th>rating</th>\n",
       "      <th>duration</th>\n",
       "      <th>listed_in</th>\n",
       "      <th>description</th>\n",
       "    </tr>\n",
       "  </thead>\n",
       "  <tbody>\n",
       "  </tbody>\n",
       "</table>\n",
       "</div>"
      ],
      "text/plain": [
       "Empty DataFrame\n",
       "Columns: [show_id, type, title, director, cast, country, date_added, release_year, rating, duration, listed_in, description]\n",
       "Index: []"
      ]
     },
     "execution_count": 1692,
     "metadata": {},
     "output_type": "execute_result"
    }
   ],
   "source": [
    "#Since we have comma seperated values for country column\n",
    "Netflix_data[\"country\"] = Netflix_data[\"country\"].str.split(',')\n",
    "\n",
    "Netflix_data = Netflix_data.explode('country',ignore_index=True)\n",
    "Netflix_data[\"country\"] = Netflix_data[\"country\"].str.strip()\n",
    "Netflix_data[Netflix_data[\"country\"]==\" United States\"]"
   ]
  },
  {
   "cell_type": "code",
   "execution_count": 1693,
   "metadata": {},
   "outputs": [
    {
     "data": {
      "text/plain": [
       "country\n",
       "United States     4055\n",
       "India             1155\n",
       "United Kingdom     882\n",
       "Canada             486\n",
       "France             425\n",
       "                  ... \n",
       "Kazakhstan           1\n",
       "Jamaica              1\n",
       "Slovakia             1\n",
       "Somalia              1\n",
       "Liechtenstein        1\n",
       "Length: 123, dtype: int64"
      ]
     },
     "execution_count": 1693,
     "metadata": {},
     "output_type": "execute_result"
    }
   ],
   "source": [
    "# Top 10 content is produced by the following countries\n",
    "Netflix_top_countries = Netflix_data.groupby('country').size().sort_values(ascending=False)\n",
    "Netflix_top_countries"
   ]
  },
  {
   "cell_type": "code",
   "execution_count": 1694,
   "metadata": {},
   "outputs": [
    {
     "data": {
      "text/plain": [
       "listed_in\n",
       "International Movies        3559\n",
       "Dramas                      3235\n",
       "Comedies                    2003\n",
       "International TV Shows      1512\n",
       "Action & Adventure          1186\n",
       "Documentaries               1132\n",
       "Independent Movies          1043\n",
       "Children & Family Movies     879\n",
       "TV Dramas                    872\n",
       "Thrillers                    810\n",
       "dtype: int64"
      ]
     },
     "execution_count": 1694,
     "metadata": {},
     "output_type": "execute_result"
    }
   ],
   "source": [
    "# Top 10 genres is produced by the following countries\n",
    "#Since we have comma seperated values for country column\n",
    "Netflix_data_genres = Netflix_data\n",
    "Netflix_data_genres[\"listed_in\"] = Netflix_data_genres[\"listed_in\"].str.split(',')\n",
    "\n",
    "Netflix_data_genres = Netflix_data_genres.explode('listed_in',ignore_index=True)\n",
    "Netflix_data_genres[\"listed_in\"] = Netflix_data_genres[\"listed_in\"].str.strip()\n",
    "Netflix_top_genres = Netflix_data_genres.groupby('listed_in').size().sort_values(ascending=False)\n",
    "Netflix_top_genres[:10]"
   ]
  },
  {
   "cell_type": "code",
   "execution_count": 1695,
   "metadata": {},
   "outputs": [
    {
     "data": {
      "text/plain": [
       "release_year\n",
       "1925       1\n",
       "1947       1\n",
       "1959       1\n",
       "1966       1\n",
       "1969       2\n",
       "        ... \n",
       "2020    1082\n",
       "2016    1165\n",
       "2019    1232\n",
       "2017    1299\n",
       "2018    1440\n",
       "Length: 74, dtype: int64"
      ]
     },
     "execution_count": 1695,
     "metadata": {},
     "output_type": "execute_result"
    }
   ],
   "source": [
    "# How has the number of movies released per year changed over the last 20-30 years?\n",
    "Movies_release_year_counts = Netflix_data.groupby('release_year').size().sort_values()\n",
    "\n",
    "Movies_release_year_counts[]\n"
   ]
  },
  {
   "cell_type": "code",
   "execution_count": 1361,
   "metadata": {},
   "outputs": [],
   "source": [
    "# Comparison of tv shows vs. movies.\n",
    "\n"
   ]
  },
  {
   "attachments": {},
   "cell_type": "markdown",
   "metadata": {},
   "source": [
    "#### Visual Analysis - Univariate, Bivariate after pre-processing of the data"
   ]
  },
  {
   "cell_type": "code",
   "execution_count": 1696,
   "metadata": {},
   "outputs": [
    {
     "data": {
      "image/png": "[encoded data removed]",
      "text/plain": [
       "<Figure size 640x480 with 1 Axes>"
      ]
     },
     "metadata": {},
     "output_type": "display_data"
    }
   ],
   "source": [
    "# What is the best time to launch a TV show?\n",
    "sns.countplot(data=Netflix_data,\n",
    "              x = \"release_year\",\n",
    "              order = Netflix_data[\"release_year\"].value_counts(\"release_year\")[:30].index, color = \"orange\",hue=\"type\")\n",
    "plt.xticks(rotation = 90)\n",
    "\n",
    "plt.show()\n",
    "#Does Netflix has more focus on TV Shows than movies in recent years?\n",
    "# As seen below the best time to launch a TV show was after 2014, that's when TV shows really took off and most are made."
   ]
  },
  {
   "cell_type": "code",
   "execution_count": 1697,
   "metadata": {},
   "outputs": [
    {
     "data": {
      "text/plain": [
       "<Axes: xlabel='release_year', ylabel='Count'>"
      ]
     },
     "execution_count": 1697,
     "metadata": {},
     "output_type": "execute_result"
    },
    {
     "data": {
      "image/png": "[encoded data removed]",
      "text/plain": [
       "<Figure size 640x480 with 1 Axes>"
      ]
     },
     "metadata": {},
     "output_type": "display_data"
    }
   ],
   "source": [
    "#histogram\n",
    "\n",
    "sns.histplot(data = Netflix_data[Netflix_data[\"release_year\"]>2012], x = \"release_year\", kde = True,hue=\"type\")\n"
   ]
  },
  {
   "cell_type": "code",
   "execution_count": 1698,
   "metadata": {},
   "outputs": [
    {
     "data": {
      "image/png": "[encoded data removed]",
      "text/plain": [
       "<Figure size 640x480 with 1 Axes>"
      ]
     },
     "metadata": {},
     "output_type": "display_data"
    }
   ],
   "source": [
    "plot = sns.distplot(Netflix_data[\"release_year\"],kde=True)\n",
    "plt.show()"
   ]
  },
  {
   "cell_type": "code",
   "execution_count": 1699,
   "metadata": {},
   "outputs": [
    {
     "data": {
      "text/plain": [
       "<Axes: xlabel='type', ylabel='count'>"
      ]
     },
     "execution_count": 1699,
     "metadata": {},
     "output_type": "execute_result"
    },
    {
     "data": {
      "image/png": "[encoded data removed]",
      "text/plain": [
       "<Figure size 640x480 with 1 Axes>"
      ]
     },
     "metadata": {},
     "output_type": "display_data"
    }
   ],
   "source": [
    "#Comparison of tv shows vs. movies.\n",
    "sns.countplot(data=Netflix_data,x='type')"
   ]
  },
  {
   "cell_type": "code",
   "execution_count": 1700,
   "metadata": {},
   "outputs": [
    {
     "data": {
      "image/png": "[encoded data removed]",
      "text/plain": [
       "<Figure size 640x480 with 1 Axes>"
      ]
     },
     "metadata": {},
     "output_type": "display_data"
    }
   ],
   "source": [
    "\n",
    "sns.countplot(data=Netflix_data,x='rating')\n",
    "plt.xticks(rotation = 90)\n",
    "plt.show()"
   ]
  },
  {
   "cell_type": "code",
   "execution_count": 1367,
   "metadata": {},
   "outputs": [],
   "source": [
    "#Comparison of tv shows vs. movies."
   ]
  },
  {
   "cell_type": "code",
   "execution_count": null,
   "metadata": {},
   "outputs": [],
   "source": []
  },
  {
   "cell_type": "code",
   "execution_count": null,
   "metadata": {},
   "outputs": [],
   "source": []
  }
 ],
 "metadata": {
  "kernelspec": {
   "display_name": "Python 3",
   "language": "python",
   "name": "python3"
  },
  "language_info": {
   "codemirror_mode": {
    "name": "ipython",
    "version": 3
   },
   "file_extension": ".py",
   "mimetype": "text/x-python",
   "name": "python",
   "nbconvert_exporter": "python",
   "pygments_lexer": "ipython3",
   "version": "3.8.2"
  },
  "orig_nbformat": 4
 },
 "nbformat": 4,
 "nbformat_minor": 2
}
