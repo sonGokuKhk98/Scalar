{
  "nbformat": 4,
  "nbformat_minor": 0,
  "metadata": {
    "colab": {
      "provenance": [],
      "collapsed_sections": [
        "TZrYGOWMPI9y",
        "y_O1_wML_nhd",
        "b8dd9db1",
        "52744909",
        "gQrkfGiiXoXm",
        "lb3IHOGBubdj",
        "sA_sriWn78BE",
        "2d8812bf",
        "19821967",
        "11Dr_W_3amLs",
        "lp1ibek_6rnv",
        "4EU_MB-36vLh",
        "852f5fef",
        "fX5anEI6DbVY",
        "kDcvoihzGuWv",
        "tinSTUn2b2w-",
        "73a58ef3",
        "b15f761e",
        "_5TCkAWWcIgQ",
        "biW_v9aVFbnd",
        "90gtoH4bGM8R",
        "2k61PgsmH7jN",
        "v3zFcoK3fTau",
        "l5K2VX7NCTW5",
        "vGpJQYPhCiOj",
        "CIJxGP8QBvNA",
        "OE0pOAZdDdi6"
      ],
      "toc_visible": true
    },
    "kernelspec": {
      "name": "python3",
      "display_name": "Python 3"
    },
    "language_info": {
      "name": "python"
    }
  },
  "cells": [
    {
      "cell_type": "markdown",
      "source": [
        "## Outline\n",
        "  - **Uses/necessity of matplotlib**\n",
        "  - Tencent Use Case\n",
        "  - **Anatomy**\n",
        "    - Figure    \n",
        "  - Types of Data visualization\n",
        "  - Univariate Data Visualization\n",
        "    - Categorical:\n",
        "      - Bar chart\n",
        "      - Countplot\n",
        "      - Pie Chart\n",
        "    - Continous\n",
        "      - Histogram\n",
        "      - KDE\n",
        "      - Box and Whiskers Plot\n",
        "\n"
      ],
      "metadata": {
        "id": "IYD-NoUVg7_j"
      }
    },
    {
      "cell_type": "markdown",
      "source": [
        "#### Plots Presentation:\n",
        "https://docs.google.com/presentation/d/1DkLTjTe6YmGbDHtr4v9Jso553DlCuP3cfSnwvUN1mgE/edit?usp=sharing"
      ],
      "metadata": {
        "id": "TZrYGOWMPI9y"
      }
    },
    {
      "cell_type": "markdown",
      "source": [
        "#### Summary/Agenda\n",
        "\n",
        "#### Where is all Data Visualization helpful? Why?\n",
        "\n",
        "- Exploratory - EDA\n",
        "- Explanatory - Storytelling\n",
        "\n",
        "#### What is the Science in Data Visualization?\n",
        "- Anatomy of a plot/chart\n",
        "- How to use the right plot/chart for given data?\n",
        "\n",
        "#### What is the Art in Data Visualization?\n",
        "- Choose the right scale, labels, tick labels\n",
        "- Identify and remove clutters in the plot\n",
        "- Ways to highlight information in the plot\n",
        "\n",
        "\n",
        "\n"
      ],
      "metadata": {
        "id": "y_O1_wML_nhd"
      }
    },
    {
      "cell_type": "markdown",
      "metadata": {
        "id": "b8dd9db1"
      },
      "source": [
        "### Importing Matplotlib and Seaborn \n",
        "We don't need to import the entire library but just its submodule `pyplot`\n",
        "  \n",
        "We'll use the **alias name `plt`**\n",
        "\n",
        "#### What is `pyplot`?  \n",
        "  - `pyplot` is a **sub-module for visualization** in `matplotlib` \n",
        "  - Think of it as **high-level API** which **makes plotting an easy task**\n",
        "  - Data Scientists **stick to using `pyplot` only unless** they want to create **something totally new**.\n",
        "\n",
        "For seaborn, we will be importing the whole seaborn library as alias `sns`\n",
        "\n",
        "#### What is seaborn?\n",
        "\n",
        "Seaborn is another visualization library which uses matplotlib in the backend for plotting\n",
        "\n",
        "#### What is the major difference then between both matplotlib and seaborn?\n",
        "\n",
        "- Seaborn uses **fascinating themes** and **reduces number of code lines** by doing a lot of work in the backend\n",
        "- While matplotlib is used to **plot basic plots and add more functionlaity** on top of that\n",
        "- Seaborn is built on the top of Pandas and Matplotlib\n",
        "\n",
        "As we proceed through the lecture, we will see the difference between both the libraries\n",
        "\n",
        "\n",
        "\n",
        "\n",
        "\n"
      ]
    },
    {
      "cell_type": "code",
      "execution_count": null,
      "metadata": {
        "id": "aa22378f"
      },
      "outputs": [],
      "source": [
        "import matplotlib.pyplot as plt\n",
        "import seaborn as sns"
      ]
    },
    {
      "cell_type": "markdown",
      "metadata": {
        "id": "52744909"
      },
      "source": [
        "Before we dive into learning these libraries, lets answer some general questions\n",
        "\n",
        "#### Why do even we need to visualize data? When do I even need to visualise?\n",
        "\n",
        "  <!-- - It helps us to understand the data in a **pictorial format**\n",
        "\n",
        "  - It's **extensively used in Exploratory Data Analysis**\n",
        "\n",
        "  - And also to **present peformance results of our models** -->\n",
        "Two reasons/scopes \n",
        "\n",
        "- **Exploratory**  - I can’t see certain patterns just by crunching numbers (avg, rates, %ages)\n",
        "- **Explanatory** -  I can the numbers crunches and insights ready, but I’d like a visual art for storytelling\n",
        "\n",
        "***\n"
      ]
    },
    {
      "cell_type": "markdown",
      "source": [
        "Lets talk about Science of Data Visualisation \n",
        "\n",
        "#### Data\n",
        "- Rows: Samples, Data-points, Records\n",
        "- Columns: Features, Variables\n",
        "\n",
        "#### How many kinds of data do we have?\n",
        "\n",
        "At the fundamental level, it's just two types:\n",
        "- Numerical/Continous \n",
        "- Categorical\n",
        "\n",
        "Categorical can be further divided into:\n",
        "  - **Ordinal:** Categorical Data with an order (E.g. low, medium, high)\n",
        "  - **Non-ordinal/nominal:** Categorical Data without any order (example gender as Male/Female)\n",
        "\n",
        "<!-- So we can start by visualizing this data, one at a time -->\n",
        "\n",
        "<!-- #### What is analyzing a single feature/column is called?\n",
        "\n",
        "**Univariate Analysis** -->\n"
      ],
      "metadata": {
        "id": "gQrkfGiiXoXm"
      }
    },
    {
      "cell_type": "markdown",
      "source": [
        "## Video Games Analysis\n",
        "\n",
        "You are a data scientist at \"Tencent Games\". \\\n",
        "\n",
        "You need to analyze what kind of games they should start creating to get higher success in the market. \\\n"
      ],
      "metadata": {
        "id": "lb3IHOGBubdj"
      }
    },
    {
      "cell_type": "code",
      "source": [
        "!wget https://d2beiqkhq929f0.cloudfront.net/public_assets/assets/000/021/299/original/final_vg1_-_final_vg_%281%29.csv?1670840166 -O final_vg.csv"
      ],
      "metadata": {
        "colab": {
          "base_uri": "https://localhost:8080/"
        },
        "id": "ltqN16y-FKSq",
        "outputId": "360eb660-c625-475e-9914-e242a616be34"
      },
      "execution_count": null,
      "outputs": [
        {
          "output_type": "stream",
          "name": "stdout",
          "text": [
            "--2022-12-12 10:16:41--  https://d2beiqkhq929f0.cloudfront.net/public_assets/assets/000/021/299/original/final_vg1_-_final_vg_%281%29.csv?1670840166\n",
            "Resolving d2beiqkhq929f0.cloudfront.net (d2beiqkhq929f0.cloudfront.net)... 13.226.251.24, 13.226.251.62, 13.226.251.107, ...\n",
            "Connecting to d2beiqkhq929f0.cloudfront.net (d2beiqkhq929f0.cloudfront.net)|13.226.251.24|:443... connected.\n",
            "HTTP request sent, awaiting response... 200 OK\n",
            "Length: 2041483 (1.9M) [text/plain]\n",
            "Saving to: ‘final_vg.csv’\n",
            "\n",
            "final_vg.csv        100%[===================>]   1.95M  1.42MB/s    in 1.4s    \n",
            "\n",
            "2022-12-12 10:16:43 (1.42 MB/s) - ‘final_vg.csv’ saved [2041483/2041483]\n",
            "\n"
          ]
        }
      ]
    },
    {
      "cell_type": "code",
      "source": [
        "import pandas as pd\n",
        "import numpy as np\n",
        "data = pd.read_csv('final_vg.csv')\n",
        "data.head()"
      ],
      "metadata": {
        "colab": {
          "base_uri": "https://localhost:8080/",
          "height": 392
        },
        "id": "sTp1pk3hwLvc",
        "outputId": "0613dac1-4521-41f7-ea50-11fb74f925f4"
      },
      "execution_count": null,
      "outputs": [
        {
          "output_type": "execute_result",
          "data": {
            "text/plain": [
              "    Rank                               Name Platform    Year         Genre  \\\n",
              "0   2061                               1942      NES  1985.0       Shooter   \n",
              "1   9137       ¡Shin Chan Flipa en colores!       DS  2007.0      Platform   \n",
              "2  14279  .hack: Sekai no Mukou ni + Versus      PS3  2012.0        Action   \n",
              "3   8359         .hack//G.U. Vol.1//Rebirth      PS2  2006.0  Role-Playing   \n",
              "4   7109       .hack//G.U. Vol.2//Reminisce      PS2  2006.0  Role-Playing   \n",
              "\n",
              "            Publisher  NA_Sales  EU_Sales  JP_Sales  Other_Sales  Global_Sales  \n",
              "0              Capcom  4.569217  3.033887  3.439352     1.991671     12.802935  \n",
              "1           505 Games  2.076955  1.493442  3.033887     0.394830      7.034163  \n",
              "2  Namco Bandai Games  1.145709  1.762339  1.493442     0.408693      4.982552  \n",
              "3  Namco Bandai Games  2.031986  1.389856  3.228043     0.394830      7.226880  \n",
              "4  Namco Bandai Games  2.792725  2.592054  1.440483     1.493442      8.363113  "
            ],
            "text/html": [
              "\n",
              "  <div id=\"df-b9a8f4d1-dcc5-4f8c-b899-c4ae11294bb8\">\n",
              "    <div class=\"colab-df-container\">\n",
              "      <div>\n",
              "<style scoped>\n",
              "    .dataframe tbody tr th:only-of-type {\n",
              "        vertical-align: middle;\n",
              "    }\n",
              "\n",
              "    .dataframe tbody tr th {\n",
              "        vertical-align: top;\n",
              "    }\n",
              "\n",
              "    .dataframe thead th {\n",
              "        text-align: right;\n",
              "    }\n",
              "</style>\n",
              "<table border=\"1\" class=\"dataframe\">\n",
              "  <thead>\n",
              "    <tr style=\"text-align: right;\">\n",
              "      <th></th>\n",
              "      <th>Rank</th>\n",
              "      <th>Name</th>\n",
              "      <th>Platform</th>\n",
              "      <th>Year</th>\n",
              "      <th>Genre</th>\n",
              "      <th>Publisher</th>\n",
              "      <th>NA_Sales</th>\n",
              "      <th>EU_Sales</th>\n",
              "      <th>JP_Sales</th>\n",
              "      <th>Other_Sales</th>\n",
              "      <th>Global_Sales</th>\n",
              "    </tr>\n",
              "  </thead>\n",
              "  <tbody>\n",
              "    <tr>\n",
              "      <th>0</th>\n",
              "      <td>2061</td>\n",
              "      <td>1942</td>\n",
              "      <td>NES</td>\n",
              "      <td>1985.0</td>\n",
              "      <td>Shooter</td>\n",
              "      <td>Capcom</td>\n",
              "      <td>4.569217</td>\n",
              "      <td>3.033887</td>\n",
              "      <td>3.439352</td>\n",
              "      <td>1.991671</td>\n",
              "      <td>12.802935</td>\n",
              "    </tr>\n",
              "    <tr>\n",
              "      <th>1</th>\n",
              "      <td>9137</td>\n",
              "      <td>¡Shin Chan Flipa en colores!</td>\n",
              "      <td>DS</td>\n",
              "      <td>2007.0</td>\n",
              "      <td>Platform</td>\n",
              "      <td>505 Games</td>\n",
              "      <td>2.076955</td>\n",
              "      <td>1.493442</td>\n",
              "      <td>3.033887</td>\n",
              "      <td>0.394830</td>\n",
              "      <td>7.034163</td>\n",
              "    </tr>\n",
              "    <tr>\n",
              "      <th>2</th>\n",
              "      <td>14279</td>\n",
              "      <td>.hack: Sekai no Mukou ni + Versus</td>\n",
              "      <td>PS3</td>\n",
              "      <td>2012.0</td>\n",
              "      <td>Action</td>\n",
              "      <td>Namco Bandai Games</td>\n",
              "      <td>1.145709</td>\n",
              "      <td>1.762339</td>\n",
              "      <td>1.493442</td>\n",
              "      <td>0.408693</td>\n",
              "      <td>4.982552</td>\n",
              "    </tr>\n",
              "    <tr>\n",
              "      <th>3</th>\n",
              "      <td>8359</td>\n",
              "      <td>.hack//G.U. Vol.1//Rebirth</td>\n",
              "      <td>PS2</td>\n",
              "      <td>2006.0</td>\n",
              "      <td>Role-Playing</td>\n",
              "      <td>Namco Bandai Games</td>\n",
              "      <td>2.031986</td>\n",
              "      <td>1.389856</td>\n",
              "      <td>3.228043</td>\n",
              "      <td>0.394830</td>\n",
              "      <td>7.226880</td>\n",
              "    </tr>\n",
              "    <tr>\n",
              "      <th>4</th>\n",
              "      <td>7109</td>\n",
              "      <td>.hack//G.U. Vol.2//Reminisce</td>\n",
              "      <td>PS2</td>\n",
              "      <td>2006.0</td>\n",
              "      <td>Role-Playing</td>\n",
              "      <td>Namco Bandai Games</td>\n",
              "      <td>2.792725</td>\n",
              "      <td>2.592054</td>\n",
              "      <td>1.440483</td>\n",
              "      <td>1.493442</td>\n",
              "      <td>8.363113</td>\n",
              "    </tr>\n",
              "  </tbody>\n",
              "</table>\n",
              "</div>\n",
              "      <button class=\"colab-df-convert\" onclick=\"convertToInteractive('df-b9a8f4d1-dcc5-4f8c-b899-c4ae11294bb8')\"\n",
              "              title=\"Convert this dataframe to an interactive table.\"\n",
              "              style=\"display:none;\">\n",
              "        \n",
              "  <svg xmlns=\"http://www.w3.org/2000/svg\" height=\"24px\"viewBox=\"0 0 24 24\"\n",
              "       width=\"24px\">\n",
              "    <path d=\"M0 0h24v24H0V0z\" fill=\"none\"/>\n",
              "    <path d=\"M18.56 5.44l.94 2.06.94-2.06 2.06-.94-2.06-.94-.94-2.06-.94 2.06-2.06.94zm-11 1L8.5 8.5l.94-2.06 2.06-.94-2.06-.94L8.5 2.5l-.94 2.06-2.06.94zm10 10l.94 2.06.94-2.06 2.06-.94-2.06-.94-.94-2.06-.94 2.06-2.06.94z\"/><path d=\"M17.41 7.96l-1.37-1.37c-.4-.4-.92-.59-1.43-.59-.52 0-1.04.2-1.43.59L10.3 9.45l-7.72 7.72c-.78.78-.78 2.05 0 2.83L4 21.41c.39.39.9.59 1.41.59.51 0 1.02-.2 1.41-.59l7.78-7.78 2.81-2.81c.8-.78.8-2.07 0-2.86zM5.41 20L4 18.59l7.72-7.72 1.47 1.35L5.41 20z\"/>\n",
              "  </svg>\n",
              "      </button>\n",
              "      \n",
              "  <style>\n",
              "    .colab-df-container {\n",
              "      display:flex;\n",
              "      flex-wrap:wrap;\n",
              "      gap: 12px;\n",
              "    }\n",
              "\n",
              "    .colab-df-convert {\n",
              "      background-color: #E8F0FE;\n",
              "      border: none;\n",
              "      border-radius: 50%;\n",
              "      cursor: pointer;\n",
              "      display: none;\n",
              "      fill: #1967D2;\n",
              "      height: 32px;\n",
              "      padding: 0 0 0 0;\n",
              "      width: 32px;\n",
              "    }\n",
              "\n",
              "    .colab-df-convert:hover {\n",
              "      background-color: #E2EBFA;\n",
              "      box-shadow: 0px 1px 2px rgba(60, 64, 67, 0.3), 0px 1px 3px 1px rgba(60, 64, 67, 0.15);\n",
              "      fill: #174EA6;\n",
              "    }\n",
              "\n",
              "    [theme=dark] .colab-df-convert {\n",
              "      background-color: #3B4455;\n",
              "      fill: #D2E3FC;\n",
              "    }\n",
              "\n",
              "    [theme=dark] .colab-df-convert:hover {\n",
              "      background-color: #434B5C;\n",
              "      box-shadow: 0px 1px 3px 1px rgba(0, 0, 0, 0.15);\n",
              "      filter: drop-shadow(0px 1px 2px rgba(0, 0, 0, 0.3));\n",
              "      fill: #FFFFFF;\n",
              "    }\n",
              "  </style>\n",
              "\n",
              "      <script>\n",
              "        const buttonEl =\n",
              "          document.querySelector('#df-b9a8f4d1-dcc5-4f8c-b899-c4ae11294bb8 button.colab-df-convert');\n",
              "        buttonEl.style.display =\n",
              "          google.colab.kernel.accessAllowed ? 'block' : 'none';\n",
              "\n",
              "        async function convertToInteractive(key) {\n",
              "          const element = document.querySelector('#df-b9a8f4d1-dcc5-4f8c-b899-c4ae11294bb8');\n",
              "          const dataTable =\n",
              "            await google.colab.kernel.invokeFunction('convertToInteractive',\n",
              "                                                     [key], {});\n",
              "          if (!dataTable) return;\n",
              "\n",
              "          const docLinkHtml = 'Like what you see? Visit the ' +\n",
              "            '<a target=\"_blank\" href=https://colab.research.google.com/notebooks/data_table.ipynb>data table notebook</a>'\n",
              "            + ' to learn more about interactive tables.';\n",
              "          element.innerHTML = '';\n",
              "          dataTable['output_type'] = 'display_data';\n",
              "          await google.colab.output.renderOutput(dataTable, element);\n",
              "          const docLink = document.createElement('div');\n",
              "          docLink.innerHTML = docLinkHtml;\n",
              "          element.appendChild(docLink);\n",
              "        }\n",
              "      </script>\n",
              "    </div>\n",
              "  </div>\n",
              "  "
            ]
          },
          "metadata": {},
          "execution_count": 47
        }
      ]
    },
    {
      "cell_type": "markdown",
      "source": [
        "If you notice, \n",
        "\n",
        "- Columns like `Platform`, `Genre` are categorical\n",
        "- While columns like `NA_Sales`, `Global_Sales`, `Rank` are continuous \n",
        "\n",
        "On noticing further,\n",
        "- `Platform` is of nominal type, no proper order between the categories\n",
        "- `Year` is of ordinal type, there's a order to the categories"
      ],
      "metadata": {
        "id": "iTT7bJ_0YRQs"
      }
    },
    {
      "cell_type": "markdown",
      "source": [
        "### Introduction to Matplotlib\n",
        "\n",
        "#### Lets learn to create a basic plot using plt\n",
        "\n",
        "Now say, we want to draw a curve passing through 3 points:\n",
        "  - (0, 3)\n",
        "  - (1, 5)\n",
        "  - (2, 9)\n",
        "\n",
        "#### How can we draw a curve using matplotlib ?\n",
        "\n",
        "By using `plt.plot() function`"
      ],
      "metadata": {
        "id": "sA_sriWn78BE"
      }
    },
    {
      "cell_type": "code",
      "execution_count": null,
      "metadata": {
        "scrolled": true,
        "colab": {
          "base_uri": "https://localhost:8080/",
          "height": 283
        },
        "id": "414089ff",
        "outputId": "506b11b7-2e40-439f-d0d4-25085ba5769a"
      },
      "outputs": [
        {
          "output_type": "execute_result",
          "data": {
            "text/plain": [
              "[<matplotlib.lines.Line2D at 0x7fcb8faf4790>]"
            ]
          },
          "metadata": {},
          "execution_count": 48
        },
        {
          "output_type": "display_data",
          "data": {
            "text/plain": [
              "<Figure size 432x288 with 1 Axes>"
            ],
            "image/png": "[encoded data removed]"
          },
          "metadata": {
            "needs_background": "light"
          }
        }
      ],
      "source": [
        "x_val = [0, 1, 2]\n",
        "y_val = [3, 5, 9]\n",
        "plt.plot(x_val, y_val)"
      ]
    },
    {
      "cell_type": "markdown",
      "metadata": {
        "id": "2d8812bf"
      },
      "source": [
        "#### What can we observe from this plot ?\n",
        "  \n",
        "  - `plt.plot()` automatically decided the scale of the plot\n",
        "  \n",
        "  - It also prints the **type of object** `matplotlib.lines.Line2D`\n",
        "\n",
        "While this command decided a lot of things for you, you can customise each of these by understanding **components of a matplotlib plot**\n",
        "\n",
        "\n"
      ]
    },
    {
      "cell_type": "markdown",
      "metadata": {
        "id": "19821967"
      },
      "source": [
        "## Anatomy of Matplotlib\n",
        "\n",
        "<!-- <img src=\"https://d2beiqkhq929f0.cloudfront.net/public_assets/assets/000/019/567/original/image_2022-11-10_121820129.png?1668062911\"> -->\n",
        "\n",
        "\n",
        "<!-- <img src=\"https://files.realpython.com/media/fig_map.bc8c7cabd823.png\" />\n",
        "<img src=\"https://d2beiqkhq929f0.cloudfront.net/public_assets/assets/000/019/579/original/image_2022-11-10_150131378.png?1668072693\"> -->\n",
        "\n",
        "<img src=\"https://d2beiqkhq929f0.cloudfront.net/public_assets/assets/000/019/615/original/image_2022-11-11_112008033.png?1668145811\">\n",
        "\n",
        "Woah! There is a lot of information in this image. Let's understand them one at a time.\n",
        "\n",
        "\n",
        "- Figure: The **overall window** or page that everything is drawn on.\n",
        "  - You can create multiple independent Figures in Jupyter.\n",
        "  - If you run the code in terminal, separate windows will pop-up\n",
        "\n",
        "- Axes: To the figure you can add multiple **Axes** which represents a plot\n",
        "- **Axis**: Simply the `x-axis` and `y-axis`\n",
        "- **Axes**: - It is the **area** on which the **data is plotted** with functions such as `plot()`\n",
        "    - **x-label**: Name of x-axis\n",
        "    - **y-label**: Name of y-axis \n",
        "    - **Major ticks**: subdivides the axis into major units. They appear by default during plotting\n",
        "- **Minor ticks**: subdivides the major tick units. They are by default hidden and can be toggled on.\n",
        "- **Title**: Title of each plot **(Axes)**, giving information about the same\n",
        "- **Legend**: describes the elements in the plot, blue and green curves in this case\n",
        "- **Suptitle**: The common title of all the plots\n",
        "\n",
        "\n",
        "These are the major components of a matplotlib plot"
      ]
    },
    {
      "cell_type": "markdown",
      "source": [
        "#### Now, how to choose the right plot?\n",
        "\n",
        "Firstly, depends on the what is your question of interest\n",
        "\n",
        "When the question is clear:\n",
        "- How many variables are involved?\n",
        "- Whether the variable(s) are numerical or categorical?\n",
        "\n",
        "#### How many variables are involved?\n",
        "\n",
        "- 1 Variable      - Univariate Analysis\n",
        "- 2 Variables    - Bivariate Analysis\n",
        "- 2+ Variables  - Multivariate Analysis\n",
        "     \n",
        "PS: Bivariate counts under multivariate, but let's keep it sep for ease of communication\n",
        "\n",
        "What are the possible cases?\n",
        "\n",
        "#### Univariate \n",
        "- Numerical\n",
        "- Categorical\n",
        "\n",
        "#### Bivariate\n",
        "- Numerical-Numerical\n",
        "- Numerical-Categorical\n",
        "- Categorical-Categorical\n",
        "\n",
        "#### Multivariate\n",
        "\t \n",
        "Let’s start with 3 and then we can generalize\n",
        "\n",
        "- Numerical-Numerical-Categorical\n",
        "- Categorical-Categorical-Numerical\n",
        "- Categorical-Categorical-Categorical\n",
        "- Numerical-Numerical-Numerical\n",
        "\n",
        "\n",
        "We will work on these one by one "
      ],
      "metadata": {
        "id": "11Dr_W_3amLs"
      }
    },
    {
      "cell_type": "markdown",
      "source": [
        "## Univariate Data Visualization - Categorical Data"
      ],
      "metadata": {
        "id": "lp1ibek_6rnv"
      }
    },
    {
      "cell_type": "markdown",
      "source": [
        "\n",
        "#### What kind of questions we may want to ask for a categorical variable?\n",
        "\n",
        "\n",
        "Questions like:\n",
        "\n",
        "- What is the Distribution/Frequency of the data across different categories?\n",
        "- What proportion does a particular category constitutes?\n",
        "\n",
        "\n",
        "<!-- - What are the top-5 most popular genre of games played?\n",
        "- Or distribution of sales across various parts of the world? -->\n",
        "\n",
        "...and so on\n",
        "\n"
      ],
      "metadata": {
        "id": "4EU_MB-36vLh"
      }
    },
    {
      "cell_type": "markdown",
      "metadata": {
        "id": "852f5fef"
      },
      "source": [
        "\n",
        "Let's take the categorical column \"Genre\"\n",
        "\n",
        "#### How can we find the top-5 genres?\n",
        "\n",
        "Recall, how could we get this data using pandas?\n",
        "\n"
      ]
    },
    {
      "cell_type": "code",
      "source": [
        "cat_counts = data['Genre'].value_counts()\n",
        "cat_counts"
      ],
      "metadata": {
        "colab": {
          "base_uri": "https://localhost:8080/"
        },
        "id": "r_zmGBsV77PM",
        "outputId": "1068fe70-349c-4baf-e5a4-f9ec2e5f85d0"
      },
      "execution_count": null,
      "outputs": [
        {
          "output_type": "execute_result",
          "data": {
            "text/plain": [
              "Action          3316\n",
              "Sports          2400\n",
              "Misc            1739\n",
              "Role-Playing    1488\n",
              "Shooter         1310\n",
              "Adventure       1286\n",
              "Racing          1249\n",
              "Platform         886\n",
              "Simulation       867\n",
              "Fighting         848\n",
              "Strategy         681\n",
              "Puzzle           582\n",
              "Name: Genre, dtype: int64"
            ]
          },
          "metadata": {},
          "execution_count": 49
        }
      ]
    },
    {
      "cell_type": "markdown",
      "source": [
        "#### Now what kind of plot can we use to visualize this information?\n",
        "\n",
        "- We can perhaps plot categories on X-axis and their corresponding frequencies on Y-axis\n",
        "- Such chart is called a Bar Chart or a Count Plot\n",
        "- Can also plot horizontally when the #categories are many\n",
        "\n",
        "\n",
        "### Bar Chart\n",
        "\n",
        "The data is binned here into categories\n",
        "\n",
        "#### How can we draw a Bar plot ?\n",
        "Using `plt.bar()`\n",
        "\n"
      ],
      "metadata": {
        "id": "fX5anEI6DbVY"
      }
    },
    {
      "cell_type": "code",
      "execution_count": null,
      "metadata": {
        "scrolled": true,
        "colab": {
          "base_uri": "https://localhost:8080/",
          "height": 283
        },
        "id": "c0c1f880",
        "outputId": "80e88b0b-e277-4873-b1ad-2f459ab4ba7a"
      },
      "outputs": [
        {
          "output_type": "execute_result",
          "data": {
            "text/plain": [
              "<BarContainer object of 12 artists>"
            ]
          },
          "metadata": {},
          "execution_count": 50
        },
        {
          "output_type": "display_data",
          "data": {
            "text/plain": [
              "<Figure size 432x288 with 1 Axes>"
            ],
            "image/png": "[encoded data removed]"
          },
          "metadata": {
            "needs_background": "light"
          }
        }
      ],
      "source": [
        "x_bar=cat_counts.index\n",
        "y_bar=cat_counts\n",
        "plt.bar(x_bar,y_bar)"
      ]
    },
    {
      "cell_type": "markdown",
      "source": [
        "The names seem to be overlapping a lot\n",
        "\n",
        "#### How can we handle overlapping labels?\n",
        "- Maybe decrease the font size (not preferred though)\n",
        "- Or maybe increase the figure size\n",
        "- Or rotate the labels\n",
        "\n",
        "#### How can we change the plot size?"
      ],
      "metadata": {
        "id": "kDcvoihzGuWv"
      }
    },
    {
      "cell_type": "code",
      "source": [
        "plt.figure(figsize=(12,8))\n",
        "plt.bar(x_bar,y_bar)"
      ],
      "metadata": {
        "colab": {
          "base_uri": "https://localhost:8080/",
          "height": 488
        },
        "id": "9ndSF5sLGszP",
        "outputId": "4e3b5a4d-7c2f-47a7-b82a-87fb0b9dd64a"
      },
      "execution_count": null,
      "outputs": [
        {
          "output_type": "execute_result",
          "data": {
            "text/plain": [
              "<BarContainer object of 12 artists>"
            ]
          },
          "metadata": {},
          "execution_count": 51
        },
        {
          "output_type": "display_data",
          "data": {
            "text/plain": [
              "<Figure size 864x576 with 1 Axes>"
            ],
            "image/png": "[encoded data removed]"
          },
          "metadata": {
            "needs_background": "light"
          }
        }
      ]
    },
    {
      "cell_type": "markdown",
      "source": [
        "#### And how can we rotate the tick labels, also maybe increase the fontsize of the same?"
      ],
      "metadata": {
        "id": "tinSTUn2b2w-"
      }
    },
    {
      "cell_type": "code",
      "source": [
        "plt.figure(figsize=(12,8))\n",
        "plt.bar(x_bar,y_bar)\n",
        "plt.xticks(rotation=90, fontsize=12)"
      ],
      "metadata": {
        "colab": {
          "base_uri": "https://localhost:8080/",
          "height": 569
        },
        "id": "5kYuGiBQbsul",
        "outputId": "4c7f9196-8694-4c2f-af61-94999970615d"
      },
      "execution_count": null,
      "outputs": [
        {
          "output_type": "execute_result",
          "data": {
            "text/plain": [
              "([0, 1, 2, 3, 4, 5, 6, 7, 8, 9, 10, 11],\n",
              " <a list of 12 Text major ticklabel objects>)"
            ]
          },
          "metadata": {},
          "execution_count": 52
        },
        {
          "output_type": "display_data",
          "data": {
            "text/plain": [
              "<Figure size 864x576 with 1 Axes>"
            ],
            "image/png": "[encoded data removed]"
          },
          "metadata": {
            "needs_background": "light"
          }
        }
      ]
    },
    {
      "cell_type": "markdown",
      "metadata": {
        "id": "73a58ef3"
      },
      "source": [
        "If you notice, the width of each bar is **1**\n",
        "\n",
        "#### Can we change the width of these bars?"
      ]
    },
    {
      "cell_type": "code",
      "execution_count": null,
      "metadata": {
        "scrolled": true,
        "colab": {
          "base_uri": "https://localhost:8080/",
          "height": 583
        },
        "id": "550d124d",
        "outputId": "5ba2f4e5-7af8-4306-f2fa-5eca2c6196f9"
      },
      "outputs": [
        {
          "output_type": "execute_result",
          "data": {
            "text/plain": [
              "([0, 1, 2, 3, 4, 5, 6, 7, 8, 9, 10, 11],\n",
              " <a list of 12 Text major ticklabel objects>)"
            ]
          },
          "metadata": {},
          "execution_count": 53
        },
        {
          "output_type": "display_data",
          "data": {
            "text/plain": [
              "<Figure size 720x576 with 1 Axes>"
            ],
            "image/png": "[encoded data removed]"
          },
          "metadata": {
            "needs_background": "light"
          }
        }
      ],
      "source": [
        "# same code\n",
        "plt.figure(figsize=(10,8))\n",
        "plt.bar(x_bar,y_bar,width=0.2)\n",
        "plt.xticks(rotation = 90, fontsize=12)"
      ]
    },
    {
      "cell_type": "markdown",
      "metadata": {
        "id": "b15f761e"
      },
      "source": [
        "#### What about any additional styling to add to the bars ?\n",
        "\n",
        "  - We can **change colour of bars**\n",
        "  - We can add a **title to the axes**\n",
        "  - We can also add x and y labels\n"
      ]
    },
    {
      "cell_type": "code",
      "source": [
        "plt.figure(figsize=(10,8))\n",
        "plt.bar(x_bar,y_bar,width=0.2,color='orange')\n",
        "plt.title('Games per Genre',fontsize=15)\n",
        "plt.xlabel('Genre',fontsize=12)\n",
        "plt.ylabel('Count',fontsize=12)\n",
        "plt.xticks(rotation = 90, fontsize=12)\n",
        "plt.yticks(fontsize=12)"
      ],
      "metadata": {
        "colab": {
          "base_uri": "https://localhost:8080/",
          "height": 618
        },
        "id": "SiJXrExWkNbD",
        "outputId": "962b37fe-77aa-45ca-f1d0-72061b6f4d98"
      },
      "execution_count": null,
      "outputs": [
        {
          "output_type": "execute_result",
          "data": {
            "text/plain": [
              "(array([   0.,  500., 1000., 1500., 2000., 2500., 3000., 3500.]),\n",
              " <a list of 8 Text major ticklabel objects>)"
            ]
          },
          "metadata": {},
          "execution_count": 54
        },
        {
          "output_type": "display_data",
          "data": {
            "text/plain": [
              "<Figure size 720x576 with 1 Axes>"
            ],
            "image/png": "[encoded data removed]"
          },
          "metadata": {
            "needs_background": "light"
          }
        }
      ]
    },
    {
      "cell_type": "markdown",
      "source": [
        "If you notice, there's some text printed always before the plots. \n",
        "\n",
        "This contains the data information of the plot\n",
        "\n",
        "#### How can we remove the text printed before the plot and just display the plot?\n",
        "\n",
        "Using plt.show() at the end"
      ],
      "metadata": {
        "id": "_5TCkAWWcIgQ"
      }
    },
    {
      "cell_type": "code",
      "source": [
        "plt.figure(figsize=(10,8))\n",
        "plt.bar(x_bar,y_bar,width=0.2,color='orange')\n",
        "plt.title('Games per Genre',fontsize=15)\n",
        "plt.xlabel('Genre',fontsize=12)\n",
        "plt.ylabel('Count',fontsize=12)\n",
        "plt.xticks(rotation = 90, fontsize=12)\n",
        "plt.yticks(fontsize=12)\n",
        "plt.show()"
      ],
      "metadata": {
        "colab": {
          "base_uri": "https://localhost:8080/",
          "height": 582
        },
        "id": "81gN3KGncH56",
        "outputId": "723dd5a3-01bc-4ef5-d542-50a6f5ed0498"
      },
      "execution_count": null,
      "outputs": [
        {
          "output_type": "display_data",
          "data": {
            "text/plain": [
              "<Figure size 720x576 with 1 Axes>"
            ],
            "image/png": "[encoded data removed]"
          },
          "metadata": {
            "needs_background": "light"
          }
        }
      ]
    },
    {
      "cell_type": "markdown",
      "source": [
        "#### How can we draw a bar-chart in Seaborn?"
      ],
      "metadata": {
        "id": "biW_v9aVFbnd"
      }
    },
    {
      "cell_type": "markdown",
      "source": [
        "- In Seaborn, the same plot is called as **countplot**.\n",
        "- Countplot automtically does even the counting of frequencies for you\n",
        "\n",
        "#### Why not called a barplot?\n",
        "There is **another function** in Seaborn called **barplot which has some other purpose** - discuss later"
      ],
      "metadata": {
        "id": "90gtoH4bGM8R"
      }
    },
    {
      "cell_type": "code",
      "source": [
        "sns.countplot(x = 'Genre', data = data, order=data['Genre'].value_counts().index, color='cornflowerblue')\n",
        "plt.xticks(rotation=90)"
      ],
      "metadata": {
        "colab": {
          "base_uri": "https://localhost:8080/",
          "height": 367
        },
        "id": "tqBEZd99Fu-J",
        "outputId": "0d967c86-a85e-4257-f726-890c95f51175"
      },
      "execution_count": null,
      "outputs": [
        {
          "output_type": "execute_result",
          "data": {
            "text/plain": [
              "(array([ 0,  1,  2,  3,  4,  5,  6,  7,  8,  9, 10, 11]),\n",
              " <a list of 12 Text major ticklabel objects>)"
            ]
          },
          "metadata": {},
          "execution_count": 56
        },
        {
          "output_type": "display_data",
          "data": {
            "text/plain": [
              "<Figure size 432x288 with 1 Axes>"
            ],
            "image/png": "[encoded data removed]"
          },
          "metadata": {
            "needs_background": "light"
          }
        }
      ]
    },
    {
      "cell_type": "markdown",
      "source": [
        "The top 5 genres are action, sports, misc, role player, and shooter"
      ],
      "metadata": {
        "id": "oXFkWdQ8v6HO"
      }
    },
    {
      "cell_type": "markdown",
      "source": [
        "### Pie charts\n",
        "\n",
        "#### What if instead of actual frequencues, I want see the proportion of the categories with each other?\n",
        "\n",
        "Say, we want to compare the distrubution/proportion of sales across the different regions?\n",
        "\n",
        "Which plot can we use for this?\n",
        "\n",
        "A pie-chart!\n",
        "\n",
        "![](https://d2beiqkhq929f0.cloudfront.net/public_assets/assets/000/021/280/original/download.png?1670819443)\n",
        "\n",
        "Do refer to the postread for the code of how to plot the pie-chart"
      ],
      "metadata": {
        "id": "2k61PgsmH7jN"
      }
    },
    {
      "cell_type": "markdown",
      "source": [
        "## Univariate Data Visualisation - Numerical Data\n",
        "\n",
        "\n",
        "\n",
        "#### What kind of questions we may have regarding a numerical variable?\n",
        "\n",
        "1. How is the data distributed? Say distribution of number of games published in a year.\n",
        "2. Is the data skewed? Are there any outliers? - Extremely high selling games maybe?\n",
        "3. How much percentage of data is below/above a certain number?\n",
        "4. Some special numbers - Min, Max, Mean, Median, nth percentile?\n",
        "\n"
      ],
      "metadata": {
        "id": "Kcjws5NRHPai"
      }
    },
    {
      "cell_type": "markdown",
      "source": [
        "Now say, you want find the distribution of games released every year.\n",
        "\n",
        "Unlike barplot, **to see the distribution we will need to `bin` the data**.\n",
        "\n",
        "\n",
        "#### How can we understand popularity of video games year by year?\n",
        "\n",
        "\n",
        "#### Histogram\n"
      ],
      "metadata": {
        "id": "v3zFcoK3fTau"
      }
    },
    {
      "cell_type": "code",
      "source": [
        "plt.hist(data['Year'])\n",
        "plt.show()"
      ],
      "metadata": {
        "id": "ufLQtiSy6ueh",
        "colab": {
          "base_uri": "https://localhost:8080/",
          "height": 265
        },
        "outputId": "23377f78-e432-407b-b223-a2f73e9b7b08"
      },
      "execution_count": null,
      "outputs": [
        {
          "output_type": "display_data",
          "data": {
            "text/plain": [
              "<Figure size 432x288 with 1 Axes>"
            ],
            "image/png": "[encoded data removed]"
          },
          "metadata": {
            "needs_background": "light"
          }
        }
      ]
    },
    {
      "cell_type": "markdown",
      "source": [
        "- The curve is left skewed, with a lot more games being published in 2005-2015\n",
        "\n",
        "- This shows that games started being highly popular in the last 1-2 decades, maybe could point to increased usage of internet worldwide!"
      ],
      "metadata": {
        "id": "ZFYrqzxDwrD_"
      }
    },
    {
      "cell_type": "markdown",
      "source": [
        "If you notice, histograms are basically frequency charts\n",
        "\n",
        "We can also vary the number of bins, the **default number of bins is 10**\n",
        "\n",
        "So if we would need to see this data per decade, we would need 40 years in 4 bins."
      ],
      "metadata": {
        "id": "w7S_BYZb8buE"
      }
    },
    {
      "cell_type": "code",
      "source": [
        "plt.hist(data['Year'], bins=4)\n",
        "plt.show()"
      ],
      "metadata": {
        "id": "0SDqxc-O8Ny4",
        "colab": {
          "base_uri": "https://localhost:8080/",
          "height": 265
        },
        "outputId": "a16f0bdd-2b27-466a-91be-502ce68d613d"
      },
      "execution_count": null,
      "outputs": [
        {
          "output_type": "display_data",
          "data": {
            "text/plain": [
              "<Figure size 432x288 with 1 Axes>"
            ],
            "image/png": "[encoded data removed]"
          },
          "metadata": {
            "needs_background": "light"
          }
        }
      ]
    },
    {
      "cell_type": "markdown",
      "source": [
        "We can also get the data of each bin, such as range of the boundaries, values, etc."
      ],
      "metadata": {
        "id": "GFoNAXT3B_7X"
      }
    },
    {
      "cell_type": "code",
      "source": [
        "count, bins, _ = plt.hist(data['Year'])"
      ],
      "metadata": {
        "id": "2EVGEY4-CEDD",
        "colab": {
          "base_uri": "https://localhost:8080/",
          "height": 265
        },
        "outputId": "e411198d-1560-4469-930a-0a8f52b13d6e"
      },
      "execution_count": null,
      "outputs": [
        {
          "output_type": "display_data",
          "data": {
            "text/plain": [
              "<Figure size 432x288 with 1 Axes>"
            ],
            "image/png": "[encoded data removed]"
          },
          "metadata": {
            "needs_background": "light"
          }
        }
      ]
    },
    {
      "cell_type": "code",
      "source": [
        "count"
      ],
      "metadata": {
        "id": "xxnNCJNMCYPX",
        "colab": {
          "base_uri": "https://localhost:8080/"
        },
        "outputId": "1c046c7e-4e87-4349-e759-229f6a73c1de"
      },
      "execution_count": null,
      "outputs": [
        {
          "output_type": "execute_result",
          "data": {
            "text/plain": [
              "array([ 112.,   70.,   92.,  449., 1274., 2440., 3921., 5262., 2406.,\n",
              "        355.])"
            ]
          },
          "metadata": {},
          "execution_count": 60
        }
      ]
    },
    {
      "cell_type": "code",
      "source": [
        "bins"
      ],
      "metadata": {
        "id": "HU66xUUNCaRh",
        "colab": {
          "base_uri": "https://localhost:8080/"
        },
        "outputId": "d17ee55a-02c4-4a1c-a8f1-5e1508bb230e"
      },
      "execution_count": null,
      "outputs": [
        {
          "output_type": "execute_result",
          "data": {
            "text/plain": [
              "array([1980., 1984., 1988., 1992., 1996., 2000., 2004., 2008., 2012.,\n",
              "       2016., 2020.])"
            ]
          },
          "metadata": {},
          "execution_count": 61
        }
      ]
    },
    {
      "cell_type": "markdown",
      "source": [
        "#### Now what do these `count` and `bins` mean?\n",
        "\n",
        "- **bins** provides bin edges\n",
        "- **counts** provides it corresponding counts\n",
        "\n",
        "\n",
        "#### What is the length of `count`?\n",
        "\n",
        "10\n",
        "#### What shoud be the length of `bins`?\n",
        "\n",
        "10 + 1 = 11"
      ],
      "metadata": {
        "id": "l5K2VX7NCTW5"
      }
    },
    {
      "cell_type": "markdown",
      "source": [
        "##### How can we plot histogram in Seaborn?"
      ],
      "metadata": {
        "id": "vGpJQYPhCiOj"
      }
    },
    {
      "cell_type": "code",
      "source": [
        "sns.histplot(data['Year'], bins=10)"
      ],
      "metadata": {
        "id": "CJ89l9e1ClYB",
        "colab": {
          "base_uri": "https://localhost:8080/",
          "height": 297
        },
        "outputId": "69667a40-3c5c-4d1c-ef95-f513af868723"
      },
      "execution_count": null,
      "outputs": [
        {
          "output_type": "execute_result",
          "data": {
            "text/plain": [
              "<matplotlib.axes._subplots.AxesSubplot at 0x7fcb8f61deb0>"
            ]
          },
          "metadata": {},
          "execution_count": 62
        },
        {
          "output_type": "display_data",
          "data": {
            "text/plain": [
              "<Figure size 432x288 with 1 Axes>"
            ],
            "image/png": "[encoded data removed]"
          },
          "metadata": {
            "needs_background": "light"
          }
        }
      ]
    },
    {
      "cell_type": "markdown",
      "source": [
        "Notice,\n",
        "\n",
        "- The boundaries are more defined than matplotlib's plotting\n",
        "- The x and y axis are labelled automatically"
      ],
      "metadata": {
        "id": "FECIz8l2C078"
      }
    },
    {
      "cell_type": "markdown",
      "source": [
        "### Kernel Density Estimate (KDE) Plot\n",
        "\n",
        "- A KDE plot, similar to histrogram, is a method for visualizing the distributions\n",
        "\n",
        "\n",
        "- But instead of bars, KDE represents data using a **continuous probability density curve**\n",
        "\n",
        "\n",
        "\n",
        "#### Now, Why do we even need KDE plots?\n",
        "\n",
        "- Compared to histogram, KDE produces a plot which is **less cluttered** and **more interpretable**\n",
        "- Think of it as a **smoothened version** of histogram\n",
        "\n",
        "\n",
        "<!-- - Especially when drawing multiple distributions.  -->\n",
        "\n",
        "Let's plot KDE using `seaborn`'s `kdeplot`"
      ],
      "metadata": {
        "id": "CIJxGP8QBvNA"
      }
    },
    {
      "cell_type": "code",
      "source": [
        "sns.kdeplot(data['Year'])"
      ],
      "metadata": {
        "id": "7sNAIAszBwQk",
        "colab": {
          "base_uri": "https://localhost:8080/",
          "height": 297
        },
        "outputId": "2e6ce813-611a-40e8-9c55-85ef4ac0e1f6"
      },
      "execution_count": null,
      "outputs": [
        {
          "output_type": "execute_result",
          "data": {
            "text/plain": [
              "<matplotlib.axes._subplots.AxesSubplot at 0x7fcb8f64f220>"
            ]
          },
          "metadata": {},
          "execution_count": 63
        },
        {
          "output_type": "display_data",
          "data": {
            "text/plain": [
              "<Figure size 432x288 with 1 Axes>"
            ],
            "image/png": "[encoded data removed]"
          },
          "metadata": {
            "needs_background": "light"
          }
        }
      ]
    },
    {
      "cell_type": "markdown",
      "source": [
        "#### Can you notice the difference between KDE and histogram?\n",
        "\n",
        "Y-Axis has **probability density estimation** instead of count\n",
        "\n",
        "You can read more about this on: \n",
        "\n",
        "https://en.wikipedia.org/wiki/Kernel_density_estimation \\\n",
        "https://www.youtube.com/watch?v=DCgPRaIDYXA\n",
        "\n"
      ],
      "metadata": {
        "id": "OE0pOAZdDdi6"
      }
    },
    {
      "cell_type": "markdown",
      "source": [
        "### Boxplot\n",
        "\n",
        "Now say I want to find the typical earnings of a game when it is published.\n",
        "\n",
        "Or maybe find the aggregates like median, min, max and percentiles of the data.\n",
        "\n",
        "\n",
        "#### What kind of plot can we use to understand the typical earnings from a game?\n",
        "Box Plot\n",
        "\n"
      ],
      "metadata": {
        "id": "6Wl2YR03Gyh9"
      }
    },
    {
      "cell_type": "markdown",
      "source": [
        "\n",
        "\n",
        "#### What exactly is a Box Plot?\n",
        "- A box plot or **box-and-whisker plot** shows the **distribution of quantitative data** \n",
        "- It facilitates comparisons between \n",
        "  - attributes \n",
        "  - across levels\n",
        "of a categorical attribute. \n",
        "\n",
        "\n",
        "The **box**: Shows the **quartiles** of the dataset \n",
        "\n",
        "The **whiskers**: Show the **rest of the distribution**\n",
        "\n",
        "\n",
        "<!-- - Except for points that are determined to be \"outliers\" using a method that is a function of the **inter-quartile range**. -->\n",
        "\n",
        "\n",
        "Let's go through the terminology one-by-one\n",
        "\n",
        "\n",
        "<!-- #### What's a quartile? -->\n",
        "\n",
        "<!-- - Box plot shows distribution of numerical data and skewness through displaying the **data percentiles**, called **quartiles** -->\n",
        "\n",
        "<!-- Quartile: Data percentiles of  -->\n",
        "\n",
        "\n",
        "#### Box plots show the five-number summary of data:\n",
        "1. Minimum score, \n",
        "2. first (lower) quartile \n",
        "3. Median\n",
        "4. Third (upper) quartile\n",
        "5. maximum score\n",
        "\n",
        "#### Minimum Score\n",
        "\n",
        "- It is the **lowest value**, excluding outliers \n",
        "\n",
        "- It is shown at the **end of bottom whisker**\n",
        "\n",
        "#### Lower Quartile\n",
        "\n",
        "- **25% of values** fall below the lower quartile value\n",
        "\n",
        "- It is also known as the **first quartile**.\n",
        "\n",
        "#### Median\n",
        "\n",
        "- Median marks the **mid-point of the data** \n",
        "\n",
        "<!-- - It is shown by the **line that divides the box into two parts** -->\n",
        "\n",
        "- **Half the scores are greater than or equal to this value and half are less**.\n",
        "\n",
        "- It is sometimes known as the **second quartile**. \n",
        "\n",
        "#### Upper Quartile\n",
        "\n",
        "- **75% of the values fall below the upper quartile value**\n",
        "\n",
        "- It is also known as the **third quartile**. \n",
        "\n",
        "<!-- - So, **25% of data are above this value**. -->\n",
        "\n",
        "#### Maximum Score\n",
        "\n",
        "- It is the **highest value**, excluding outliers \n",
        "\n",
        "- It is shown at the **end of upper whisker**.\n",
        "\n",
        "#### Whiskers\n",
        "\n",
        "- The upper and lower whiskers represent **values outside the middle 50%**\n",
        "\n",
        "- That is, the **lower 25% of values** and the **upper 25% of values**.\n",
        "\n",
        "#### Interquartile Range (or IQR)\n",
        "\n",
        "- This is the box plot showing the **middle 50% of scores** \n",
        "\n",
        "- It is the **range between the 25th and 75th percentile**.\n",
        "\n",
        "\n",
        "#### Now, Let's plot a box plot to find the average typical earnings for a game"
      ],
      "metadata": {
        "id": "U9FI_1XeDOti"
      }
    },
    {
      "cell_type": "code",
      "source": [
        "plt.figure(figsize=(15,10))\n",
        "sns.boxplot(y = data[\"Global_Sales\"])\n",
        "plt.yticks(fontsize=20)\n",
        "plt.ylabel('Global Sales', fontsize=20)\n",
        "plt.title('Global Sales of video games', fontsize=20)"
      ],
      "metadata": {
        "id": "TG-zrlpCCcdq",
        "colab": {
          "base_uri": "https://localhost:8080/",
          "height": 482
        },
        "outputId": "ccf495ec-a58d-4aff-b0a3-2a76b858fa5b"
      },
      "execution_count": null,
      "outputs": [
        {
          "output_type": "execute_result",
          "data": {
            "text/plain": [
              "Text(0.5, 1.0, 'Global Sales of video games')"
            ]
          },
          "metadata": {},
          "execution_count": 64
        },
        {
          "output_type": "display_data",
          "data": {
            "text/plain": [
              "<Figure size 1080x720 with 1 Axes>"
            ],
            "image/png": "[encoded data removed]"
          },
          "metadata": {
            "needs_background": "light"
          }
        }
      ]
    },
    {
      "cell_type": "markdown",
      "source": [
        "What can we infer from this?\n",
        "\n",
        "The 5 point estimates (approx.) here are:\n",
        "  - Minimum, excluding outliers: 0\n",
        "  - Maximum, excluding outliers: 6.5 million dollars\n",
        "  - 25th Quantile: 2.5 million\n",
        "  - Median: around 3 million\n",
        "  - 75th Quantile: 4 million\n",
        "\n",
        "<!-- The outliers always will appear either below the minimum or above the maximum -->\n",
        "\n",
        "There are few outliers towards 6-7 million dollars"
      ],
      "metadata": {
        "id": "A4GP21IkWD5u"
      }
    },
    {
      "cell_type": "markdown",
      "source": [
        "Key Takeaways:\n",
        "\n",
        "Categorical - Barplot, Pie Chart\n",
        "\n",
        "Numerical - Histogram, KDE, Boxplot \n",
        "\n",
        "Can explore more types: Violin plot, bee-swarm plot, etc.\n",
        "\n",
        "\n"
      ],
      "metadata": {
        "id": "PdfMIkWfnkh5"
      }
    }
  ]
}