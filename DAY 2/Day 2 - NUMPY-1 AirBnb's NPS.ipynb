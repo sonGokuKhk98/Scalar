{
 "cells": [
  {
   "attachments": {},
   "cell_type": "markdown",
   "metadata": {},
   "source": [
    "# Basics"
   ]
  },
  {
   "cell_type": "code",
   "execution_count": 6,
   "metadata": {},
   "outputs": [],
   "source": [
    "import numpy as np"
   ]
  },
  {
   "cell_type": "code",
   "execution_count": 9,
   "metadata": {},
   "outputs": [
    {
     "data": {
      "text/plain": [
       "[1, 4, 9, 16, 25]"
      ]
     },
     "execution_count": 9,
     "metadata": {},
     "output_type": "execute_result"
    }
   ],
   "source": [
    "# What is the most basic structute in Python?\n",
    "# Ans: List\n",
    "a = [1,2,3,4,5]\n",
    "#Print squares in a (List comprehension)\n",
    "b = [i**2 for i in a ]"
   ]
  },
  {
   "cell_type": "code",
   "execution_count": 20,
   "metadata": {},
   "outputs": [
    {
     "name": "stdout",
     "output_type": "stream",
     "text": [
      "[1 2 3 4 5]\n"
     ]
    }
   ],
   "source": [
    "# If we  want to do the same thing in numpy, i.e squares of two numbers\n",
    "# We use np.array\n",
    "# Type of it is numpy.ndarray\n",
    "a = np.array([1,2,3,4,5])\n",
    "type(a)\n",
    "print(a)"
   ]
  },
  {
   "cell_type": "code",
   "execution_count": 23,
   "metadata": {},
   "outputs": [
    {
     "name": "stdout",
     "output_type": "stream",
     "text": [
      "182 ms ± 1.7 ms per loop (mean ± std. dev. of 7 runs, 1 loop each)\n"
     ]
    }
   ],
   "source": [
    "#Range of variables\n",
    "list(range(10))\n",
    "#lets say n has a huge range\n",
    "l = range(1000000)\n",
    "#%timeit will run it 7 times and find a mean+ srd_dev\n",
    "%timeit [i**2 for i in l]\n"
   ]
  },
  {
   "cell_type": "code",
   "execution_count": 25,
   "metadata": {},
   "outputs": [
    {
     "name": "stdout",
     "output_type": "stream",
     "text": [
      "551 µs ± 27.8 µs per loop (mean ± std. dev. of 7 runs, 1,000 loops each)\n"
     ]
    }
   ],
   "source": [
    "#Let's time it in numpy\n",
    "#Instead of range we use arange\n",
    "a = np.arange(10)\n",
    "l = np.arange(1000000)\n",
    "#We need not write a list comprehensition like we did for a list, we do have a power function for numpy arrays\n",
    "%timeit l**2\n",
    "#AS we see the output it's much faster (milli to micro)"
   ]
  },
  {
   "cell_type": "code",
   "execution_count": null,
   "metadata": {},
   "outputs": [],
   "source": [
    "#The reason why it is fast is , getting the items takes time\n",
    "# A list and np.array diiference is \n",
    "# Stores in c_arrays under the hood "
   ]
  },
  {
   "attachments": {},
   "cell_type": "markdown",
   "metadata": {},
   "source": [
    "# Arange"
   ]
  },
  {
   "cell_type": "code",
   "execution_count": 26,
   "metadata": {},
   "outputs": [
    {
     "data": {
      "text/plain": [
       "array([1, 2, 3, 4])"
      ]
     },
     "execution_count": 26,
     "metadata": {},
     "output_type": "execute_result"
    }
   ],
   "source": [
    "arr2 = np.arange(1,5) #last element is excluded\n",
    "arr2"
   ]
  },
  {
   "cell_type": "code",
   "execution_count": 27,
   "metadata": {},
   "outputs": [
    {
     "data": {
      "text/plain": [
       "array([1, 3, 5, 7, 9])"
      ]
     },
     "execution_count": 27,
     "metadata": {},
     "output_type": "execute_result"
    }
   ],
   "source": [
    "#Arange allows for a stepsize\n",
    "arr2_stepsize = np.arange(1,10,2)\n",
    "arr2_stepsize"
   ]
  },
  {
   "cell_type": "code",
   "execution_count": 28,
   "metadata": {},
   "outputs": [
    {
     "data": {
      "text/plain": [
       "array([2, 4, 6, 8])"
      ]
     },
     "execution_count": 28,
     "metadata": {},
     "output_type": "execute_result"
    }
   ],
   "source": [
    "#All even numbers between 1 to 10\n",
    "arr2_stepsize = np.arange(2,10,2)\n",
    "arr2_stepsize"
   ]
  },
  {
   "cell_type": "code",
   "execution_count": 31,
   "metadata": {},
   "outputs": [
    {
     "data": {
      "text/plain": [
       "array([1. , 1.1, 1.2, 1.3, 1.4, 1.5, 1.6, 1.7, 1.8, 1.9, 2. , 2.1, 2.2,\n",
       "       2.3, 2.4, 2.5, 2.6, 2.7, 2.8, 2.9, 3. , 3.1, 3.2, 3.3, 3.4, 3.5,\n",
       "       3.6, 3.7, 3.8, 3.9, 4. , 4.1, 4.2, 4.3, 4.4, 4.5, 4.6, 4.7, 4.8,\n",
       "       4.9])"
      ]
     },
     "execution_count": 31,
     "metadata": {},
     "output_type": "execute_result"
    }
   ],
   "source": [
    "#Numpy allows fractional step sizes\n",
    "#Difference range vs np.arange -> Fractional step size is allowed\n",
    "np.arange(1,5,0.1) # Arange allows for floating point step "
   ]
  },
  {
   "attachments": {},
   "cell_type": "markdown",
   "metadata": {},
   "source": [
    "# Floating Point"
   ]
  },
  {
   "cell_type": "code",
   "execution_count": 37,
   "metadata": {},
   "outputs": [
    {
     "name": "stdout",
     "output_type": "stream",
     "text": [
      "[1 2 3 4]\n",
      "[1.  2.  3.  4.5]\n",
      "[1, 2, 3, 4.5]\n"
     ]
    }
   ],
   "source": [
    "arr4 = np.array([1,2,3,4])\n",
    "print(arr4)\n",
    "#Notice that in numpy arrays, all elements will have same data type: here it is float\n",
    "# \"int\" is raised to \"float\" for numpy array\n",
    "arr5= np.array([1,2,3,4.5])\n",
    "print(arr5) \n",
    "#Doesen't happen with python list\n",
    "l4 = [1,2,3,4.5]\n",
    "print(l4)"
   ]
  },
  {
   "cell_type": "code",
   "execution_count": 42,
   "metadata": {},
   "outputs": [
    {
     "data": {
      "text/plain": [
       "array([1., 2., 3., 4., 5.])"
      ]
     },
     "execution_count": 42,
     "metadata": {},
     "output_type": "execute_result"
    }
   ],
   "source": [
    "#We can try to force the datatype if possible, else it would throw an error\n",
    "arr5 = np.array([1,2,3,4,5],dtype=\"float\")\n",
    "arr5"
   ]
  },
  {
   "cell_type": "code",
   "execution_count": 43,
   "metadata": {},
   "outputs": [
    {
     "data": {
      "text/plain": [
       "numpy.ndarray"
      ]
     },
     "execution_count": 43,
     "metadata": {},
     "output_type": "execute_result"
    }
   ],
   "source": [
    "type(arr5)"
   ]
  },
  {
   "cell_type": "code",
   "execution_count": 45,
   "metadata": {},
   "outputs": [
    {
     "data": {
      "text/plain": [
       "(5,)"
      ]
     },
     "execution_count": 45,
     "metadata": {},
     "output_type": "execute_result"
    }
   ],
   "source": [
    "# By default np.array is an n dimension array\n",
    "arr5.shape"
   ]
  },
  {
   "attachments": {},
   "cell_type": "markdown",
   "metadata": {},
   "source": [
    "# Indexing "
   ]
  },
  {
   "cell_type": "code",
   "execution_count": 52,
   "metadata": {},
   "outputs": [
    {
     "name": "stdout",
     "output_type": "stream",
     "text": [
      "[100 200]\n",
      "[100 600]\n",
      "[300 400 500 200 300 300]\n"
     ]
    }
   ],
   "source": [
    "m1 =np.arange(12)\n",
    "m1\n",
    "#The indexing similar to list\n",
    "m1 = np.array([100,200,300,400,500,600])\n",
    "#We can give list of indices instead of an index too\n",
    "print(m1[[0,1]])\n",
    "print(m1[[0,5]])\n",
    "#We can keep repeating the index\n",
    "print(m1[[2,3,4,1,2,2]])"
   ]
  },
  {
   "attachments": {},
   "cell_type": "markdown",
   "metadata": {},
   "source": [
    "# Slicing"
   ]
  },
  {
   "cell_type": "code",
   "execution_count": 56,
   "metadata": {},
   "outputs": [
    {
     "name": "stdout",
     "output_type": "stream",
     "text": [
      "[1 2 3 4 5]\n",
      "[6 7 8 9]\n"
     ]
    }
   ],
   "source": [
    "m1 =np.arange(1,11)\n",
    "print(m1[:5])\n",
    "print(m1[-5:-1])\n",
    "\n"
   ]
  },
  {
   "attachments": {},
   "cell_type": "markdown",
   "metadata": {},
   "source": [
    "# Fancy indexing"
   ]
  },
  {
   "cell_type": "code",
   "execution_count": 60,
   "metadata": {},
   "outputs": [
    {
     "data": {
      "text/plain": [
       "array([ True,  True,  True,  True,  True, False, False, False, False,\n",
       "       False])"
      ]
     },
     "execution_count": 60,
     "metadata": {},
     "output_type": "execute_result"
    }
   ],
   "source": [
    "# If we want to find indexes based on values\n",
    "# 1,2,3,4,5,6 -> Detractors | 9,10 -> Promoters\n",
    "m1 = np.array([1,2,3,4,5,6,7,8,9,10])\n",
    "# This simple indication gives us true or false\n",
    "m1<6"
   ]
  },
  {
   "cell_type": "code",
   "execution_count": 69,
   "metadata": {},
   "outputs": [
    {
     "name": "stdout",
     "output_type": "stream",
     "text": [
      "[1 2 3 4 5 6]\n",
      "[ 2  4  6  8 10]\n",
      "[1 3 5 7 9]\n"
     ]
    }
   ],
   "source": [
    "#We get those values which are detractors\n",
    "print(m1[m1<=6])\n",
    "#Even values\n",
    "print(m1[m1%2==0])\n",
    "#Odd values\n",
    "print(m1[m1%2!=0])"
   ]
  },
  {
   "cell_type": "code",
   "execution_count": null,
   "metadata": {},
   "outputs": [],
   "source": []
  }
 ],
 "metadata": {
  "kernelspec": {
   "display_name": "Python 3",
   "language": "python",
   "name": "python3"
  },
  "language_info": {
   "codemirror_mode": {
    "name": "ipython",
    "version": 3
   },
   "file_extension": ".py",
   "mimetype": "text/x-python",
   "name": "python",
   "nbconvert_exporter": "python",
   "pygments_lexer": "ipython3",
   "version": "3.8.2"
  },
  "orig_nbformat": 4
 },
 "nbformat": 4,
 "nbformat_minor": 2
}
