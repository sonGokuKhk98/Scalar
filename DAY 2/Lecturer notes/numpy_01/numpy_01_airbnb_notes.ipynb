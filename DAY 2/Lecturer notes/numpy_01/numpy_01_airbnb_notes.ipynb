{
 "cells": [
  {
   "cell_type": "code",
   "execution_count": 1,
   "id": "d3f685b1",
   "metadata": {},
   "outputs": [
    {
     "data": {
      "text/plain": [
       "12"
      ]
     },
     "execution_count": 1,
     "metadata": {},
     "output_type": "execute_result"
    }
   ],
   "source": [
    "5 + 7"
   ]
  },
  {
   "cell_type": "code",
   "execution_count": null,
   "id": "f924e553",
   "metadata": {},
   "outputs": [],
   "source": [
    "# The first thing is to install"
   ]
  },
  {
   "cell_type": "code",
   "execution_count": 2,
   "id": "815062dc",
   "metadata": {},
   "outputs": [
    {
     "name": "stdout",
     "output_type": "stream",
     "text": [
      "Requirement already satisfied: numpy in /Users/ajay/.pyenv/versions/3.8.12/lib/python3.8/site-packages (1.24.1)\n",
      "\n",
      "\u001b[1m[\u001b[0m\u001b[34;49mnotice\u001b[0m\u001b[1;39;49m]\u001b[0m\u001b[39;49m A new release of pip available: \u001b[0m\u001b[31;49m22.3.1\u001b[0m\u001b[39;49m -> \u001b[0m\u001b[32;49m23.1\u001b[0m\n",
      "\u001b[1m[\u001b[0m\u001b[34;49mnotice\u001b[0m\u001b[1;39;49m]\u001b[0m\u001b[39;49m To update, run: \u001b[0m\u001b[32;49mpython3 -m pip install --upgrade pip\u001b[0m\n"
     ]
    }
   ],
   "source": [
    "!pip install numpy"
   ]
  },
  {
   "cell_type": "code",
   "execution_count": 3,
   "id": "f51cc89a",
   "metadata": {},
   "outputs": [],
   "source": [
    "# Import statement\n",
    "\n",
    "import numpy as np"
   ]
  },
  {
   "cell_type": "code",
   "execution_count": 4,
   "id": "40302c1a",
   "metadata": {},
   "outputs": [],
   "source": [
    "# What is the most basic data structure in Python?\n",
    "# List\n",
    "\n",
    "a = [1, 2, 3, 4, 5]"
   ]
  },
  {
   "cell_type": "code",
   "execution_count": 5,
   "id": "85743e27",
   "metadata": {
    "collapsed": true
   },
   "outputs": [
    {
     "ename": "TypeError",
     "evalue": "unsupported operand type(s) for ** or pow(): 'list' and 'int'",
     "output_type": "error",
     "traceback": [
      "\u001b[0;31m---------------------------------------------------------------------------\u001b[0m",
      "\u001b[0;31mTypeError\u001b[0m                                 Traceback (most recent call last)",
      "Input \u001b[0;32mIn [5]\u001b[0m, in \u001b[0;36m<cell line: 1>\u001b[0;34m()\u001b[0m\n\u001b[0;32m----> 1\u001b[0m \u001b[43ma\u001b[49m\u001b[38;5;241;43m*\u001b[39;49m\u001b[38;5;241;43m*\u001b[39;49m\u001b[38;5;241;43m2\u001b[39;49m\n",
      "\u001b[0;31mTypeError\u001b[0m: unsupported operand type(s) for ** or pow(): 'list' and 'int'"
     ]
    }
   ],
   "source": [
    "a**2 # Will this work?"
   ]
  },
  {
   "cell_type": "markdown",
   "id": "1a9cbfab",
   "metadata": {},
   "source": [
    "Conclusion: For list ** operation does not work if I want to square"
   ]
  },
  {
   "cell_type": "code",
   "execution_count": 6,
   "id": "1cfdc8be",
   "metadata": {},
   "outputs": [
    {
     "data": {
      "text/plain": [
       "[1, 4, 9, 16, 25]"
      ]
     },
     "execution_count": 6,
     "metadata": {},
     "output_type": "execute_result"
    }
   ],
   "source": [
    "[i**2 for i in a]"
   ]
  },
  {
   "cell_type": "code",
   "execution_count": 7,
   "id": "debbbeda",
   "metadata": {},
   "outputs": [],
   "source": [
    "# We will use numpy \"array\"\n",
    "a = np.array([1, 2, 3, 4, 5])"
   ]
  },
  {
   "cell_type": "code",
   "execution_count": 8,
   "id": "258cfede",
   "metadata": {},
   "outputs": [
    {
     "data": {
      "text/plain": [
       "numpy.ndarray"
      ]
     },
     "execution_count": 8,
     "metadata": {},
     "output_type": "execute_result"
    }
   ],
   "source": [
    "type(a)"
   ]
  },
  {
   "cell_type": "code",
   "execution_count": 9,
   "id": "4007fee3",
   "metadata": {},
   "outputs": [
    {
     "data": {
      "text/plain": [
       "array([1, 2, 3, 4, 5])"
      ]
     },
     "execution_count": 9,
     "metadata": {},
     "output_type": "execute_result"
    }
   ],
   "source": [
    "a"
   ]
  },
  {
   "cell_type": "markdown",
   "id": "67e70052",
   "metadata": {},
   "source": [
    "## Why Numpy instead of list"
   ]
  },
  {
   "cell_type": "code",
   "execution_count": 12,
   "id": "18a9ab6e",
   "metadata": {},
   "outputs": [
    {
     "data": {
      "text/plain": [
       "[0, 1, 2, 3, 4, 5, 6, 7, 8, 9]"
      ]
     },
     "execution_count": 12,
     "metadata": {},
     "output_type": "execute_result"
    }
   ],
   "source": [
    "list(range(10))"
   ]
  },
  {
   "cell_type": "code",
   "execution_count": 13,
   "id": "522dce77",
   "metadata": {},
   "outputs": [],
   "source": [
    "l = range(1000000)"
   ]
  },
  {
   "cell_type": "code",
   "execution_count": 16,
   "id": "7bd7f740",
   "metadata": {},
   "outputs": [
    {
     "name": "stdout",
     "output_type": "stream",
     "text": [
      "181 ms ± 815 µs per loop (mean ± std. dev. of 7 runs, 1 loop each)\n"
     ]
    }
   ],
   "source": [
    "%timeit [i**2 for i in l]"
   ]
  },
  {
   "cell_type": "code",
   "execution_count": 17,
   "id": "51f083df",
   "metadata": {},
   "outputs": [
    {
     "data": {
      "text/plain": [
       "array([0, 1, 2, 3, 4])"
      ]
     },
     "execution_count": 17,
     "metadata": {},
     "output_type": "execute_result"
    }
   ],
   "source": [
    "a = np.arange(5)\n",
    "a"
   ]
  },
  {
   "cell_type": "code",
   "execution_count": 18,
   "id": "fa0b80dd",
   "metadata": {},
   "outputs": [
    {
     "data": {
      "text/plain": [
       "array([ 0,  1,  4,  9, 16])"
      ]
     },
     "execution_count": 18,
     "metadata": {},
     "output_type": "execute_result"
    }
   ],
   "source": [
    "a**2 # For numpy array, this will square everything"
   ]
  },
  {
   "cell_type": "code",
   "execution_count": 19,
   "id": "1940c762",
   "metadata": {},
   "outputs": [],
   "source": [
    "l = np.arange(1000000)"
   ]
  },
  {
   "cell_type": "code",
   "execution_count": 21,
   "id": "ccd542e9",
   "metadata": {},
   "outputs": [
    {
     "name": "stdout",
     "output_type": "stream",
     "text": [
      "448 µs ± 18.1 µs per loop (mean ± std. dev. of 7 runs, 1,000 loops each)\n"
     ]
    }
   ],
   "source": [
    "%timeit l**2"
   ]
  },
  {
   "cell_type": "code",
   "execution_count": null,
   "id": "d0cb5d16",
   "metadata": {},
   "outputs": [],
   "source": [
    "# Millisecond of list became microsecond for numpy"
   ]
  },
  {
   "cell_type": "markdown",
   "id": "745003f0",
   "metadata": {},
   "source": [
    "## Arange"
   ]
  },
  {
   "cell_type": "code",
   "execution_count": 22,
   "id": "dfce5ab6",
   "metadata": {},
   "outputs": [
    {
     "data": {
      "text/plain": [
       "array([1, 2, 3, 4])"
      ]
     },
     "execution_count": 22,
     "metadata": {},
     "output_type": "execute_result"
    }
   ],
   "source": [
    "arr2 = np.arange(1, 5) # last element is excluded\n",
    "arr2"
   ]
  },
  {
   "cell_type": "code",
   "execution_count": 27,
   "id": "50891347",
   "metadata": {},
   "outputs": [
    {
     "data": {
      "text/plain": [
       "array([1, 3, 5, 7, 9])"
      ]
     },
     "execution_count": 27,
     "metadata": {},
     "output_type": "execute_result"
    }
   ],
   "source": [
    "# Arange allows for a stepsize\n",
    "arr2_stepsize = np.arange(1, 10, 2)\n",
    "arr2_stepsize"
   ]
  },
  {
   "cell_type": "code",
   "execution_count": 28,
   "id": "1fd6e278",
   "metadata": {},
   "outputs": [
    {
     "data": {
      "text/plain": [
       "array([1. , 1.1, 1.2, 1.3, 1.4, 1.5, 1.6, 1.7, 1.8, 1.9, 2. , 2.1, 2.2,\n",
       "       2.3, 2.4, 2.5, 2.6, 2.7, 2.8, 2.9, 3. , 3.1, 3.2, 3.3, 3.4, 3.5,\n",
       "       3.6, 3.7, 3.8, 3.9, 4. , 4.1, 4.2, 4.3, 4.4, 4.5, 4.6, 4.7, 4.8,\n",
       "       4.9])"
      ]
     },
     "execution_count": 28,
     "metadata": {},
     "output_type": "execute_result"
    }
   ],
   "source": [
    "# range Vs np.arange - fractional step size is allowed\n",
    "np.arange(1, 5, 0.1) # arange allows for floating point step"
   ]
  },
  {
   "cell_type": "markdown",
   "id": "8b781bbb",
   "metadata": {},
   "source": [
    "## Floating point"
   ]
  },
  {
   "cell_type": "code",
   "execution_count": 29,
   "id": "57b17328",
   "metadata": {},
   "outputs": [
    {
     "data": {
      "text/plain": [
       "array([1, 2, 3, 4])"
      ]
     },
     "execution_count": 29,
     "metadata": {},
     "output_type": "execute_result"
    }
   ],
   "source": [
    "arr4 = np.array([1, 2, 3, 4])\n",
    "arr4"
   ]
  },
  {
   "cell_type": "code",
   "execution_count": 35,
   "id": "2013685a",
   "metadata": {},
   "outputs": [
    {
     "data": {
      "text/plain": [
       "array([1. , 2. , 3. , 4.5])"
      ]
     },
     "execution_count": 35,
     "metadata": {},
     "output_type": "execute_result"
    }
   ],
   "source": [
    "arr4 = np.array([1, 2, 3, 4.5])\n",
    "arr4"
   ]
  },
  {
   "cell_type": "markdown",
   "id": "17f37077",
   "metadata": {},
   "source": [
    "In numpy array, all elements will have same data type: here it is float"
   ]
  },
  {
   "cell_type": "code",
   "execution_count": 33,
   "id": "206a155f",
   "metadata": {},
   "outputs": [
    {
     "data": {
      "text/plain": [
       "[1, 2, 3, 4.5]"
      ]
     },
     "execution_count": 33,
     "metadata": {},
     "output_type": "execute_result"
    }
   ],
   "source": [
    "# Python list\n",
    "l4 = [1, 2, 3, 4.5]\n",
    "l4"
   ]
  },
  {
   "cell_type": "markdown",
   "id": "0d28030b",
   "metadata": {},
   "source": [
    "\"int\" is raised to \"float\" for numpy array"
   ]
  },
  {
   "cell_type": "markdown",
   "id": "fba1f1ad",
   "metadata": {},
   "source": [
    "It is possible to force datatype of purely intergers to float also"
   ]
  },
  {
   "cell_type": "code",
   "execution_count": 37,
   "id": "72c42bf9",
   "metadata": {},
   "outputs": [
    {
     "data": {
      "text/plain": [
       "array([1, 2, 3, 4])"
      ]
     },
     "execution_count": 37,
     "metadata": {},
     "output_type": "execute_result"
    }
   ],
   "source": [
    "arr5 = np.array([1, 2, 3, 4])\n",
    "arr5"
   ]
  },
  {
   "cell_type": "code",
   "execution_count": 38,
   "id": "53561f8b",
   "metadata": {},
   "outputs": [
    {
     "data": {
      "text/plain": [
       "array([1., 2., 3., 4.])"
      ]
     },
     "execution_count": 38,
     "metadata": {},
     "output_type": "execute_result"
    }
   ],
   "source": [
    "arr5 = np.array([1, 2, 3, 4], dtype=\"float\")\n",
    "arr5"
   ]
  },
  {
   "cell_type": "code",
   "execution_count": 39,
   "id": "c986a9b4",
   "metadata": {},
   "outputs": [
    {
     "data": {
      "text/plain": [
       "numpy.ndarray"
      ]
     },
     "execution_count": 39,
     "metadata": {},
     "output_type": "execute_result"
    }
   ],
   "source": [
    "type(arr5)"
   ]
  },
  {
   "cell_type": "code",
   "execution_count": 40,
   "id": "596a04d6",
   "metadata": {},
   "outputs": [
    {
     "data": {
      "text/plain": [
       "(4,)"
      ]
     },
     "execution_count": 40,
     "metadata": {},
     "output_type": "execute_result"
    }
   ],
   "source": [
    "arr5.shape"
   ]
  },
  {
   "cell_type": "code",
   "execution_count": null,
   "id": "167d22ef",
   "metadata": {},
   "outputs": [],
   "source": [
    "[6, 7, 5, 9, 5, 6, 7, 8, 6, 7, 9, 10, 9, 7]"
   ]
  },
  {
   "cell_type": "markdown",
   "id": "6291a078",
   "metadata": {
    "heading_collapsed": true
   },
   "source": [
    "# Indexing and slicing"
   ]
  },
  {
   "cell_type": "code",
   "execution_count": 41,
   "id": "0ef2dd61",
   "metadata": {
    "hidden": true
   },
   "outputs": [
    {
     "data": {
      "text/plain": [
       "array([ 0,  1,  2,  3,  4,  5,  6,  7,  8,  9, 10, 11])"
      ]
     },
     "execution_count": 41,
     "metadata": {},
     "output_type": "execute_result"
    }
   ],
   "source": [
    "m1 = np.arange(12)\n",
    "m1"
   ]
  },
  {
   "cell_type": "code",
   "execution_count": 42,
   "id": "1ceea488",
   "metadata": {
    "hidden": true
   },
   "outputs": [
    {
     "data": {
      "text/plain": [
       "0"
      ]
     },
     "execution_count": 42,
     "metadata": {},
     "output_type": "execute_result"
    }
   ],
   "source": [
    "m1[0]"
   ]
  },
  {
   "cell_type": "code",
   "execution_count": 43,
   "id": "6339b66a",
   "metadata": {
    "hidden": true
   },
   "outputs": [
    {
     "data": {
      "text/plain": [
       "5"
      ]
     },
     "execution_count": 43,
     "metadata": {},
     "output_type": "execute_result"
    }
   ],
   "source": [
    "m1[5]"
   ]
  },
  {
   "cell_type": "code",
   "execution_count": 44,
   "id": "a054601a",
   "metadata": {
    "hidden": true
   },
   "outputs": [
    {
     "data": {
      "text/plain": [
       "11"
      ]
     },
     "execution_count": 44,
     "metadata": {},
     "output_type": "execute_result"
    }
   ],
   "source": [
    "m1[-1]"
   ]
  },
  {
   "cell_type": "markdown",
   "id": "4f57204a",
   "metadata": {
    "hidden": true
   },
   "source": [
    "List of indices"
   ]
  },
  {
   "cell_type": "code",
   "execution_count": 45,
   "id": "bc9f98ce",
   "metadata": {
    "hidden": true
   },
   "outputs": [],
   "source": [
    "m1 = np.array([100,200,300,400,500,600])"
   ]
  },
  {
   "cell_type": "code",
   "execution_count": 47,
   "id": "76709d09",
   "metadata": {
    "hidden": true
   },
   "outputs": [
    {
     "data": {
      "text/plain": [
       "array([100, 600])"
      ]
     },
     "execution_count": 47,
     "metadata": {},
     "output_type": "execute_result"
    }
   ],
   "source": [
    "m1[[0, 5]]"
   ]
  },
  {
   "cell_type": "code",
   "execution_count": 48,
   "id": "6fb0998e",
   "metadata": {
    "hidden": true
   },
   "outputs": [
    {
     "data": {
      "text/plain": [
       "array([300, 400, 500, 200, 300, 300])"
      ]
     },
     "execution_count": 48,
     "metadata": {},
     "output_type": "execute_result"
    }
   ],
   "source": [
    "m1[[2,3,4,1,2,2]]"
   ]
  },
  {
   "cell_type": "markdown",
   "id": "8daa8447",
   "metadata": {
    "hidden": true
   },
   "source": [
    "## Slicing"
   ]
  },
  {
   "cell_type": "code",
   "execution_count": 50,
   "id": "bf70e883",
   "metadata": {
    "hidden": true
   },
   "outputs": [
    {
     "data": {
      "text/plain": [
       "array([ 1,  2,  3,  4,  5,  6,  7,  8,  9, 10])"
      ]
     },
     "execution_count": 50,
     "metadata": {},
     "output_type": "execute_result"
    }
   ],
   "source": [
    "m1 = np.array([1, 2, 3, 4, 5, 6, 7, 8, 9, 10])\n",
    "m1"
   ]
  },
  {
   "cell_type": "code",
   "execution_count": 51,
   "id": "c9071f1e",
   "metadata": {
    "hidden": true
   },
   "outputs": [
    {
     "data": {
      "text/plain": [
       "array([1, 2, 3, 4, 5])"
      ]
     },
     "execution_count": 51,
     "metadata": {},
     "output_type": "execute_result"
    }
   ],
   "source": [
    "m1[:5]"
   ]
  },
  {
   "cell_type": "code",
   "execution_count": 52,
   "id": "efa9123d",
   "metadata": {
    "hidden": true
   },
   "outputs": [
    {
     "data": {
      "text/plain": [
       "array([6, 7, 8, 9])"
      ]
     },
     "execution_count": 52,
     "metadata": {},
     "output_type": "execute_result"
    }
   ],
   "source": [
    "m1[-5:-1]"
   ]
  },
  {
   "cell_type": "markdown",
   "id": "cbb7012f",
   "metadata": {},
   "source": [
    "# Fancy Indexing"
   ]
  },
  {
   "cell_type": "code",
   "execution_count": 54,
   "id": "f697b33d",
   "metadata": {},
   "outputs": [
    {
     "data": {
      "text/plain": [
       "array([ True,  True,  True,  True,  True, False, False, False, False,\n",
       "       False])"
      ]
     },
     "execution_count": 54,
     "metadata": {},
     "output_type": "execute_result"
    }
   ],
   "source": [
    "m1 = np.array([1, 2, 3, 4, 5, 6, 7, 8, 9, 10])\n",
    "m1 < 6 # True or false in each location of the array"
   ]
  },
  {
   "cell_type": "code",
   "execution_count": 58,
   "id": "465f45ff",
   "metadata": {},
   "outputs": [
    {
     "data": {
      "text/plain": [
       "array([ 5,  6,  7,  8,  9, 10])"
      ]
     },
     "execution_count": 58,
     "metadata": {},
     "output_type": "execute_result"
    }
   ],
   "source": [
    "m1 [m1 > 4]"
   ]
  },
  {
   "cell_type": "code",
   "execution_count": 59,
   "id": "95b13c73",
   "metadata": {},
   "outputs": [
    {
     "data": {
      "text/plain": [
       "array([False,  True, False,  True, False,  True, False,  True, False,\n",
       "        True])"
      ]
     },
     "execution_count": 59,
     "metadata": {},
     "output_type": "execute_result"
    }
   ],
   "source": [
    "# All the even values from m1?\n",
    "m1%2 == 0 # modulus (remainder after dividing by 2 = 0)"
   ]
  },
  {
   "cell_type": "code",
   "execution_count": 60,
   "id": "33a25c67",
   "metadata": {},
   "outputs": [
    {
     "data": {
      "text/plain": [
       "array([ 2,  4,  6,  8, 10])"
      ]
     },
     "execution_count": 60,
     "metadata": {},
     "output_type": "execute_result"
    }
   ],
   "source": [
    "m1[m1%2==0] # get all even numbers"
   ]
  },
  {
   "cell_type": "code",
   "execution_count": 61,
   "id": "4d883a9c",
   "metadata": {},
   "outputs": [
    {
     "data": {
      "text/plain": [
       "array([1, 3, 5, 7, 9])"
      ]
     },
     "execution_count": 61,
     "metadata": {},
     "output_type": "execute_result"
    }
   ],
   "source": [
    "m1[m1%2==1] # get all odd numbers"
   ]
  },
  {
   "cell_type": "code",
   "execution_count": 64,
   "id": "5d840702",
   "metadata": {},
   "outputs": [
    {
     "data": {
      "text/plain": [
       "array([ 0,  1,  2,  3,  4,  5,  6,  7,  8,  9, 10])"
      ]
     },
     "execution_count": 64,
     "metadata": {},
     "output_type": "execute_result"
    }
   ],
   "source": [
    "a = np.arange(11)\n",
    "a"
   ]
  },
  {
   "cell_type": "markdown",
   "id": "2b40a6eb",
   "metadata": {},
   "source": [
    "# NPS"
   ]
  },
  {
   "cell_type": "code",
   "execution_count": 69,
   "id": "eb308e1a",
   "metadata": {},
   "outputs": [],
   "source": [
    "score = np.loadtxt(\"survey.txt\", dtype=\"int\")"
   ]
  },
  {
   "cell_type": "code",
   "execution_count": 70,
   "id": "c694e274",
   "metadata": {},
   "outputs": [
    {
     "data": {
      "text/plain": [
       "7"
      ]
     },
     "execution_count": 70,
     "metadata": {},
     "output_type": "execute_result"
    }
   ],
   "source": [
    "score[0]"
   ]
  },
  {
   "cell_type": "code",
   "execution_count": 71,
   "id": "6ea66ff0",
   "metadata": {},
   "outputs": [
    {
     "data": {
      "text/plain": [
       "10"
      ]
     },
     "execution_count": 71,
     "metadata": {},
     "output_type": "execute_result"
    }
   ],
   "source": [
    "score[1]"
   ]
  },
  {
   "cell_type": "code",
   "execution_count": 72,
   "id": "2f084f9f",
   "metadata": {},
   "outputs": [
    {
     "data": {
      "text/plain": [
       "(1167,)"
      ]
     },
     "execution_count": 72,
     "metadata": {},
     "output_type": "execute_result"
    }
   ],
   "source": [
    "score.shape"
   ]
  },
  {
   "cell_type": "code",
   "execution_count": 73,
   "id": "825559f8",
   "metadata": {},
   "outputs": [
    {
     "data": {
      "text/plain": [
       "1167"
      ]
     },
     "execution_count": 73,
     "metadata": {},
     "output_type": "execute_result"
    }
   ],
   "source": [
    "len(score)"
   ]
  },
  {
   "cell_type": "code",
   "execution_count": 80,
   "id": "77062e1e",
   "metadata": {},
   "outputs": [
    {
     "data": {
      "text/plain": [
       "1167"
      ]
     },
     "execution_count": 80,
     "metadata": {},
     "output_type": "execute_result"
    }
   ],
   "source": [
    "total = len(score)\n",
    "total"
   ]
  },
  {
   "cell_type": "code",
   "execution_count": null,
   "id": "ae13aab6",
   "metadata": {},
   "outputs": [],
   "source": [
    "# How to get all the detractors"
   ]
  },
  {
   "cell_type": "code",
   "execution_count": 75,
   "id": "6bece78d",
   "metadata": {},
   "outputs": [],
   "source": [
    "detractors = score[score <= 6]"
   ]
  },
  {
   "cell_type": "code",
   "execution_count": 76,
   "id": "90ef0c09",
   "metadata": {},
   "outputs": [],
   "source": [
    "promoters = score[score >= 9]"
   ]
  },
  {
   "cell_type": "code",
   "execution_count": 78,
   "id": "ea2671b8",
   "metadata": {},
   "outputs": [
    {
     "data": {
      "text/plain": [
       "332"
      ]
     },
     "execution_count": 78,
     "metadata": {},
     "output_type": "execute_result"
    }
   ],
   "source": [
    "num_detractors = len(detractors)\n",
    "num_detractors"
   ]
  },
  {
   "cell_type": "code",
   "execution_count": 79,
   "id": "2801214e",
   "metadata": {},
   "outputs": [
    {
     "data": {
      "text/plain": [
       "609"
      ]
     },
     "execution_count": 79,
     "metadata": {},
     "output_type": "execute_result"
    }
   ],
   "source": [
    "num_promoters = len(promoters)\n",
    "num_promoters"
   ]
  },
  {
   "cell_type": "code",
   "execution_count": 83,
   "id": "c4895031",
   "metadata": {},
   "outputs": [
    {
     "data": {
      "text/plain": [
       "28.449014567266495"
      ]
     },
     "execution_count": 83,
     "metadata": {},
     "output_type": "execute_result"
    }
   ],
   "source": [
    "percentage_detractors = (num_detractors/total) * 100\n",
    "percentage_detractors"
   ]
  },
  {
   "cell_type": "code",
   "execution_count": 84,
   "id": "3b5ea01e",
   "metadata": {},
   "outputs": [
    {
     "data": {
      "text/plain": [
       "52.185089974293064"
      ]
     },
     "execution_count": 84,
     "metadata": {},
     "output_type": "execute_result"
    }
   ],
   "source": [
    "percentage_promoters = (num_promoters/total) * 100\n",
    "percentage_promoters"
   ]
  },
  {
   "cell_type": "code",
   "execution_count": 85,
   "id": "5d59fe12",
   "metadata": {},
   "outputs": [
    {
     "data": {
      "text/plain": [
       "23.73607540702657"
      ]
     },
     "execution_count": 85,
     "metadata": {},
     "output_type": "execute_result"
    }
   ],
   "source": [
    "nps = percentage_promoters - percentage_detractors\n",
    "nps"
   ]
  },
  {
   "cell_type": "markdown",
   "id": "6513e6a3",
   "metadata": {},
   "source": [
    "# Minimum, maximum, mean"
   ]
  },
  {
   "cell_type": "code",
   "execution_count": 86,
   "id": "bb7d2bee",
   "metadata": {},
   "outputs": [
    {
     "data": {
      "text/plain": [
       "1"
      ]
     },
     "execution_count": 86,
     "metadata": {},
     "output_type": "execute_result"
    }
   ],
   "source": [
    "score.min()"
   ]
  },
  {
   "cell_type": "code",
   "execution_count": 87,
   "id": "473e0c21",
   "metadata": {},
   "outputs": [
    {
     "data": {
      "text/plain": [
       "10"
      ]
     },
     "execution_count": 87,
     "metadata": {},
     "output_type": "execute_result"
    }
   ],
   "source": [
    "score.max()"
   ]
  },
  {
   "cell_type": "code",
   "execution_count": 89,
   "id": "c2af5067",
   "metadata": {},
   "outputs": [
    {
     "data": {
      "text/plain": [
       "array([0, 1, 2, 3, 4, 5, 6, 7, 8, 9])"
      ]
     },
     "execution_count": 89,
     "metadata": {},
     "output_type": "execute_result"
    }
   ],
   "source": [
    "a = np.arange(10)\n",
    "a"
   ]
  },
  {
   "cell_type": "code",
   "execution_count": 91,
   "id": "285178d0",
   "metadata": {},
   "outputs": [],
   "source": [
    "a[:5] = 100"
   ]
  },
  {
   "cell_type": "code",
   "execution_count": 92,
   "id": "ce7a78a0",
   "metadata": {},
   "outputs": [
    {
     "data": {
      "text/plain": [
       "array([100, 100, 100, 100, 100,   5,   6,   7,   8,   9])"
      ]
     },
     "execution_count": 92,
     "metadata": {},
     "output_type": "execute_result"
    }
   ],
   "source": [
    "a"
   ]
  }
 ],
 "metadata": {
  "kernelspec": {
   "display_name": "Python 3 (ipykernel)",
   "language": "python",
   "name": "python3"
  },
  "language_info": {
   "codemirror_mode": {
    "name": "ipython",
    "version": 3
   },
   "file_extension": ".py",
   "mimetype": "text/x-python",
   "name": "python",
   "nbconvert_exporter": "python",
   "pygments_lexer": "ipython3",
   "version": "3.8.12"
  }
 },
 "nbformat": 4,
 "nbformat_minor": 5
}
