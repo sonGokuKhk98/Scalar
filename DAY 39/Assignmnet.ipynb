{
 "cells": [
  {
   "cell_type": "code",
   "execution_count": 93,
   "metadata": {},
   "outputs": [
    {
     "data": {
      "text/html": [
       "<div>\n",
       "<style scoped>\n",
       "    .dataframe tbody tr th:only-of-type {\n",
       "        vertical-align: middle;\n",
       "    }\n",
       "\n",
       "    .dataframe tbody tr th {\n",
       "        vertical-align: top;\n",
       "    }\n",
       "\n",
       "    .dataframe thead th {\n",
       "        text-align: right;\n",
       "    }\n",
       "</style>\n",
       "<table border=\"1\" class=\"dataframe\">\n",
       "  <thead>\n",
       "    <tr style=\"text-align: right;\">\n",
       "      <th></th>\n",
       "      <th>Loan_ID</th>\n",
       "      <th>Gender</th>\n",
       "      <th>Married</th>\n",
       "      <th>Dependents</th>\n",
       "      <th>Education</th>\n",
       "      <th>Self_Employed</th>\n",
       "      <th>ApplicantIncome</th>\n",
       "      <th>CoapplicantIncome</th>\n",
       "      <th>LoanAmount</th>\n",
       "      <th>Loan_Amount_Term</th>\n",
       "      <th>Credit_History</th>\n",
       "      <th>Property_Area</th>\n",
       "      <th>Loan_Status</th>\n",
       "    </tr>\n",
       "  </thead>\n",
       "  <tbody>\n",
       "    <tr>\n",
       "      <th>0</th>\n",
       "      <td>LP001002</td>\n",
       "      <td>Male</td>\n",
       "      <td>No</td>\n",
       "      <td>0</td>\n",
       "      <td>Graduate</td>\n",
       "      <td>No</td>\n",
       "      <td>5849</td>\n",
       "      <td>0.0</td>\n",
       "      <td>NaN</td>\n",
       "      <td>360.0</td>\n",
       "      <td>1.0</td>\n",
       "      <td>Urban</td>\n",
       "      <td>Y</td>\n",
       "    </tr>\n",
       "    <tr>\n",
       "      <th>1</th>\n",
       "      <td>LP001003</td>\n",
       "      <td>Male</td>\n",
       "      <td>Yes</td>\n",
       "      <td>1</td>\n",
       "      <td>Graduate</td>\n",
       "      <td>No</td>\n",
       "      <td>4583</td>\n",
       "      <td>1508.0</td>\n",
       "      <td>128.0</td>\n",
       "      <td>360.0</td>\n",
       "      <td>1.0</td>\n",
       "      <td>Rural</td>\n",
       "      <td>N</td>\n",
       "    </tr>\n",
       "    <tr>\n",
       "      <th>2</th>\n",
       "      <td>LP001005</td>\n",
       "      <td>Male</td>\n",
       "      <td>Yes</td>\n",
       "      <td>0</td>\n",
       "      <td>Graduate</td>\n",
       "      <td>Yes</td>\n",
       "      <td>3000</td>\n",
       "      <td>0.0</td>\n",
       "      <td>66.0</td>\n",
       "      <td>360.0</td>\n",
       "      <td>1.0</td>\n",
       "      <td>Urban</td>\n",
       "      <td>Y</td>\n",
       "    </tr>\n",
       "    <tr>\n",
       "      <th>3</th>\n",
       "      <td>LP001006</td>\n",
       "      <td>Male</td>\n",
       "      <td>Yes</td>\n",
       "      <td>0</td>\n",
       "      <td>Not Graduate</td>\n",
       "      <td>No</td>\n",
       "      <td>2583</td>\n",
       "      <td>2358.0</td>\n",
       "      <td>120.0</td>\n",
       "      <td>360.0</td>\n",
       "      <td>1.0</td>\n",
       "      <td>Urban</td>\n",
       "      <td>Y</td>\n",
       "    </tr>\n",
       "    <tr>\n",
       "      <th>4</th>\n",
       "      <td>LP001008</td>\n",
       "      <td>Male</td>\n",
       "      <td>No</td>\n",
       "      <td>0</td>\n",
       "      <td>Graduate</td>\n",
       "      <td>No</td>\n",
       "      <td>6000</td>\n",
       "      <td>0.0</td>\n",
       "      <td>141.0</td>\n",
       "      <td>360.0</td>\n",
       "      <td>1.0</td>\n",
       "      <td>Urban</td>\n",
       "      <td>Y</td>\n",
       "    </tr>\n",
       "    <tr>\n",
       "      <th>...</th>\n",
       "      <td>...</td>\n",
       "      <td>...</td>\n",
       "      <td>...</td>\n",
       "      <td>...</td>\n",
       "      <td>...</td>\n",
       "      <td>...</td>\n",
       "      <td>...</td>\n",
       "      <td>...</td>\n",
       "      <td>...</td>\n",
       "      <td>...</td>\n",
       "      <td>...</td>\n",
       "      <td>...</td>\n",
       "      <td>...</td>\n",
       "    </tr>\n",
       "    <tr>\n",
       "      <th>609</th>\n",
       "      <td>LP002978</td>\n",
       "      <td>Female</td>\n",
       "      <td>No</td>\n",
       "      <td>0</td>\n",
       "      <td>Graduate</td>\n",
       "      <td>No</td>\n",
       "      <td>2900</td>\n",
       "      <td>0.0</td>\n",
       "      <td>71.0</td>\n",
       "      <td>360.0</td>\n",
       "      <td>1.0</td>\n",
       "      <td>Rural</td>\n",
       "      <td>Y</td>\n",
       "    </tr>\n",
       "    <tr>\n",
       "      <th>610</th>\n",
       "      <td>LP002979</td>\n",
       "      <td>Male</td>\n",
       "      <td>Yes</td>\n",
       "      <td>3+</td>\n",
       "      <td>Graduate</td>\n",
       "      <td>No</td>\n",
       "      <td>4106</td>\n",
       "      <td>0.0</td>\n",
       "      <td>40.0</td>\n",
       "      <td>180.0</td>\n",
       "      <td>1.0</td>\n",
       "      <td>Rural</td>\n",
       "      <td>Y</td>\n",
       "    </tr>\n",
       "    <tr>\n",
       "      <th>611</th>\n",
       "      <td>LP002983</td>\n",
       "      <td>Male</td>\n",
       "      <td>Yes</td>\n",
       "      <td>1</td>\n",
       "      <td>Graduate</td>\n",
       "      <td>No</td>\n",
       "      <td>8072</td>\n",
       "      <td>240.0</td>\n",
       "      <td>253.0</td>\n",
       "      <td>360.0</td>\n",
       "      <td>1.0</td>\n",
       "      <td>Urban</td>\n",
       "      <td>Y</td>\n",
       "    </tr>\n",
       "    <tr>\n",
       "      <th>612</th>\n",
       "      <td>LP002984</td>\n",
       "      <td>Male</td>\n",
       "      <td>Yes</td>\n",
       "      <td>2</td>\n",
       "      <td>Graduate</td>\n",
       "      <td>No</td>\n",
       "      <td>7583</td>\n",
       "      <td>0.0</td>\n",
       "      <td>187.0</td>\n",
       "      <td>360.0</td>\n",
       "      <td>1.0</td>\n",
       "      <td>Urban</td>\n",
       "      <td>Y</td>\n",
       "    </tr>\n",
       "    <tr>\n",
       "      <th>613</th>\n",
       "      <td>LP002990</td>\n",
       "      <td>Female</td>\n",
       "      <td>No</td>\n",
       "      <td>0</td>\n",
       "      <td>Graduate</td>\n",
       "      <td>Yes</td>\n",
       "      <td>4583</td>\n",
       "      <td>0.0</td>\n",
       "      <td>133.0</td>\n",
       "      <td>360.0</td>\n",
       "      <td>0.0</td>\n",
       "      <td>Semiurban</td>\n",
       "      <td>N</td>\n",
       "    </tr>\n",
       "  </tbody>\n",
       "</table>\n",
       "<p>614 rows × 13 columns</p>\n",
       "</div>"
      ],
      "text/plain": [
       "      Loan_ID  Gender Married Dependents     Education Self_Employed  \\\n",
       "0    LP001002    Male      No          0      Graduate            No   \n",
       "1    LP001003    Male     Yes          1      Graduate            No   \n",
       "2    LP001005    Male     Yes          0      Graduate           Yes   \n",
       "3    LP001006    Male     Yes          0  Not Graduate            No   \n",
       "4    LP001008    Male      No          0      Graduate            No   \n",
       "..        ...     ...     ...        ...           ...           ...   \n",
       "609  LP002978  Female      No          0      Graduate            No   \n",
       "610  LP002979    Male     Yes         3+      Graduate            No   \n",
       "611  LP002983    Male     Yes          1      Graduate            No   \n",
       "612  LP002984    Male     Yes          2      Graduate            No   \n",
       "613  LP002990  Female      No          0      Graduate           Yes   \n",
       "\n",
       "     ApplicantIncome  CoapplicantIncome  LoanAmount  Loan_Amount_Term  \\\n",
       "0               5849                0.0         NaN             360.0   \n",
       "1               4583             1508.0       128.0             360.0   \n",
       "2               3000                0.0        66.0             360.0   \n",
       "3               2583             2358.0       120.0             360.0   \n",
       "4               6000                0.0       141.0             360.0   \n",
       "..               ...                ...         ...               ...   \n",
       "609             2900                0.0        71.0             360.0   \n",
       "610             4106                0.0        40.0             180.0   \n",
       "611             8072              240.0       253.0             360.0   \n",
       "612             7583                0.0       187.0             360.0   \n",
       "613             4583                0.0       133.0             360.0   \n",
       "\n",
       "     Credit_History Property_Area Loan_Status  \n",
       "0               1.0         Urban           Y  \n",
       "1               1.0         Rural           N  \n",
       "2               1.0         Urban           Y  \n",
       "3               1.0         Urban           Y  \n",
       "4               1.0         Urban           Y  \n",
       "..              ...           ...         ...  \n",
       "609             1.0         Rural           Y  \n",
       "610             1.0         Rural           Y  \n",
       "611             1.0         Urban           Y  \n",
       "612             1.0         Urban           Y  \n",
       "613             0.0     Semiurban           N  \n",
       "\n",
       "[614 rows x 13 columns]"
      ]
     },
     "execution_count": 93,
     "metadata": {},
     "output_type": "execute_result"
    }
   ],
   "source": [
    "import pandas as pd\n",
    "loan_df = pd.read_csv(\"loan.csv\")\n",
    "loan_df"
   ]
  },
  {
   "attachments": {},
   "cell_type": "markdown",
   "metadata": {},
   "source": [
    "### Q1. Difference in income groups\n",
    "We believe that the loan.csv data shows that unmarried men are in a different income group than both married and unmarried women.\n",
    "\n",
    "To prove this, would a t-test be more appropriate or a chi-square test?\n",
    "\n",
    "Carry out the test on the 'ApplicantIncome' column for the two groups and report the p-value. Also report your interpretation.\n",
    "\n",
    "Note: Assume a confidence level of 5% and round off the p-value to 2 decimal places.\n",
    "\n"
   ]
  },
  {
   "cell_type": "code",
   "execution_count": 94,
   "metadata": {},
   "outputs": [
    {
     "name": "stdout",
     "output_type": "stream",
     "text": [
      "ApplicantIncome data type :int64\n",
      "ApplicantIncome data type :object\n"
     ]
    }
   ],
   "source": [
    "# Since Applicant income is numerical\n",
    "\n",
    "print(\"ApplicantIncome data type :\"+str(loan_df[\"ApplicantIncome\"].dtypes))\n",
    "\n",
    "print(\"ApplicantIncome data type :\"+str(loan_df[\"Married\"].dtypes))\n"
   ]
  },
  {
   "cell_type": "code",
   "execution_count": 95,
   "metadata": {},
   "outputs": [
    {
     "data": {
      "text/plain": [
       "0      5849\n",
       "4      6000\n",
       "13     1853\n",
       "15     4950\n",
       "16     3596\n",
       "       ... \n",
       "579    3182\n",
       "581    1836\n",
       "595    3833\n",
       "597    2987\n",
       "603    3676\n",
       "Name: ApplicantIncome, Length: 130, dtype: int64"
      ]
     },
     "execution_count": 95,
     "metadata": {},
     "output_type": "execute_result"
    }
   ],
   "source": [
    "loan_df[(loan_df[\"Married\"] == \"No\") & (loan_df[\"Gender\"] == \"Male\")][\"ApplicantIncome\"] \n",
    "#loan_df[(loan_df[\"Gender\"] == \"Female\")][\"ApplicantIncome\"]\n"
   ]
  },
  {
   "cell_type": "code",
   "execution_count": 96,
   "metadata": {},
   "outputs": [
    {
     "name": "stdout",
     "output_type": "stream",
     "text": [
      "0.26\n",
      "Failed to Reject H0,  implying that the incomes of both groups are similar \n"
     ]
    }
   ],
   "source": [
    "from scipy.stats import ttest_ind\n",
    "# H0 i\n",
    "def check_significance_tetest(alpha):\n",
    "    t_stat,p_value = ttest_ind(loan_df[(loan_df[\"Married\"] == \"No\") & (loan_df[\"Gender\"] == \"Male\")][\"ApplicantIncome\"] ,loan_df[(loan_df[\"Gender\"] == \"Female\")][\"ApplicantIncome\"]\n",
    ")\n",
    "    print(round(p_value,2))\n",
    "    if p_value < alpha:\n",
    "        \n",
    "        print(\"Reject H0,  implying that the incomes of both groups are different\")\n",
    "    else: \n",
    "        print(\"Failed to Reject H0,  implying that the incomes of both groups are similar \")\n",
    "    \n",
    "check_significance_tetest(0.05)"
   ]
  },
  {
   "attachments": {},
   "cell_type": "markdown",
   "metadata": {},
   "source": [
    "### Q2.) Graduate unmarried men\n",
    "We believe that the loan.csv data shows that graduate unmarried men are in a different income group than both married and unmarried graduate women.\n",
    "\n",
    "To prove this, would a t-test be more appropriate or a chi-square test?\n",
    "\n",
    "Carry out the test on the 'ApplicantIncome' column for the two groups and report the p-value. Also report your interpretation.\n",
    "\n",
    "Note: Assume a confidence level of 5% and round off the p-value to 2 decimal places.\n"
   ]
  },
  {
   "cell_type": "code",
   "execution_count": 97,
   "metadata": {},
   "outputs": [
    {
     "name": "stdout",
     "output_type": "stream",
     "text": [
      "0.08\n",
      "Failed to Reject H0,  implying that the incomes of both groups are similar \n"
     ]
    }
   ],
   "source": [
    "from scipy.stats import ttest_ind\n",
    "# H0 i\n",
    "def check_significance_tetest(alpha):\n",
    "    t_stat,p_value = ttest_ind(loan_df[(loan_df[\"Married\"] == \"No\") & (loan_df[\"Gender\"] == \"Male\") &(loan_df[\"Education\"] == \"Graduate\") ][\"ApplicantIncome\"] ,\n",
    "                               loan_df[(loan_df[\"Gender\"] == \"Female\")&(loan_df[\"Education\"] == \"Graduate\")][\"ApplicantIncome\"]\n",
    ")\n",
    "    print(round(p_value,2))\n",
    "    if p_value < alpha:\n",
    "        \n",
    "        print(\"Reject H0,  implying that the incomes of both groups are different\")\n",
    "    else: \n",
    "        print(\"Failed to Reject H0,  implying that the incomes of both groups are similar \")\n",
    "    \n",
    "check_significance_tetest(0.05)"
   ]
  },
  {
   "attachments": {},
   "cell_type": "markdown",
   "metadata": {},
   "source": [
    "### Q3 .) We believe that the loan.csv data shows that graduate unmarried men are more likely to get a loan than graduate women.\n",
    "To prove this, would a t-test be more appropriate or a chi-square test?\n",
    "\n",
    "Carry out the appropriate test on the 'Loan_Status' column for the two groups and report the p-value. Also report your interpretation.\n",
    "\n",
    "Note: Assume a confidence level of 5% and round off the p-value to 2 decimal places."
   ]
  },
  {
   "cell_type": "code",
   "execution_count": 98,
   "metadata": {},
   "outputs": [
    {
     "name": "stdout",
     "output_type": "stream",
     "text": [
      "0.7045164323229686,  implying that likelihood of getting a loan is different for one of the groups\n"
     ]
    }
   ],
   "source": [
    "from scipy.stats import chi2_contingency\n",
    "loan_df[\"MaleUnmarriedGraduate\"] = (loan_df[\"Married\"] == \"No\") & (loan_df[\"Gender\"] == \"Male\") &(loan_df[\"Education\"] == \"Graduate\") \n",
    "loan_df[\"FemaleGraduate\"] =(loan_df[\"Gender\"] == \"Female\")&(loan_df[\"Education\"] == \"Graduate\")\n",
    "\n",
    "loan_df = loan_df[(loan_df[\"MaleUnmarriedGraduate\"] == True) | (loan_df[\"FemaleGraduate\"] == True)]\n",
    "\n",
    "alpha = 0.5\n",
    "\n",
    "\n",
    "_,p_value,_,_ = chi2_contingency(pd.crosstab(loan_df[\"MaleUnmarriedGraduate\"],loan_df[\"Loan_Status\"]))\n",
    "\n",
    "if p_value< alpha:\n",
    "    print(f\"{p_value},  implying that likelihood of getting a loan is same for both groups \")\n",
    "else:\n",
    "    print(f\"{p_value},  implying that likelihood of getting a loan is different for one of the groups\")"
   ]
  },
  {
   "attachments": {},
   "cell_type": "markdown",
   "metadata": {},
   "source": [
    "### Q4. Create new feature\n",
    "\n",
    "\n",
    "We have been given a dataset containing the details of the people applied for loan.\n",
    "\n",
    "dataset: loan.csv\n",
    "\n",
    "We wish to create a new feature called 'NewFeature' using a linear combination of the features ApplicantIncome, LoanAmount and Credit_History, with weights 1, 3 and 7000,\n",
    "\n",
    "i.e., data['NewFeature'] = (data[\"ApplicantIncome\"]) + (3 * data[\"LoanAmount\"]) + (7000 * data[\"Credit_History\"]).\n",
    "\n",
    "Since 'NewFeature' is a numerical feature, convert it to a categorical feature by checking whether 'NewFeature' is greater than 0.25 times the mean of 'NewFeature'. Call this feature 'Separator'.\n",
    "\n",
    "Perform a chi-square test on the contingency table formed by the features 'Loan_Status' and 'Separator' and report the p-value. Also report your interpretation.\n",
    "\n",
    "Note: Drop all the rows having 'na' values before performing any operation on the data and assume the significance level to be 5%. Also, round off the p-value to four decimal places."
   ]
  },
  {
   "cell_type": "code",
   "execution_count": 159,
   "metadata": {},
   "outputs": [
    {
     "data": {
      "text/plain": [
       "0      False\n",
       "1       True\n",
       "2       True\n",
       "3       True\n",
       "4       True\n",
       "       ...  \n",
       "609     True\n",
       "610     True\n",
       "611     True\n",
       "612     True\n",
       "613     True\n",
       "Name: Separator, Length: 614, dtype: bool"
      ]
     },
     "execution_count": 159,
     "metadata": {},
     "output_type": "execute_result"
    }
   ],
   "source": [
    "\n",
    "loan_df['Separator']"
   ]
  },
  {
   "cell_type": "code",
   "execution_count": 171,
   "metadata": {},
   "outputs": [
    {
     "name": "stdout",
     "output_type": "stream",
     "text": [
      "p-value: 0.0001\n"
     ]
    }
   ],
   "source": [
    "import pandas as pd\n",
    "from scipy.stats import chi2_contingency\n",
    "loan_df = pd.read_csv(\"loan.csv\")\n",
    "loan_df.dropna(inplace=True)\n",
    "loan_df['NewFeature'] = (loan_df[\"ApplicantIncome\"]) + (3 * loan_df[\"LoanAmount\"]) + (7000 * loan_df[\"Credit_History\"])\n",
    "loan_df['Separator'] = loan_df['NewFeature'] > (loan_df['NewFeature'].mean()*0.25)\n",
    "\n",
    "#loan_df[\"Seperator\"] = loan_df['NewFeature'].apply(lambda x: \"Over_quarter\" if x >= mean_threshold else \"Under_quarter\")\n",
    "#print(loan_df[\"Seperator\"].value_counts())\n",
    "\n",
    "_,p_value,_,_= chi2_contingency(pd.crosstab(loan_df['Separator'],loan_df[\"Loan_Status\"]))\n",
    "\n",
    "print('p-value:',round(p_value,4))"
   ]
  },
  {
   "cell_type": "code",
   "execution_count": 170,
   "metadata": {},
   "outputs": [
    {
     "data": {
      "text/html": [
       "<div>\n",
       "<style scoped>\n",
       "    .dataframe tbody tr th:only-of-type {\n",
       "        vertical-align: middle;\n",
       "    }\n",
       "\n",
       "    .dataframe tbody tr th {\n",
       "        vertical-align: top;\n",
       "    }\n",
       "\n",
       "    .dataframe thead th {\n",
       "        text-align: right;\n",
       "    }\n",
       "</style>\n",
       "<table border=\"1\" class=\"dataframe\">\n",
       "  <thead>\n",
       "    <tr style=\"text-align: right;\">\n",
       "      <th>Loan_Status</th>\n",
       "      <th>N</th>\n",
       "      <th>Y</th>\n",
       "    </tr>\n",
       "    <tr>\n",
       "      <th>Separator</th>\n",
       "      <th></th>\n",
       "      <th></th>\n",
       "    </tr>\n",
       "  </thead>\n",
       "  <tbody>\n",
       "    <tr>\n",
       "      <th>False</th>\n",
       "      <td>11</td>\n",
       "      <td>2</td>\n",
       "    </tr>\n",
       "    <tr>\n",
       "      <th>True</th>\n",
       "      <td>137</td>\n",
       "      <td>330</td>\n",
       "    </tr>\n",
       "  </tbody>\n",
       "</table>\n",
       "</div>"
      ],
      "text/plain": [
       "Loan_Status    N    Y\n",
       "Separator            \n",
       "False         11    2\n",
       "True         137  330"
      ]
     },
     "execution_count": 170,
     "metadata": {},
     "output_type": "execute_result"
    }
   ],
   "source": [
    "pd.crosstab(loan_df['Separator'],loan_df[\"Loan_Status\"])"
   ]
  },
  {
   "cell_type": "code",
   "execution_count": 162,
   "metadata": {},
   "outputs": [
    {
     "ename": "KeyError",
     "evalue": "'Separator'",
     "output_type": "error",
     "traceback": [
      "\u001b[0;31m---------------------------------------------------------------------------\u001b[0m",
      "\u001b[0;31mKeyError\u001b[0m                                  Traceback (most recent call last)",
      "\u001b[0;32m/opt/anaconda3/lib/python3.8/site-packages/pandas/core/indexes/base.py\u001b[0m in \u001b[0;36mget_loc\u001b[0;34m(self, key, method, tolerance)\u001b[0m\n\u001b[1;32m   2894\u001b[0m             \u001b[0;32mtry\u001b[0m\u001b[0;34m:\u001b[0m\u001b[0;34m\u001b[0m\u001b[0;34m\u001b[0m\u001b[0m\n\u001b[0;32m-> 2895\u001b[0;31m                 \u001b[0;32mreturn\u001b[0m \u001b[0mself\u001b[0m\u001b[0;34m.\u001b[0m\u001b[0m_engine\u001b[0m\u001b[0;34m.\u001b[0m\u001b[0mget_loc\u001b[0m\u001b[0;34m(\u001b[0m\u001b[0mcasted_key\u001b[0m\u001b[0;34m)\u001b[0m\u001b[0;34m\u001b[0m\u001b[0;34m\u001b[0m\u001b[0m\n\u001b[0m\u001b[1;32m   2896\u001b[0m             \u001b[0;32mexcept\u001b[0m \u001b[0mKeyError\u001b[0m \u001b[0;32mas\u001b[0m \u001b[0merr\u001b[0m\u001b[0;34m:\u001b[0m\u001b[0;34m\u001b[0m\u001b[0;34m\u001b[0m\u001b[0m\n",
      "\u001b[0;32mpandas/_libs/index.pyx\u001b[0m in \u001b[0;36mpandas._libs.index.IndexEngine.get_loc\u001b[0;34m()\u001b[0m\n",
      "\u001b[0;32mpandas/_libs/index.pyx\u001b[0m in \u001b[0;36mpandas._libs.index.IndexEngine.get_loc\u001b[0;34m()\u001b[0m\n",
      "\u001b[0;32mpandas/_libs/hashtable_class_helper.pxi\u001b[0m in \u001b[0;36mpandas._libs.hashtable.PyObjectHashTable.get_item\u001b[0;34m()\u001b[0m\n",
      "\u001b[0;32mpandas/_libs/hashtable_class_helper.pxi\u001b[0m in \u001b[0;36mpandas._libs.hashtable.PyObjectHashTable.get_item\u001b[0;34m()\u001b[0m\n",
      "\u001b[0;31mKeyError\u001b[0m: 'Separator'",
      "\nThe above exception was the direct cause of the following exception:\n",
      "\u001b[0;31mKeyError\u001b[0m                                  Traceback (most recent call last)",
      "\u001b[0;32m<ipython-input-162-3f9c7ee9f3ca>\u001b[0m in \u001b[0;36m<module>\u001b[0;34m\u001b[0m\n\u001b[0;32m----> 1\u001b[0;31m \u001b[0mpd\u001b[0m\u001b[0;34m.\u001b[0m\u001b[0mcrosstab\u001b[0m\u001b[0;34m(\u001b[0m\u001b[0mloan_df\u001b[0m\u001b[0;34m[\u001b[0m\u001b[0;34m'Separator'\u001b[0m\u001b[0;34m]\u001b[0m\u001b[0;34m,\u001b[0m\u001b[0mloan_df\u001b[0m\u001b[0;34m[\u001b[0m\u001b[0;34m\"Loan_Status\"\u001b[0m\u001b[0;34m]\u001b[0m\u001b[0;34m)\u001b[0m\u001b[0;34m\u001b[0m\u001b[0;34m\u001b[0m\u001b[0m\n\u001b[0m",
      "\u001b[0;32m/opt/anaconda3/lib/python3.8/site-packages/pandas/core/frame.py\u001b[0m in \u001b[0;36m__getitem__\u001b[0;34m(self, key)\u001b[0m\n\u001b[1;32m   2900\u001b[0m             \u001b[0;32mif\u001b[0m \u001b[0mself\u001b[0m\u001b[0;34m.\u001b[0m\u001b[0mcolumns\u001b[0m\u001b[0;34m.\u001b[0m\u001b[0mnlevels\u001b[0m \u001b[0;34m>\u001b[0m \u001b[0;36m1\u001b[0m\u001b[0;34m:\u001b[0m\u001b[0;34m\u001b[0m\u001b[0;34m\u001b[0m\u001b[0m\n\u001b[1;32m   2901\u001b[0m                 \u001b[0;32mreturn\u001b[0m \u001b[0mself\u001b[0m\u001b[0;34m.\u001b[0m\u001b[0m_getitem_multilevel\u001b[0m\u001b[0;34m(\u001b[0m\u001b[0mkey\u001b[0m\u001b[0;34m)\u001b[0m\u001b[0;34m\u001b[0m\u001b[0;34m\u001b[0m\u001b[0m\n\u001b[0;32m-> 2902\u001b[0;31m             \u001b[0mindexer\u001b[0m \u001b[0;34m=\u001b[0m \u001b[0mself\u001b[0m\u001b[0;34m.\u001b[0m\u001b[0mcolumns\u001b[0m\u001b[0;34m.\u001b[0m\u001b[0mget_loc\u001b[0m\u001b[0;34m(\u001b[0m\u001b[0mkey\u001b[0m\u001b[0;34m)\u001b[0m\u001b[0;34m\u001b[0m\u001b[0;34m\u001b[0m\u001b[0m\n\u001b[0m\u001b[1;32m   2903\u001b[0m             \u001b[0;32mif\u001b[0m \u001b[0mis_integer\u001b[0m\u001b[0;34m(\u001b[0m\u001b[0mindexer\u001b[0m\u001b[0;34m)\u001b[0m\u001b[0;34m:\u001b[0m\u001b[0;34m\u001b[0m\u001b[0;34m\u001b[0m\u001b[0m\n\u001b[1;32m   2904\u001b[0m                 \u001b[0mindexer\u001b[0m \u001b[0;34m=\u001b[0m \u001b[0;34m[\u001b[0m\u001b[0mindexer\u001b[0m\u001b[0;34m]\u001b[0m\u001b[0;34m\u001b[0m\u001b[0;34m\u001b[0m\u001b[0m\n",
      "\u001b[0;32m/opt/anaconda3/lib/python3.8/site-packages/pandas/core/indexes/base.py\u001b[0m in \u001b[0;36mget_loc\u001b[0;34m(self, key, method, tolerance)\u001b[0m\n\u001b[1;32m   2895\u001b[0m                 \u001b[0;32mreturn\u001b[0m \u001b[0mself\u001b[0m\u001b[0;34m.\u001b[0m\u001b[0m_engine\u001b[0m\u001b[0;34m.\u001b[0m\u001b[0mget_loc\u001b[0m\u001b[0;34m(\u001b[0m\u001b[0mcasted_key\u001b[0m\u001b[0;34m)\u001b[0m\u001b[0;34m\u001b[0m\u001b[0;34m\u001b[0m\u001b[0m\n\u001b[1;32m   2896\u001b[0m             \u001b[0;32mexcept\u001b[0m \u001b[0mKeyError\u001b[0m \u001b[0;32mas\u001b[0m \u001b[0merr\u001b[0m\u001b[0;34m:\u001b[0m\u001b[0;34m\u001b[0m\u001b[0;34m\u001b[0m\u001b[0m\n\u001b[0;32m-> 2897\u001b[0;31m                 \u001b[0;32mraise\u001b[0m \u001b[0mKeyError\u001b[0m\u001b[0;34m(\u001b[0m\u001b[0mkey\u001b[0m\u001b[0;34m)\u001b[0m \u001b[0;32mfrom\u001b[0m \u001b[0merr\u001b[0m\u001b[0;34m\u001b[0m\u001b[0;34m\u001b[0m\u001b[0m\n\u001b[0m\u001b[1;32m   2898\u001b[0m \u001b[0;34m\u001b[0m\u001b[0m\n\u001b[1;32m   2899\u001b[0m         \u001b[0;32mif\u001b[0m \u001b[0mtolerance\u001b[0m \u001b[0;32mis\u001b[0m \u001b[0;32mnot\u001b[0m \u001b[0;32mNone\u001b[0m\u001b[0;34m:\u001b[0m\u001b[0;34m\u001b[0m\u001b[0;34m\u001b[0m\u001b[0m\n",
      "\u001b[0;31mKeyError\u001b[0m: 'Separator'"
     ]
    }
   ],
   "source": [
    "pd.crosstab(loan_df['Separator'],loan_df[\"Loan_Status\"])"
   ]
  },
  {
   "cell_type": "code",
   "execution_count": 141,
   "metadata": {},
   "outputs": [],
   "source": [
    "loan_df.dropna(subset=[\"ApplicantIncome\",\"LoanAmount\",\"Credit_History\"],inplace=True)"
   ]
  },
  {
   "cell_type": "code",
   "execution_count": 142,
   "metadata": {},
   "outputs": [
    {
     "data": {
      "text/plain": [
       "False    543\n",
       "Name: Credit_History, dtype: int64"
      ]
     },
     "execution_count": 142,
     "metadata": {},
     "output_type": "execute_result"
    }
   ],
   "source": [
    "loan_df[\"Credit_History\"].isna().value_counts()"
   ]
  },
  {
   "cell_type": "code",
   "execution_count": 164,
   "metadata": {},
   "outputs": [
    {
     "name": "stdout",
     "output_type": "stream",
     "text": [
      "Loan_Status    N    Y\n",
      "Separator            \n",
      "False         11    2\n",
      "True         137  330\n",
      "p-value: 0.0001\n",
      "Since p-value < 0.05, the two features 'Separator' and 'Loan_Status' are dependent.\n"
     ]
    }
   ],
   "source": [
    "import pandas as pd\n",
    "from scipy.stats import chi2_contingency\n",
    "\n",
    "# Read data\n",
    "data = pd.read_csv('loan.csv')\n",
    "\n",
    "# Add a column indicating that the entry contains graduate and married men\n",
    "data.dropna(inplace=True)\n",
    "data['NewFeature'] = (data[\"ApplicantIncome\"]) + (3 * data[\"LoanAmount\"]) + (7000 * data[\"Credit_History\"])\n",
    "data['Separator'] = data['NewFeature'] > (data['NewFeature'].mean()*0.25)\n",
    "\n",
    "# Perform a chi-square test since the incomes are a continuous variable.\n",
    "contingency = pd.crosstab(data['Separator'], data['Loan_Status'])\n",
    "print(contingency)\n",
    "\n",
    "# p-value calculation\n",
    "p_value = chi2_contingency(contingency)[1]\n",
    "print('p-value:',round(p_value,4))\n",
    "\n",
    "if(p_value < 0.05):\n",
    "  print(\"Since p-value < 0.05, the two features 'Separator' and 'Loan_Status' are dependent.\")\n",
    "else:\n",
    "  print(\"Since p-value > 0.05, the two features 'Separator' and 'Loan_Status' are independent.\")"
   ]
  },
  {
   "cell_type": "code",
   "execution_count": 172,
   "metadata": {},
   "outputs": [
    {
     "data": {
      "text/plain": [
       "1.0    410\n",
       "0.0     70\n",
       "Name: Credit_History, dtype: int64"
      ]
     },
     "execution_count": 172,
     "metadata": {},
     "output_type": "execute_result"
    }
   ],
   "source": [
    "data[\"Credit_History\"].value_counts()"
   ]
  },
  {
   "cell_type": "code",
   "execution_count": 182,
   "metadata": {},
   "outputs": [
    {
     "name": "stdout",
     "output_type": "stream",
     "text": [
      "0.18554668476134878, Ha and hence people from the state are not shorter\n"
     ]
    }
   ],
   "source": [
    "from scipy.stats import norm\n",
    "import math\n",
    "z = (64.5 - 65)/(2.5/math.sqrt(20))\n",
    "\n",
    "# Since we want to find the ansser in the left side of the mean (left tailed test)\n",
    "p = norm.cdf(z)\n",
    "# Ho Equal\n",
    "# Ha Shorter\n",
    "alpha = 0.05\n",
    "\n",
    "if p<alpha:\n",
    "    print(f\"{p}, H0 and hence people from the state are shorter\")\n",
    "else:\n",
    "    print(f\"{p}, Ha and hence people from the state are not shorter\")\n"
   ]
  },
  {
   "cell_type": "code",
   "execution_count": 187,
   "metadata": {},
   "outputs": [
    {
     "name": "stdout",
     "output_type": "stream",
     "text": [
      "0.031431210741779014, H0 : students are better\n"
     ]
    }
   ],
   "source": [
    "\n",
    "# average score of 150 (u)\n",
    "# standard deviation of 8.5\n",
    "# average of 10 people\n",
    "# average of 155 (X - obsereved)\n",
    "\n",
    "# H0 : students are better.\n",
    "# Ha : students aren't better\n",
    "\n",
    "z = (155 - 150)/ (8.5/math.sqrt(10))\n",
    "z\n",
    "\n",
    "p =1-  norm.cdf(z)\n",
    "\n",
    "alpha = 0.05\n",
    "\n",
    "if p<alpha:\n",
    "    print(f\"{p}, H0 : students are better\")\n",
    "else:\n",
    "    print(f\"{p}, Ha : students aren't better\")\n",
    "\n"
   ]
  },
  {
   "cell_type": "code",
   "execution_count": 192,
   "metadata": {},
   "outputs": [
    {
     "name": "stdout",
     "output_type": "stream",
     "text": [
      "2.01\n",
      "0.022322492581293485, Ha : students aren't better H0 rejected\n"
     ]
    }
   ],
   "source": [
    "\n",
    "# average score of 500 (u)\n",
    "# standard deviation of 125\n",
    "# 70 day period (s)\n",
    "# average of 530 pastries (X - obsereved)\n",
    "\n",
    "#  average number of pastries they can produce in a day exceeds 500. (More than mean, right tailed test)\n",
    "\n",
    "# H0 : students are better.\n",
    "# Ha : students aren't better\n",
    "\n",
    "z = (530 - 500)/ (125/math.sqrt(70))\n",
    "print(round(z,2))\n",
    "\n",
    "p =1-  norm.cdf(z)\n",
    "\n",
    "alpha = 0.05\n",
    "critical_z = 1.64\n",
    "if z<critical_z:\n",
    "    print(f\"{p}, H0 : students are better\")\n",
    "else:\n",
    "    print(f\"{p}, Ha : students aren't better H0 rejected\")\n",
    "\n"
   ]
  },
  {
   "cell_type": "code",
   "execution_count": 196,
   "metadata": {},
   "outputs": [
    {
     "name": "stdout",
     "output_type": "stream",
     "text": [
      "1.64\n",
      "0.05017412323114523, H0 : Fail to reject null hypothesiss\n"
     ]
    }
   ],
   "source": [
    "\n",
    "# 1.7 small cups (u)\n",
    "# standard deviation of 0.5 small cups\n",
    "#  30 customers(s)\n",
    "# averaged 1.85 small cups of tea per person (X - obsereved)\n",
    "\n",
    "#  average number of pastries they can produce in a day exceeds 500. (More than mean, right tailed test)\n",
    "\n",
    "# H0 : students are better.\n",
    "# Ha : students aren't better\n",
    "\n",
    "z = (1.85 - 1.7)/ (0.5/math.sqrt(30))\n",
    "print(round(z,2))\n",
    "\n",
    "p =1-norm.cdf(z)\n",
    "\n",
    "alpha = 0.05\n",
    "critical_z = 1.96\n",
    "if z<critical_z:\n",
    "    print(f\"{p}, H0 : Fail to reject null hypothesiss\")\n",
    "else:\n",
    "    print(f\"{p}, Ha :  Reject Null hypotheses\")\n",
    "\n"
   ]
  },
  {
   "cell_type": "code",
   "execution_count": 203,
   "metadata": {},
   "outputs": [
    {
     "data": {
      "text/plain": [
       "3.63"
      ]
     },
     "execution_count": 203,
     "metadata": {},
     "output_type": "execute_result"
    }
   ],
   "source": [
    "#  more than 3.5 buckets of water per day\n",
    "# standard deviation is 0.7\n",
    "#  45 students\n",
    "# averaged 3.72 buckets (X - obsereved)\n",
    "\n",
    "# critical sample mean for this population, assuming a critical z- value of 1.28\n",
    "# H0 : students are better.\n",
    "# Ha : students aren't better\n",
    "z_critical = 1.28\n",
    "critical_sample_mean = 3.5+ z_critical  *  (0.7/math.sqrt(45))\n",
    "\n",
    "\n",
    "round(critical_sample_mean,2)"
   ]
  },
  {
   "cell_type": "code",
   "execution_count": 198,
   "metadata": {},
   "outputs": [
    {
     "data": {
      "text/plain": [
       "0.2200000000000002"
      ]
     },
     "execution_count": 198,
     "metadata": {},
     "output_type": "execute_result"
    }
   ],
   "source": []
  },
  {
   "cell_type": "code",
   "execution_count": null,
   "metadata": {},
   "outputs": [],
   "source": []
  }
 ],
 "metadata": {
  "kernelspec": {
   "display_name": "Python 3",
   "language": "python",
   "name": "python3"
  },
  "language_info": {
   "codemirror_mode": {
    "name": "ipython",
    "version": 3
   },
   "file_extension": ".py",
   "mimetype": "text/x-python",
   "name": "python",
   "nbconvert_exporter": "python",
   "pygments_lexer": "ipython3",
   "version": "3.8.5"
  },
  "orig_nbformat": 4
 },
 "nbformat": 4,
 "nbformat_minor": 2
}
