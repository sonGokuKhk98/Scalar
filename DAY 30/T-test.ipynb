{
 "cells": [
  {
   "attachments": {},
   "cell_type": "markdown",
   "metadata": {},
   "source": [
    "A french cake shop claims that the average number of pastries they can produce in a day exceeds 500. The average number of pastries produced per day over a 70 day period was found to be 530. Assume that the population standard\n",
    "deviation for the pastries produced per day is 125. Test the claim using a z-test with the critical z-value = 1.64 at the\n",
    "alpha (significance level) = 0.05, and state your interpretation."
   ]
  },
  {
   "cell_type": "code",
   "execution_count": 34,
   "metadata": {},
   "outputs": [],
   "source": [
    "import pandas as pd\n",
    "from  scipy.stats import stats,norm\n",
    "from  scipy.stats import ttest_1samp\n",
    "from  scipy.stats import ttest_ind\n",
    "import numpy as np\n",
    "import math\n",
    "from scipy.stats import f_oneway \n"
   ]
  },
  {
   "cell_type": "code",
   "execution_count": 3,
   "metadata": {},
   "outputs": [
    {
     "name": "stdout",
     "output_type": "stream",
     "text": [
      "z value is 2.007984063681781\n",
      "p value is: 0.022322492581293485\n",
      "Reject null hypothesis\n"
     ]
    }
   ],
   "source": [
    "# H0 -> Pastries produced in a day is 500 (u = 500)\n",
    "# Ha -> Pastries produced in a day is greater than 500 (u > 500)\n",
    "\n",
    "# Given data\n",
    "sample = 70\n",
    "sigma = 125\n",
    "sample_sigma = sigma/math.sqrt(sample)\n",
    "mean = 500 # AS we assumed in the null hypiothesis\n",
    "z_critical = 1.64\n",
    "x = 530\n",
    "alpha = 0.05\n",
    "\n",
    "# z = (530 - 500)/125/sqrt(70)\n",
    "z = (x - mean)/sample_sigma\n",
    "\n",
    "# p_value = P(X>500 | H0) -> 1 - norm.cdf(500)\n",
    "p_value = 1- norm.cdf(z)\n",
    "p_value\n",
    "print(\"z value is \" + str(z) )\n",
    "\n",
    "\n",
    "print(\"p value is: \"+str(p_value))\n",
    "if p_value < alpha:\n",
    "    print(\"Reject null hypothesis\")\n",
    "else:\n",
    "    print(\"Failed to reject null hypothesis\")\n",
    "\n",
    "\n"
   ]
  },
  {
   "cell_type": "code",
   "execution_count": 4,
   "metadata": {},
   "outputs": [
    {
     "name": "stdout",
     "output_type": "stream",
     "text": [
      "x_critical : 524.502186491355\n",
      "z_critical: 1.6448536269514722\n"
     ]
    },
    {
     "data": {
      "text/plain": [
       "0.05050258347410408"
      ]
     },
     "execution_count": 4,
     "metadata": {},
     "output_type": "execute_result"
    }
   ],
   "source": [
    "# What is critical sample mean\n",
    "x_critical = mean + z_critical * sample_sigma\n",
    "print(\"x_critical : \"+ str(x_critical) )\n",
    "\n",
    "#Similarly\n",
    "z_critical= norm.ppf(0.95)\n",
    "print(\"z_critical: \" + str(z_critical)) # Given in the question\n",
    "\n",
    "#  alpha is got by this equation\n",
    "p_critical_or_alpha = 1-norm.cdf( (x_critical - mean)/sample_sigma) # The alpha at x critical\n",
    "p_critical_or_alpha"
   ]
  },
  {
   "attachments": {},
   "cell_type": "markdown",
   "metadata": {},
   "source": [
    "## IQ improvement with a pill\n",
    "* Population IQ = 100\n",
    "Rechearcher claims the pill will increase IQ"
   ]
  },
  {
   "cell_type": "code",
   "execution_count": 5,
   "metadata": {},
   "outputs": [],
   "source": [
    "# The pill is given to few people and their IQ is tested\n",
    "\n",
    "iq_score = [110,105,98,102,99,104,115,95]\n",
    "sample_avg = np.mean(iq_score)"
   ]
  },
  {
   "cell_type": "code",
   "execution_count": 7,
   "metadata": {},
   "outputs": [
    {
     "name": "stdout",
     "output_type": "stream",
     "text": [
      "Failed to reject null hypothesis\n"
     ]
    }
   ],
   "source": [
    "t_test , p_value = ttest_1samp(iq_score,100)\n",
    "t_test , p_value\n",
    "if p_value < alpha:\n",
    "    print(\"Reject null hypothesis\")\n",
    "else:\n",
    "    print(\"Failed to reject null hypothesis\")\n",
    "    print()"
   ]
  },
  {
   "cell_type": "code",
   "execution_count": 9,
   "metadata": {},
   "outputs": [
    {
     "data": {
      "text/html": [
       "<div>\n",
       "<style scoped>\n",
       "    .dataframe tbody tr th:only-of-type {\n",
       "        vertical-align: middle;\n",
       "    }\n",
       "\n",
       "    .dataframe tbody tr th {\n",
       "        vertical-align: top;\n",
       "    }\n",
       "\n",
       "    .dataframe thead th {\n",
       "        text-align: right;\n",
       "    }\n",
       "</style>\n",
       "<table border=\"1\" class=\"dataframe\">\n",
       "  <thead>\n",
       "    <tr style=\"text-align: right;\">\n",
       "      <th></th>\n",
       "      <th>School</th>\n",
       "      <th>iq</th>\n",
       "    </tr>\n",
       "  </thead>\n",
       "  <tbody>\n",
       "    <tr>\n",
       "      <th>0</th>\n",
       "      <td>school_1</td>\n",
       "      <td>91</td>\n",
       "    </tr>\n",
       "    <tr>\n",
       "      <th>1</th>\n",
       "      <td>school_1</td>\n",
       "      <td>95</td>\n",
       "    </tr>\n",
       "    <tr>\n",
       "      <th>2</th>\n",
       "      <td>school_1</td>\n",
       "      <td>110</td>\n",
       "    </tr>\n",
       "    <tr>\n",
       "      <th>3</th>\n",
       "      <td>school_1</td>\n",
       "      <td>112</td>\n",
       "    </tr>\n",
       "    <tr>\n",
       "      <th>4</th>\n",
       "      <td>school_1</td>\n",
       "      <td>115</td>\n",
       "    </tr>\n",
       "  </tbody>\n",
       "</table>\n",
       "</div>"
      ],
      "text/plain": [
       "     School   iq\n",
       "0  school_1   91\n",
       "1  school_1   95\n",
       "2  school_1  110\n",
       "3  school_1  112\n",
       "4  school_1  115"
      ]
     },
     "execution_count": 9,
     "metadata": {},
     "output_type": "execute_result"
    }
   ],
   "source": [
    "df_iq = pd.read_csv('./LECTURE_NOTES/iq_two_schools.csv') \n",
    "df_iq .head()"
   ]
  },
  {
   "cell_type": "code",
   "execution_count": 10,
   "metadata": {},
   "outputs": [
    {
     "data": {
      "text/plain": [
       "School\n",
       "school_1    101.153846\n",
       "school_2    109.416667\n",
       "Name: iq, dtype: float64"
      ]
     },
     "execution_count": 10,
     "metadata": {},
     "output_type": "execute_result"
    }
   ],
   "source": [
    "df_iq.groupby(\"School\")[\"iq\"].mean()"
   ]
  },
  {
   "cell_type": "code",
   "execution_count": 19,
   "metadata": {},
   "outputs": [],
   "source": [
    "\n",
    "\n",
    "iq_1 = df_iq[df_iq[\"School\"] == 'school_1'][\"iq\"]\n",
    "iq_2 = df_iq[df_iq[\"School\"] == 'school_2'][\"iq\"]"
   ]
  },
  {
   "attachments": {},
   "cell_type": "markdown",
   "metadata": {},
   "source": [
    "* H0 : m1 = m2\n",
    "* Ha : m1 != m2"
   ]
  },
  {
   "cell_type": "code",
   "execution_count": 22,
   "metadata": {},
   "outputs": [
    {
     "name": "stdout",
     "output_type": "stream",
     "text": [
      "p value is: 0.02004552710936216\n",
      "Reject null hypothesis\n"
     ]
    }
   ],
   "source": [
    "t_stat,p_value = ttest_ind(iq_1,iq_2)\n",
    "t_stat,p_value\n",
    "print(\"p value is: \"+str(p_value))\n",
    "if p_value < 0.05:\n",
    "    print(\"Reject null hypothesis\")\n",
    "else:\n",
    "    print(\"Failed to reject null hypothesis\")\n",
    "\n"
   ]
  },
  {
   "attachments": {},
   "cell_type": "markdown",
   "metadata": {},
   "source": [
    "## CRICKET"
   ]
  },
  {
   "cell_type": "code",
   "execution_count": 24,
   "metadata": {},
   "outputs": [
    {
     "data": {
      "text/html": [
       "<div>\n",
       "<style scoped>\n",
       "    .dataframe tbody tr th:only-of-type {\n",
       "        vertical-align: middle;\n",
       "    }\n",
       "\n",
       "    .dataframe tbody tr th {\n",
       "        vertical-align: top;\n",
       "    }\n",
       "\n",
       "    .dataframe thead th {\n",
       "        text-align: right;\n",
       "    }\n",
       "</style>\n",
       "<table border=\"1\" class=\"dataframe\">\n",
       "  <thead>\n",
       "    <tr style=\"text-align: right;\">\n",
       "      <th></th>\n",
       "      <th>runs</th>\n",
       "      <th>NotOut</th>\n",
       "      <th>mins</th>\n",
       "      <th>bf</th>\n",
       "      <th>fours</th>\n",
       "      <th>sixes</th>\n",
       "      <th>sr</th>\n",
       "      <th>Inns</th>\n",
       "      <th>Opp</th>\n",
       "      <th>Ground</th>\n",
       "      <th>Date</th>\n",
       "      <th>Winner</th>\n",
       "      <th>Won</th>\n",
       "      <th>century</th>\n",
       "    </tr>\n",
       "  </thead>\n",
       "  <tbody>\n",
       "    <tr>\n",
       "      <th>0</th>\n",
       "      <td>13</td>\n",
       "      <td>0</td>\n",
       "      <td>30</td>\n",
       "      <td>15</td>\n",
       "      <td>3</td>\n",
       "      <td>0</td>\n",
       "      <td>86.66</td>\n",
       "      <td>1</td>\n",
       "      <td>New Zealand</td>\n",
       "      <td>Napier</td>\n",
       "      <td>1995-02-16</td>\n",
       "      <td>New Zealand</td>\n",
       "      <td>False</td>\n",
       "      <td>False</td>\n",
       "    </tr>\n",
       "    <tr>\n",
       "      <th>1</th>\n",
       "      <td>37</td>\n",
       "      <td>0</td>\n",
       "      <td>75</td>\n",
       "      <td>51</td>\n",
       "      <td>3</td>\n",
       "      <td>1</td>\n",
       "      <td>72.54</td>\n",
       "      <td>2</td>\n",
       "      <td>South Africa</td>\n",
       "      <td>Hamilton</td>\n",
       "      <td>1995-02-18</td>\n",
       "      <td>South Africa</td>\n",
       "      <td>False</td>\n",
       "      <td>False</td>\n",
       "    </tr>\n",
       "    <tr>\n",
       "      <th>2</th>\n",
       "      <td>47</td>\n",
       "      <td>0</td>\n",
       "      <td>65</td>\n",
       "      <td>40</td>\n",
       "      <td>7</td>\n",
       "      <td>0</td>\n",
       "      <td>117.50</td>\n",
       "      <td>2</td>\n",
       "      <td>Australia</td>\n",
       "      <td>Dunedin</td>\n",
       "      <td>1995-02-22</td>\n",
       "      <td>India</td>\n",
       "      <td>True</td>\n",
       "      <td>False</td>\n",
       "    </tr>\n",
       "    <tr>\n",
       "      <th>3</th>\n",
       "      <td>48</td>\n",
       "      <td>0</td>\n",
       "      <td>37</td>\n",
       "      <td>30</td>\n",
       "      <td>9</td>\n",
       "      <td>1</td>\n",
       "      <td>160.00</td>\n",
       "      <td>2</td>\n",
       "      <td>Bangladesh</td>\n",
       "      <td>Sharjah</td>\n",
       "      <td>1995-04-05</td>\n",
       "      <td>India</td>\n",
       "      <td>True</td>\n",
       "      <td>False</td>\n",
       "    </tr>\n",
       "    <tr>\n",
       "      <th>4</th>\n",
       "      <td>4</td>\n",
       "      <td>0</td>\n",
       "      <td>13</td>\n",
       "      <td>9</td>\n",
       "      <td>1</td>\n",
       "      <td>0</td>\n",
       "      <td>44.44</td>\n",
       "      <td>2</td>\n",
       "      <td>Pakistan</td>\n",
       "      <td>Sharjah</td>\n",
       "      <td>1995-04-07</td>\n",
       "      <td>Pakistan</td>\n",
       "      <td>False</td>\n",
       "      <td>False</td>\n",
       "    </tr>\n",
       "  </tbody>\n",
       "</table>\n",
       "</div>"
      ],
      "text/plain": [
       "   runs  NotOut mins  bf  fours  sixes      sr  Inns           Opp    Ground   \n",
       "0    13       0   30  15      3      0   86.66     1   New Zealand    Napier  \\\n",
       "1    37       0   75  51      3      1   72.54     2  South Africa  Hamilton   \n",
       "2    47       0   65  40      7      0  117.50     2     Australia   Dunedin   \n",
       "3    48       0   37  30      9      1  160.00     2    Bangladesh   Sharjah   \n",
       "4     4       0   13   9      1      0   44.44     2      Pakistan   Sharjah   \n",
       "\n",
       "         Date        Winner    Won  century  \n",
       "0  1995-02-16   New Zealand  False    False  \n",
       "1  1995-02-18  South Africa  False    False  \n",
       "2  1995-02-22         India   True    False  \n",
       "3  1995-04-05         India   True    False  \n",
       "4  1995-04-07      Pakistan  False    False  "
      ]
     },
     "execution_count": 24,
     "metadata": {},
     "output_type": "execute_result"
    }
   ],
   "source": [
    "df = pd.read_csv(\"./LECTURE_NOTES/Sachin_ODI.csv\")\n",
    "df.head()"
   ]
  },
  {
   "attachments": {},
   "cell_type": "markdown",
   "metadata": {},
   "source": [
    "# Batting pattern 1st vs 2nd innings"
   ]
  },
  {
   "cell_type": "code",
   "execution_count": 25,
   "metadata": {},
   "outputs": [
    {
     "data": {
      "text/plain": [
       "Inns\n",
       "1    46.670588\n",
       "2    40.173684\n",
       "Name: runs, dtype: float64"
      ]
     },
     "execution_count": 25,
     "metadata": {},
     "output_type": "execute_result"
    }
   ],
   "source": [
    "df.groupby(\"Inns\")[\"runs\"].mean()"
   ]
  },
  {
   "cell_type": "code",
   "execution_count": 30,
   "metadata": {},
   "outputs": [],
   "source": [
    "df_first_innings = df[df[\"Inns\"]==1][\"runs\"]\n",
    "df_second_innings = df[df[\"Inns\"]==2][\"runs\"]"
   ]
  },
  {
   "attachments": {},
   "cell_type": "markdown",
   "metadata": {},
   "source": [
    "### H0 -> m1 = m2\n",
    "### H1 -> m1 != m2"
   ]
  },
  {
   "cell_type": "code",
   "execution_count": 35,
   "metadata": {},
   "outputs": [
    {
     "name": "stdout",
     "output_type": "stream",
     "text": [
      "0.14483724194759964\n",
      "Failed to reject null hypothesis\n",
      "No difference in 1st and 2nd innings\n"
     ]
    }
   ],
   "source": [
    "alpha = 0.05 # 5% significance level\n",
    "t_stat,p_value = ttest_ind(df_first_innings,df_second_innings)\n",
    "print(p_value)\n",
    "if p_value < 0.05:\n",
    "    print(\"Reject null hypothesis\")\n",
    "else:\n",
    "    print(\"Failed to reject null hypothesis\")\n",
    "    print(\"No difference in 1st and 2nd innings\")"
   ]
  },
  {
   "attachments": {},
   "cell_type": "markdown",
   "metadata": {},
   "source": [
    "### H0 -> m1 = m2\n",
    "### H1 -> m1 > m2"
   ]
  },
  {
   "cell_type": "code",
   "execution_count": 65,
   "metadata": {},
   "outputs": [
    {
     "name": "stdout",
     "output_type": "stream",
     "text": [
      "0.07241862097379982\n",
      "Failed to reject null hypothesis\n",
      "No difference in 1st and 2nd innings\n"
     ]
    }
   ],
   "source": [
    "### H0 -> m1 = m2\n",
    "### H1 -> m1 > m2\n",
    "alpha = 0.05 # 5% significance level\n",
    "t_stat,p_value = ttest_ind(df_first_innings,df_second_innings,alternative='greater')\n",
    "print(p_value)\n",
    "if p_value < 0.05:\n",
    "    print(\"Reject null hypothesis\")\n",
    "else:\n",
    "    print(\"Failed to reject null hypothesis\")\n",
    "    print(\"No difference in 1st and 2nd innings\")"
   ]
  },
  {
   "attachments": {},
   "cell_type": "markdown",
   "metadata": {},
   "source": [
    "AS we see both with alternative and without alternative, the p_value reduces than before as in two sided we take both sides, but here we take greater so it is divided by 2\n",
    "* Hence p_value reduces"
   ]
  },
  {
   "attachments": {},
   "cell_type": "markdown",
   "metadata": {},
   "source": [
    "# Batting pattern won vs lost"
   ]
  },
  {
   "cell_type": "code",
   "execution_count": 88,
   "metadata": {},
   "outputs": [],
   "source": [
    "df_won_innings = df[df[\"Won\"]==True]\n",
    "df_lost_innings = df[df[\"Won\"]==False]\n"
   ]
  },
  {
   "cell_type": "code",
   "execution_count": 89,
   "metadata": {},
   "outputs": [
    {
     "data": {
      "text/plain": [
       "(51.0, 35.13068181818182)"
      ]
     },
     "execution_count": 89,
     "metadata": {},
     "output_type": "execute_result"
    }
   ],
   "source": [
    "won_mean = df_won_innings[\"runs\"].mean()\n",
    "lost_mean = df_lost_innings[\"runs\"].mean()\n",
    "won_mean, lost_mean"
   ]
  },
  {
   "attachments": {},
   "cell_type": "markdown",
   "metadata": {},
   "source": [
    "### H0 -> m1 = m2\n",
    "### H1 -> m1 != m2"
   ]
  },
  {
   "cell_type": "code",
   "execution_count": 75,
   "metadata": {},
   "outputs": [
    {
     "name": "stdout",
     "output_type": "stream",
     "text": [
      "0.00032706154973653116\n",
      "Reject null hypothesis\n"
     ]
    }
   ],
   "source": [
    "# Ha m1>m2 \n",
    "# H0 m1=m2\n",
    "alpha = 0.05 # 5% significance level\n",
    "t_stat,p_value = ttest_ind(df_won_innings,df_lost_innings)\n",
    "print(p_value)\n",
    "if p_value < 0.05:\n",
    "    print(\"Reject null hypothesis\")\n",
    "else:\n",
    "    print(\"Failed to reject null hypothesis\")\n"
   ]
  },
  {
   "attachments": {},
   "cell_type": "markdown",
   "metadata": {},
   "source": [
    "### H0 -> m1 = m2\n",
    "### H1 -> m1 > m2"
   ]
  },
  {
   "cell_type": "code",
   "execution_count": 90,
   "metadata": {},
   "outputs": [
    {
     "name": "stdout",
     "output_type": "stream",
     "text": [
      "0.00016353077486826558\n",
      "Reject null hypothesis\n"
     ]
    }
   ],
   "source": [
    "# Ha m1>m2 \n",
    "# H0 m1=m2\n",
    "alpha = 0.05 # 5% significance level\n",
    "t_stat,p_value = ttest_ind(df_first_innings,df_second_innings,alternative=\"greater\")\n",
    "print(p_value)\n",
    "if p_value < 0.05:\n",
    "    print(\"Reject null hypothesis\")\n",
    "else:\n",
    "    print(\"Failed to reject null hypothesis\")\n"
   ]
  },
  {
   "cell_type": "code",
   "execution_count": 93,
   "metadata": {},
   "outputs": [
    {
     "name": "stdout",
     "output_type": "stream",
     "text": [
      "0.9998364692251317\n",
      "Failed to reject null hypothesis\n"
     ]
    }
   ],
   "source": [
    "# Ha m1>m2 \n",
    "# H0 m1=m2\n",
    "alpha = 0.05 # 5% significance level\n",
    "t_stat,p_value = ttest_ind(df_first_innings,df_second_innings,alternative=\"less\")\n",
    "print(p_value)\n",
    "if p_value < 0.05:\n",
    "    print(\"Reject null hypothesis\")\n",
    "else:\n",
    "    print(\"Failed to reject null hypothesis\")\n"
   ]
  },
  {
   "attachments": {},
   "cell_type": "markdown",
   "metadata": {},
   "source": [
    "# AEROFIT"
   ]
  },
  {
   "cell_type": "code",
   "execution_count": 51,
   "metadata": {},
   "outputs": [
    {
     "data": {
      "text/html": [
       "<div>\n",
       "<style scoped>\n",
       "    .dataframe tbody tr th:only-of-type {\n",
       "        vertical-align: middle;\n",
       "    }\n",
       "\n",
       "    .dataframe tbody tr th {\n",
       "        vertical-align: top;\n",
       "    }\n",
       "\n",
       "    .dataframe thead th {\n",
       "        text-align: right;\n",
       "    }\n",
       "</style>\n",
       "<table border=\"1\" class=\"dataframe\">\n",
       "  <thead>\n",
       "    <tr style=\"text-align: right;\">\n",
       "      <th></th>\n",
       "      <th>Product</th>\n",
       "      <th>Age</th>\n",
       "      <th>Gender</th>\n",
       "      <th>Education</th>\n",
       "      <th>MaritalStatus</th>\n",
       "      <th>Usage</th>\n",
       "      <th>Fitness</th>\n",
       "      <th>Income</th>\n",
       "      <th>Miles</th>\n",
       "    </tr>\n",
       "  </thead>\n",
       "  <tbody>\n",
       "    <tr>\n",
       "      <th>0</th>\n",
       "      <td>KP281</td>\n",
       "      <td>18</td>\n",
       "      <td>Male</td>\n",
       "      <td>14</td>\n",
       "      <td>Single</td>\n",
       "      <td>3</td>\n",
       "      <td>4</td>\n",
       "      <td>29562</td>\n",
       "      <td>112</td>\n",
       "    </tr>\n",
       "    <tr>\n",
       "      <th>1</th>\n",
       "      <td>KP281</td>\n",
       "      <td>19</td>\n",
       "      <td>Male</td>\n",
       "      <td>15</td>\n",
       "      <td>Single</td>\n",
       "      <td>2</td>\n",
       "      <td>3</td>\n",
       "      <td>31836</td>\n",
       "      <td>75</td>\n",
       "    </tr>\n",
       "    <tr>\n",
       "      <th>2</th>\n",
       "      <td>KP281</td>\n",
       "      <td>19</td>\n",
       "      <td>Female</td>\n",
       "      <td>14</td>\n",
       "      <td>Partnered</td>\n",
       "      <td>4</td>\n",
       "      <td>3</td>\n",
       "      <td>30699</td>\n",
       "      <td>66</td>\n",
       "    </tr>\n",
       "    <tr>\n",
       "      <th>3</th>\n",
       "      <td>KP281</td>\n",
       "      <td>19</td>\n",
       "      <td>Male</td>\n",
       "      <td>12</td>\n",
       "      <td>Single</td>\n",
       "      <td>3</td>\n",
       "      <td>3</td>\n",
       "      <td>32973</td>\n",
       "      <td>85</td>\n",
       "    </tr>\n",
       "    <tr>\n",
       "      <th>4</th>\n",
       "      <td>KP281</td>\n",
       "      <td>20</td>\n",
       "      <td>Male</td>\n",
       "      <td>13</td>\n",
       "      <td>Partnered</td>\n",
       "      <td>4</td>\n",
       "      <td>2</td>\n",
       "      <td>35247</td>\n",
       "      <td>47</td>\n",
       "    </tr>\n",
       "    <tr>\n",
       "      <th>...</th>\n",
       "      <td>...</td>\n",
       "      <td>...</td>\n",
       "      <td>...</td>\n",
       "      <td>...</td>\n",
       "      <td>...</td>\n",
       "      <td>...</td>\n",
       "      <td>...</td>\n",
       "      <td>...</td>\n",
       "      <td>...</td>\n",
       "    </tr>\n",
       "    <tr>\n",
       "      <th>175</th>\n",
       "      <td>KP781</td>\n",
       "      <td>40</td>\n",
       "      <td>Male</td>\n",
       "      <td>21</td>\n",
       "      <td>Single</td>\n",
       "      <td>6</td>\n",
       "      <td>5</td>\n",
       "      <td>83416</td>\n",
       "      <td>200</td>\n",
       "    </tr>\n",
       "    <tr>\n",
       "      <th>176</th>\n",
       "      <td>KP781</td>\n",
       "      <td>42</td>\n",
       "      <td>Male</td>\n",
       "      <td>18</td>\n",
       "      <td>Single</td>\n",
       "      <td>5</td>\n",
       "      <td>4</td>\n",
       "      <td>89641</td>\n",
       "      <td>200</td>\n",
       "    </tr>\n",
       "    <tr>\n",
       "      <th>177</th>\n",
       "      <td>KP781</td>\n",
       "      <td>45</td>\n",
       "      <td>Male</td>\n",
       "      <td>16</td>\n",
       "      <td>Single</td>\n",
       "      <td>5</td>\n",
       "      <td>5</td>\n",
       "      <td>90886</td>\n",
       "      <td>160</td>\n",
       "    </tr>\n",
       "    <tr>\n",
       "      <th>178</th>\n",
       "      <td>KP781</td>\n",
       "      <td>47</td>\n",
       "      <td>Male</td>\n",
       "      <td>18</td>\n",
       "      <td>Partnered</td>\n",
       "      <td>4</td>\n",
       "      <td>5</td>\n",
       "      <td>104581</td>\n",
       "      <td>120</td>\n",
       "    </tr>\n",
       "    <tr>\n",
       "      <th>179</th>\n",
       "      <td>KP781</td>\n",
       "      <td>48</td>\n",
       "      <td>Male</td>\n",
       "      <td>18</td>\n",
       "      <td>Partnered</td>\n",
       "      <td>4</td>\n",
       "      <td>5</td>\n",
       "      <td>95508</td>\n",
       "      <td>180</td>\n",
       "    </tr>\n",
       "  </tbody>\n",
       "</table>\n",
       "<p>180 rows × 9 columns</p>\n",
       "</div>"
      ],
      "text/plain": [
       "    Product  Age  Gender  Education MaritalStatus  Usage  Fitness  Income   \n",
       "0     KP281   18    Male         14        Single      3        4   29562  \\\n",
       "1     KP281   19    Male         15        Single      2        3   31836   \n",
       "2     KP281   19  Female         14     Partnered      4        3   30699   \n",
       "3     KP281   19    Male         12        Single      3        3   32973   \n",
       "4     KP281   20    Male         13     Partnered      4        2   35247   \n",
       "..      ...  ...     ...        ...           ...    ...      ...     ...   \n",
       "175   KP781   40    Male         21        Single      6        5   83416   \n",
       "176   KP781   42    Male         18        Single      5        4   89641   \n",
       "177   KP781   45    Male         16        Single      5        5   90886   \n",
       "178   KP781   47    Male         18     Partnered      4        5  104581   \n",
       "179   KP781   48    Male         18     Partnered      4        5   95508   \n",
       "\n",
       "     Miles  \n",
       "0      112  \n",
       "1       75  \n",
       "2       66  \n",
       "3       85  \n",
       "4       47  \n",
       "..     ...  \n",
       "175    200  \n",
       "176    200  \n",
       "177    160  \n",
       "178    120  \n",
       "179    180  \n",
       "\n",
       "[180 rows x 9 columns]"
      ]
     },
     "execution_count": 51,
     "metadata": {},
     "output_type": "execute_result"
    }
   ],
   "source": [
    "df_aerofit = pd.read_csv(\"./LECTURE_NOTES/aerofit.csv\")\n",
    "df_aerofit\n"
   ]
  },
  {
   "cell_type": "code",
   "execution_count": 53,
   "metadata": {},
   "outputs": [
    {
     "data": {
      "text/plain": [
       "<Axes: xlabel='Gender', ylabel='Income'>"
      ]
     },
     "execution_count": 53,
     "metadata": {},
     "output_type": "execute_result"
    },
    {
     "data": {
      "image/png": "[encoded data removed]",
      "text/plain": [
       "<Figure size 640x480 with 1 Axes>"
      ]
     },
     "metadata": {},
     "output_type": "display_data"
    }
   ],
   "source": [
    "import seaborn as sns\n",
    "sns.boxplot(x = 'Gender', y='Income',data=df_aerofit)"
   ]
  },
  {
   "cell_type": "code",
   "execution_count": 57,
   "metadata": {},
   "outputs": [
    {
     "name": "stdout",
     "output_type": "stream",
     "text": [
      "Income male 56562.75961538462\n",
      "Income Female 49828.90789473684\n"
     ]
    }
   ],
   "source": [
    "income_male = df_aerofit[df_aerofit[\"Gender\"] == 'Male'][\"Income\"]\n",
    "income_female = df_aerofit[df_aerofit[\"Gender\"] == 'Female'][\"Income\"]\n",
    "\n",
    "print(\"Income male \"+ str(income_male.mean()) )\n",
    "print(\"Income Female \"+ str(income_female.mean()) )\n"
   ]
  },
  {
   "attachments": {},
   "cell_type": "markdown",
   "metadata": {},
   "source": [
    "* H0 -> Men and women have the same income (m1=m2)\n",
    "* Ha -> Men and women have different incomes (m1!=m2)"
   ]
  },
  {
   "cell_type": "code",
   "execution_count": 61,
   "metadata": {},
   "outputs": [
    {
     "name": "stdout",
     "output_type": "stream",
     "text": [
      "0.006527263097214258\n",
      "Reject null hypothesis\n",
      "Men and women have different incomes \n"
     ]
    }
   ],
   "source": [
    "t_test,p_value= ttest_ind(income_male,income_female)\n",
    "print(p_value)\n",
    "if p_value < 0.05:\n",
    "    print(\"Reject null hypothesis\")\n",
    "    print(\"Men and women have different incomes \")\n",
    "else:\n",
    "    print(\"Failed to reject null hypothesis\")\n",
    "    print(\"Men and women have the same incomes\")"
   ]
  },
  {
   "cell_type": "code",
   "execution_count": 22,
   "metadata": {},
   "outputs": [
    {
     "name": "stdout",
     "output_type": "stream",
     "text": [
      "0.04979938002326665\n",
      "Reject H0\n"
     ]
    }
   ],
   "source": [
    "\n",
    "t_test , p_value = ttest_1samp([14.3,12.6,13.7,10.9,13.7,12.0,11.4,12.0,12.6,13.1],12.0,alternative=\"greater\")\n",
    "print(p_value)\n",
    "if p_value<0.05:\n",
    "    print(\"Reject H0\")"
   ]
  },
  {
   "cell_type": "code",
   "execution_count": 23,
   "metadata": {},
   "outputs": [
    {
     "name": "stdout",
     "output_type": "stream",
     "text": [
      "0.04734137339747033\n",
      "Reject H0\n"
     ]
    }
   ],
   "source": [
    "\n",
    "t_test , p_value = ttest_1samp([177.3, 182.7, 169.6, 176.3, 180.3, 179.4, 178.5, 177.2, 181.8, 176.5],175.3,alternative=\"two-sided\")\n",
    "print(p_value)\n",
    "if p_value<0.05:\n",
    "    print(\"Reject H0\")"
   ]
  },
  {
   "cell_type": "code",
   "execution_count": 31,
   "metadata": {},
   "outputs": [
    {
     "name": "stdout",
     "output_type": "stream",
     "text": [
      "0.5000107750426449\n"
     ]
    }
   ],
   "source": [
    "\n",
    "t_test , p_value = ttest_1samp([886,633,943,847,934,841,1193,820,774,834,1050,1058,1192,975,1313,872,1079,809],947.39,alternative=\"greater\")\n",
    "print(p_value)\n",
    "if p_value<0.05:\n",
    "    print(\"Reject H0\")"
   ]
  },
  {
   "cell_type": "code",
   "execution_count": 42,
   "metadata": {},
   "outputs": [
    {
     "name": "stdout",
     "output_type": "stream",
     "text": [
      "0.9625559973822339\n"
     ]
    }
   ],
   "source": [
    "healthcare = [9.7,9.5,7.6,6.8,6.7,6.7,6.6,4.6,3.9,3.9,3.7,3.3,3.0,0.8,-9.9]\n",
    "technology = [6.5,6.5,6.4,6.2,4.9,4.6,4.6,4.2,3.6,3.2,2.9,2.8,2.7,2.5,4.4]\n",
    "\n",
    "t_test , p_value = ttest_ind(healthcare,technology)\n",
    "print(p_value)\n",
    "\n",
    "if p_value<0.20:\n",
    "    print(\"Reject H0\")\n",
    "\n"
   ]
  },
  {
   "cell_type": "code",
   "execution_count": 43,
   "metadata": {},
   "outputs": [
    {
     "name": "stdout",
     "output_type": "stream",
     "text": [
      "0.9625559973822471\n"
     ]
    }
   ],
   "source": [
    "healthcare = [9.7,9.5,7.6,6.8,6.7,6.7,6.6,4.6,3.9,3.9,3.7,3.3,3.0,0.8,-9.9]\n",
    "technology = [6.5,6.5,6.4,6.2,4.9,4.6,4.6,4.2,3.6,3.2,2.9,2.8,2.7,2.5,4.4]\n",
    "x_stat,p_value=f_oneway(healthcare,technology) # p-value is fairly low\n",
    "print(p_value)\n",
    "if p_value < 0.20:\n",
    "    print(\"Reject null hypothesis\")"
   ]
  },
  {
   "cell_type": "code",
   "execution_count": 49,
   "metadata": {},
   "outputs": [
    {
     "name": "stdout",
     "output_type": "stream",
     "text": [
      "6.038968847980341\n",
      "Reject H0\n"
     ]
    }
   ],
   "source": [
    "school_1 = [115, 111, 112, 101, 95, 98, 100, 90, 89, 108]\n",
    "school_2 = [82, 71, 64, 65.2, 67.8, 64.7,95,77]\n",
    "\n",
    "t_test , p_value = ttest_ind(school_1,school_2)\n",
    "print(t_test)\n",
    "if p_value<0.10:\n",
    "    print(\"Reject H0\")"
   ]
  },
  {
   "cell_type": "code",
   "execution_count": null,
   "metadata": {},
   "outputs": [],
   "source": [
    "school_1 = [85, 74, 63.5, 69.4, 71.6, 65,90,78]\n",
    "school_2 = [107, 103, 91, 99, 104, 98, 117, 113, 92, 96, 108, 115, 116, 88]\n",
    "\n",
    "t_test , p_value = ttest_ind(school_1,school_2)\n",
    "print(p_value)\n",
    "if p_value<0.05:\n",
    "    print(\"Reject H0\")"
   ]
  },
  {
   "cell_type": "code",
   "execution_count": null,
   "metadata": {},
   "outputs": [],
   "source": [
    "{'total_bill': {100: 11.35, 101: 15.38, 102: 44.3, 103: 22.42, 104: 20.92, 105: 15.36, 106: 20.49, 107:25.21, 108: 18.24, 109: 14.31, 110: 14.0, 111: 7.25, 112: 38.07, 113: 23.95, 114: 25.71,115:17.31, 116: 29.93, 117: 10.65, 118: 12.43, 119: 24.08}, 'tip': {100: 2.5, 101: 3.0, 102: 2.5, 103: 3.48, 104: 4.08, 105: 1.64, 106: 4.06, 107: 4.29, 108: 3.76, 109: 4.0, 110: 3.0, 111: 1.0, 112: 4.0, 113: 2.55, 114: 4.0, 115: 3.5, 116: 5.07, 117: 1.5, 118: 1.8, 119: 2.92}, 'sex': {100: 'Female',101: 'Female', 102: 'Female' 103: 'Female' 104: 'Female' 105: 'Male' 106: 'Male' 107: 'Male'.108: 'Male', 109: 'Female', 110: 'Male', 111: 'Female', 112: 'Male', 113: 'Male', 114: 'Female',115: 'Female', 116: 'Male', 117: 'Female', 118: 'Female', 119: 'Female'},\n",
    "'smoker': {100: 'Yes',101: 'Yes', 102: 'Yes', 103: 'Yes', 104: 'No', 105: 'Yes', 106: 'Yes', 107: 'Yes', 108: 'No', 109: 'Yes',110: 'No', 111: 'No', 112: 'No', 113: 'No', 114: 'No', 115: 'No', 116: 'No', 117: 'No', 118: 'No', 119:'No'}\n",
    "'N}\n",
    "\n",
    "df.groupby(\"smoker\")[\"percentage\"].mean()[0]"
   ]
  },
  {
   "cell_type": "code",
   "execution_count": 46,
   "metadata": {},
   "outputs": [
    {
     "name": "stdout",
     "output_type": "stream",
     "text": [
      "0.5\n"
     ]
    }
   ],
   "source": [
    "\n",
    "t_test , p_value = ttest_1samp([13000,9000,15000,3000,14000,6000],10000,alternative=\"greater\")\n",
    "print(p_value)\n",
    "if p_value<0.05:\n",
    "    print(\"Reject H0\")"
   ]
  },
  {
   "cell_type": "code",
   "execution_count": 45,
   "metadata": {},
   "outputs": [
    {
     "data": {
      "text/plain": [
       "10000.0"
      ]
     },
     "execution_count": 45,
     "metadata": {},
     "output_type": "execute_result"
    }
   ],
   "source": [
    "np.mean([13000,9000,15000,3000,14000,6000])"
   ]
  },
  {
   "cell_type": "code",
   "execution_count": null,
   "metadata": {},
   "outputs": [],
   "source": []
  }
 ],
 "metadata": {
  "kernelspec": {
   "display_name": "Python 3",
   "language": "python",
   "name": "python3"
  },
  "language_info": {
   "codemirror_mode": {
    "name": "ipython",
    "version": 3
   },
   "file_extension": ".py",
   "mimetype": "text/x-python",
   "name": "python",
   "nbconvert_exporter": "python",
   "pygments_lexer": "ipython3",
   "version": "3.8.2"
  },
  "orig_nbformat": 4
 },
 "nbformat": 4,
 "nbformat_minor": 2
}
