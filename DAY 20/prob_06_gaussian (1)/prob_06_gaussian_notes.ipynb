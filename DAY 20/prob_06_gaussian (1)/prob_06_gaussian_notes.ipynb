{
 "cells": [
  {
   "cell_type": "code",
   "execution_count": 1,
   "id": "3d0a5fc2",
   "metadata": {},
   "outputs": [],
   "source": [
    "# !pip install scipy\n",
    "from scipy.stats import norm"
   ]
  },
  {
   "cell_type": "markdown",
   "id": "98497bcb",
   "metadata": {
    "heading_collapsed": true
   },
   "source": [
    "# Height example"
   ]
  },
  {
   "cell_type": "markdown",
   "id": "98129a49",
   "metadata": {
    "hidden": true
   },
   "source": [
    "The height of people is Gaussian with mean 65 inches and standard deviation 2.5 inches"
   ]
  },
  {
   "cell_type": "code",
   "execution_count": 3,
   "id": "d13b7924",
   "metadata": {
    "hidden": true
   },
   "outputs": [
    {
     "data": {
      "text/plain": [
       "1.6399999999999977"
      ]
     },
     "execution_count": 3,
     "metadata": {},
     "output_type": "execute_result"
    }
   ],
   "source": [
    "# Fraction of people shorter than 69.1\n",
    "z = (69.1 - 65)/2.5\n",
    "z"
   ]
  },
  {
   "cell_type": "code",
   "execution_count": 4,
   "id": "e0ac2935",
   "metadata": {
    "hidden": true
   },
   "outputs": [
    {
     "data": {
      "text/plain": [
       "0.949497416525896"
      ]
     },
     "execution_count": 4,
     "metadata": {},
     "output_type": "execute_result"
    }
   ],
   "source": [
    "norm.cdf(z)"
   ]
  },
  {
   "cell_type": "code",
   "execution_count": 6,
   "id": "64459b95",
   "metadata": {
    "hidden": true
   },
   "outputs": [
    {
     "data": {
      "text/plain": [
       "1.4"
      ]
     },
     "execution_count": 6,
     "metadata": {},
     "output_type": "execute_result"
    }
   ],
   "source": [
    "z = (68.5 - 65)/2.5\n",
    "z"
   ]
  },
  {
   "cell_type": "code",
   "execution_count": 7,
   "id": "c6cd8062",
   "metadata": {
    "hidden": true
   },
   "outputs": [
    {
     "data": {
      "text/plain": [
       "0.9192433407662289"
      ]
     },
     "execution_count": 7,
     "metadata": {},
     "output_type": "execute_result"
    }
   ],
   "source": [
    "norm.cdf(z)"
   ]
  },
  {
   "cell_type": "code",
   "execution_count": 8,
   "id": "f51f796d",
   "metadata": {
    "hidden": true
   },
   "outputs": [
    {
     "data": {
      "text/plain": [
       "0.9331927987311419"
      ]
     },
     "execution_count": 8,
     "metadata": {},
     "output_type": "execute_result"
    }
   ],
   "source": [
    "norm.cdf(1.5)"
   ]
  },
  {
   "cell_type": "code",
   "execution_count": 9,
   "id": "ef1d0c8c",
   "metadata": {
    "hidden": true
   },
   "outputs": [
    {
     "data": {
      "text/plain": [
       "0.8413447460685429"
      ]
     },
     "execution_count": 9,
     "metadata": {},
     "output_type": "execute_result"
    }
   ],
   "source": [
    "norm.cdf(1)"
   ]
  },
  {
   "cell_type": "markdown",
   "id": "9e8c9206",
   "metadata": {
    "heading_collapsed": true
   },
   "source": [
    "# Empirical Rule (68/95/99)"
   ]
  },
  {
   "cell_type": "code",
   "execution_count": 10,
   "id": "94a67a5c",
   "metadata": {
    "hidden": true
   },
   "outputs": [
    {
     "data": {
      "text/plain": [
       "0.6826894921370859"
      ]
     },
     "execution_count": 10,
     "metadata": {},
     "output_type": "execute_result"
    }
   ],
   "source": [
    "norm.cdf(1) - norm.cdf(-1)"
   ]
  },
  {
   "cell_type": "code",
   "execution_count": 12,
   "id": "27d366a1",
   "metadata": {
    "hidden": true
   },
   "outputs": [
    {
     "data": {
      "text/plain": [
       "0.9544997361036416"
      ]
     },
     "execution_count": 12,
     "metadata": {},
     "output_type": "execute_result"
    }
   ],
   "source": [
    "norm.cdf(2) - norm.cdf(-2)"
   ]
  },
  {
   "cell_type": "code",
   "execution_count": 13,
   "id": "3ca2088d",
   "metadata": {
    "hidden": true
   },
   "outputs": [
    {
     "data": {
      "text/plain": [
       "0.9973002039367398"
      ]
     },
     "execution_count": 13,
     "metadata": {},
     "output_type": "execute_result"
    }
   ],
   "source": [
    "norm.cdf(3) - norm.cdf(-3)"
   ]
  },
  {
   "cell_type": "markdown",
   "id": "0ce68b55",
   "metadata": {
    "heading_collapsed": true
   },
   "source": [
    "# Percentile"
   ]
  },
  {
   "cell_type": "markdown",
   "id": "615c71da",
   "metadata": {
    "hidden": true
   },
   "source": [
    "What is the height such that 96% people are shorter?"
   ]
  },
  {
   "cell_type": "code",
   "execution_count": 17,
   "id": "7d96b39e",
   "metadata": {
    "hidden": true
   },
   "outputs": [
    {
     "data": {
      "text/plain": [
       "1.7506860712521692"
      ]
     },
     "execution_count": 17,
     "metadata": {},
     "output_type": "execute_result"
    }
   ],
   "source": [
    "z = norm.ppf(0.96) # Computes percent point function\n",
    "z"
   ]
  },
  {
   "cell_type": "code",
   "execution_count": 18,
   "id": "1bd058a9",
   "metadata": {
    "hidden": true
   },
   "outputs": [
    {
     "data": {
      "text/plain": [
       "69.37671517813042"
      ]
     },
     "execution_count": 18,
     "metadata": {},
     "output_type": "execute_result"
    }
   ],
   "source": [
    "65 + z * 2.5"
   ]
  },
  {
   "cell_type": "code",
   "execution_count": 19,
   "id": "554e941b",
   "metadata": {
    "hidden": true
   },
   "outputs": [
    {
     "data": {
      "text/plain": [
       "0.96"
      ]
     },
     "execution_count": 19,
     "metadata": {},
     "output_type": "execute_result"
    }
   ],
   "source": [
    "norm.cdf(z)"
   ]
  },
  {
   "cell_type": "code",
   "execution_count": 20,
   "id": "eee5412c",
   "metadata": {
    "hidden": true
   },
   "outputs": [
    {
     "data": {
      "text/plain": [
       "0.7"
      ]
     },
     "execution_count": 20,
     "metadata": {},
     "output_type": "execute_result"
    }
   ],
   "source": [
    "norm.cdf(norm.ppf(0.7))"
   ]
  },
  {
   "cell_type": "markdown",
   "id": "a5d9a428",
   "metadata": {
    "heading_collapsed": true
   },
   "source": [
    "# Skater"
   ]
  },
  {
   "cell_type": "markdown",
   "id": "8deb54eb",
   "metadata": {
    "hidden": true
   },
   "source": [
    "Skaters take a mean of 7.42 seconds and std dev of 0.34 seconds for 500 meters.\n",
    "What should his speed be such that he is faster than 95% of his competitors?"
   ]
  },
  {
   "cell_type": "code",
   "execution_count": 22,
   "id": "fe28cb91",
   "metadata": {
    "hidden": true
   },
   "outputs": [
    {
     "data": {
      "text/plain": [
       "-1.6448536269514729"
      ]
     },
     "execution_count": 22,
     "metadata": {},
     "output_type": "execute_result"
    }
   ],
   "source": [
    "z = norm.ppf(0.05)\n",
    "z"
   ]
  },
  {
   "cell_type": "code",
   "execution_count": 25,
   "id": "e1f878c8",
   "metadata": {
    "hidden": true
   },
   "outputs": [
    {
     "data": {
      "text/plain": [
       "6.860749766836499"
      ]
     },
     "execution_count": 25,
     "metadata": {},
     "output_type": "execute_result"
    }
   ],
   "source": [
    "# Time taken in seconds\n",
    "x = 7.42 + z * 0.34\n",
    "x"
   ]
  },
  {
   "cell_type": "code",
   "execution_count": 27,
   "id": "2f0183f0",
   "metadata": {
    "hidden": true
   },
   "outputs": [
    {
     "data": {
      "text/plain": [
       "72.87833210546471"
      ]
     },
     "execution_count": 27,
     "metadata": {},
     "output_type": "execute_result"
    }
   ],
   "source": [
    "speed = 500/x\n",
    "speed"
   ]
  },
  {
   "cell_type": "markdown",
   "id": "9aad6c9e",
   "metadata": {},
   "source": [
    "# Inventory example"
   ]
  },
  {
   "cell_type": "markdown",
   "id": "4c8c5119",
   "metadata": {},
   "source": [
    "A retail outlet sells around 1000 toothpastes a week, with std dev = 200. If the on-hand inventory is 1300, what is the need for replenishment within the week?"
   ]
  },
  {
   "cell_type": "code",
   "execution_count": 28,
   "id": "2f999dcb",
   "metadata": {},
   "outputs": [
    {
     "data": {
      "text/plain": [
       "1.5"
      ]
     },
     "execution_count": 28,
     "metadata": {},
     "output_type": "execute_result"
    }
   ],
   "source": [
    "z = (1300 - 1000)/200\n",
    "z"
   ]
  },
  {
   "cell_type": "code",
   "execution_count": 29,
   "id": "b47bf2b8",
   "metadata": {},
   "outputs": [
    {
     "data": {
      "text/plain": [
       "0.06680720126885809"
      ]
     },
     "execution_count": 29,
     "metadata": {},
     "output_type": "execute_result"
    }
   ],
   "source": [
    "1 - norm.cdf(z)"
   ]
  },
  {
   "cell_type": "markdown",
   "id": "fbceae5b",
   "metadata": {},
   "source": [
    "At most 3% out of stock"
   ]
  },
  {
   "cell_type": "code",
   "execution_count": 32,
   "id": "0c0d58a4",
   "metadata": {},
   "outputs": [
    {
     "data": {
      "text/plain": [
       "1.8807936081512509"
      ]
     },
     "execution_count": 32,
     "metadata": {},
     "output_type": "execute_result"
    }
   ],
   "source": [
    "z = norm.ppf(0.97)\n",
    "z"
   ]
  },
  {
   "cell_type": "code",
   "execution_count": 34,
   "id": "18ff04e8",
   "metadata": {},
   "outputs": [
    {
     "data": {
      "text/plain": [
       "1376.15872163025"
      ]
     },
     "execution_count": 34,
     "metadata": {},
     "output_type": "execute_result"
    }
   ],
   "source": [
    "x = 1000 + z * 200\n",
    "x"
   ]
  }
 ],
 "metadata": {
  "kernelspec": {
   "display_name": "Python 3 (ipykernel)",
   "language": "python",
   "name": "python3"
  },
  "language_info": {
   "codemirror_mode": {
    "name": "ipython",
    "version": 3
   },
   "file_extension": ".py",
   "mimetype": "text/x-python",
   "name": "python",
   "nbconvert_exporter": "python",
   "pygments_lexer": "ipython3",
   "version": "3.8.12"
  }
 },
 "nbformat": 4,
 "nbformat_minor": 5
}
