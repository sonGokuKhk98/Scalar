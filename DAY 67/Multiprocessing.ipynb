{
 "cells": [
  {
   "cell_type": "code",
   "execution_count": 4,
   "metadata": {},
   "outputs": [
    {
     "name": "stdout",
     "output_type": "stream",
     "text": [
      "Slept for 3 seconds\n",
      "Slept for 5 seconds\n",
      "Total Time 5.01\n"
     ]
    }
   ],
   "source": [
    "import threading\n",
    "import time\n",
    "def myfunc(*args):\n",
    "    time.sleep(args[0])\n",
    "    print(f\"Slept for {args[0]} seconds\")\n",
    "t1 = threading.Thread(target = myfunc, args= (5,))\n",
    "t2 = threading.Thread(target = myfunc, args= (3,))\n",
    "\n",
    "s= time.monotonic()\n",
    "t1.start()\n",
    "t2.start()\n",
    "\n",
    "\n",
    "t1.join()\n",
    "t2.join()\n",
    "\n",
    "e = time.monotonic()\n",
    "print(f\"Total Time {e-s:.2f}\")"
   ]
  },
  {
   "attachments": {},
   "cell_type": "markdown",
   "metadata": {},
   "source": [
    "* As we see in the above example t2 got executed before t1, hence they were runiing parallely"
   ]
  },
  {
   "cell_type": "code",
   "execution_count": 5,
   "metadata": {},
   "outputs": [
    {
     "data": {
      "text/plain": [
       "10"
      ]
     },
     "execution_count": 5,
     "metadata": {},
     "output_type": "execute_result"
    }
   ],
   "source": [
    "import multiprocessing\n",
    "\n",
    "multiprocessing.cpu_count()"
   ]
  },
  {
   "cell_type": "code",
   "execution_count": null,
   "metadata": {},
   "outputs": [],
   "source": []
  }
 ],
 "metadata": {
  "kernelspec": {
   "display_name": "Python 3",
   "language": "python",
   "name": "python3"
  },
  "language_info": {
   "codemirror_mode": {
    "name": "ipython",
    "version": 3
   },
   "file_extension": ".py",
   "mimetype": "text/x-python",
   "name": "python",
   "nbconvert_exporter": "python",
   "pygments_lexer": "ipython3",
   "version": "3.8.2"
  },
  "orig_nbformat": 4
 },
 "nbformat": 4,
 "nbformat_minor": 2
}
