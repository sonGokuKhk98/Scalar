{
 "cells": [
  {
   "cell_type": "code",
   "execution_count": 1,
   "metadata": {},
   "outputs": [],
   "source": [
    "logs = [[\"01-01-2023\", \"14:00\", \"ERROR\", \"failed\"], [\"01-01-2023\", \"15:00\", \"INFO\", \"established\"], [\"01-01-2023\", \"01:30\", \"ERROR\", \"failed\"]]\n",
    "\n"
   ]
  },
  {
   "cell_type": "code",
   "execution_count": 10,
   "metadata": {},
   "outputs": [
    {
     "data": {
      "text/html": [
       "<div>\n",
       "<style scoped>\n",
       "    .dataframe tbody tr th:only-of-type {\n",
       "        vertical-align: middle;\n",
       "    }\n",
       "\n",
       "    .dataframe tbody tr th {\n",
       "        vertical-align: top;\n",
       "    }\n",
       "\n",
       "    .dataframe thead th {\n",
       "        text-align: right;\n",
       "    }\n",
       "</style>\n",
       "<table border=\"1\" class=\"dataframe\">\n",
       "  <thead>\n",
       "    <tr style=\"text-align: right;\">\n",
       "      <th></th>\n",
       "      <th>date</th>\n",
       "      <th>time</th>\n",
       "      <th>log</th>\n",
       "      <th>status</th>\n",
       "    </tr>\n",
       "  </thead>\n",
       "  <tbody>\n",
       "    <tr>\n",
       "      <th>2</th>\n",
       "      <td>01-01-2023</td>\n",
       "      <td>01:30</td>\n",
       "      <td>ERROR</td>\n",
       "      <td>failed</td>\n",
       "    </tr>\n",
       "    <tr>\n",
       "      <th>0</th>\n",
       "      <td>01-01-2023</td>\n",
       "      <td>14:00</td>\n",
       "      <td>ERROR</td>\n",
       "      <td>failed</td>\n",
       "    </tr>\n",
       "  </tbody>\n",
       "</table>\n",
       "</div>"
      ],
      "text/plain": [
       "         date   time    log  status\n",
       "2  01-01-2023  01:30  ERROR  failed\n",
       "0  01-01-2023  14:00  ERROR  failed"
      ]
     },
     "execution_count": 10,
     "metadata": {},
     "output_type": "execute_result"
    }
   ],
   "source": [
    "import pandas as pd\n",
    "\n",
    "df = pd.DataFrame(data=logs,columns=['date','time','log','status'])\n",
    "df[df['status'] == 'failed'].sort_values(['date','time'])"
   ]
  },
  {
   "cell_type": "code",
   "execution_count": 37,
   "metadata": {},
   "outputs": [
    {
     "data": {
      "text/html": [
       "<div>\n",
       "<style scoped>\n",
       "    .dataframe tbody tr th:only-of-type {\n",
       "        vertical-align: middle;\n",
       "    }\n",
       "\n",
       "    .dataframe tbody tr th {\n",
       "        vertical-align: top;\n",
       "    }\n",
       "\n",
       "    .dataframe thead th {\n",
       "        text-align: right;\n",
       "    }\n",
       "</style>\n",
       "<table border=\"1\" class=\"dataframe\">\n",
       "  <thead>\n",
       "    <tr style=\"text-align: right;\">\n",
       "      <th></th>\n",
       "      <th>0</th>\n",
       "      <th>1</th>\n",
       "      <th>2</th>\n",
       "      <th>3</th>\n",
       "      <th>4</th>\n",
       "      <th>5</th>\n",
       "    </tr>\n",
       "  </thead>\n",
       "  <tbody>\n",
       "    <tr>\n",
       "      <th>0</th>\n",
       "      <td>01</td>\n",
       "      <td>01</td>\n",
       "      <td>2023</td>\n",
       "      <td>14:00</td>\n",
       "      <td>ERROR</td>\n",
       "      <td>failed</td>\n",
       "    </tr>\n",
       "    <tr>\n",
       "      <th>1</th>\n",
       "      <td>01</td>\n",
       "      <td>01</td>\n",
       "      <td>2023</td>\n",
       "      <td>01:30</td>\n",
       "      <td>ERROR</td>\n",
       "      <td>failed</td>\n",
       "    </tr>\n",
       "  </tbody>\n",
       "</table>\n",
       "</div>"
      ],
      "text/plain": [
       "    0   1     2      3      4       5\n",
       "0  01  01  2023  14:00  ERROR  failed\n",
       "1  01  01  2023  01:30  ERROR  failed"
      ]
     },
     "metadata": {},
     "output_type": "display_data"
    }
   ],
   "source": [
    "\n",
    "\n",
    "def log_day_month_year_extract (logs):\n",
    "    date_list = []\n",
    "    for i in logs:\n",
    "        date = []\n",
    "        date = i[0].split('-')\n",
    "        year = date[2]\n",
    "        month = date[1]\n",
    "        day = date[0]\n",
    "        time = i[1]\n",
    "        log = i [2]\n",
    "        status = i[3]\n",
    "        date_list.append([day,month,year,time,log,status])\n",
    "        #print(day +\":\"+month+\":\"+year)\n",
    "    return date_list\n",
    "\n",
    "def pick_failed_tasks(updated_logs):\n",
    "    failed_logs = []\n",
    "    for i in updated_logs:\n",
    "        if i[-1] == 'failed':\n",
    "            failed_logs.append(i)\n",
    "    return failed_logs\n",
    "\n",
    "def pick_sorted_failed_logs(failed_logs):\n",
    "    df= pd.DataFrame(data=failed_logs)\n",
    "    df.sort_values([2,1,1,3])\n",
    "    return df\n",
    "    \n",
    "\n",
    "\n",
    "if __name__ == \"__main__\":\n",
    "    updated_logs = log_day_month_year_extract(logs)\n",
    "    failed_logs = pick_failed_tasks(updated_logs)\n",
    "    sorted_failed_logs = pick_sorted_failed_logs(failed_logs)\n",
    "    display(sorted_failed_logs)\n",
    "\n",
    "\n",
    "\n",
    "\n",
    "\n"
   ]
  },
  {
   "cell_type": "code",
   "execution_count": null,
   "metadata": {},
   "outputs": [],
   "source": []
  }
 ],
 "metadata": {
  "kernelspec": {
   "display_name": "Python 3",
   "language": "python",
   "name": "python3"
  },
  "language_info": {
   "codemirror_mode": {
    "name": "ipython",
    "version": 3
   },
   "file_extension": ".py",
   "mimetype": "text/x-python",
   "name": "python",
   "nbconvert_exporter": "python",
   "pygments_lexer": "ipython3",
   "version": "3.8.2"
  },
  "orig_nbformat": 4
 },
 "nbformat": 4,
 "nbformat_minor": 2
}
