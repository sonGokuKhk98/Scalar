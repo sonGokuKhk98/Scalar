{
 "cells": [
  {
   "cell_type": "code",
   "execution_count": 1,
   "metadata": {},
   "outputs": [],
   "source": [
    "logs = [[\"01-01-2023\", \"14:00\", \"ERROR\", \"failed\"], [\"01-01-2023\", \"15:00\", \"INFO\", \"established\"], [\"01-01-2023\", \"01:30\", \"ERROR\", \"failed\"]]\n"
   ]
  },
  {
   "cell_type": "code",
   "execution_count": 10,
   "metadata": {},
   "outputs": [
    {
     "data": {
      "text/html": [
       "<div>\n",
       "<style scoped>\n",
       "    .dataframe tbody tr th:only-of-type {\n",
       "        vertical-align: middle;\n",
       "    }\n",
       "\n",
       "    .dataframe tbody tr th {\n",
       "        vertical-align: top;\n",
       "    }\n",
       "\n",
       "    .dataframe thead th {\n",
       "        text-align: right;\n",
       "    }\n",
       "</style>\n",
       "<table border=\"1\" class=\"dataframe\">\n",
       "  <thead>\n",
       "    <tr style=\"text-align: right;\">\n",
       "      <th></th>\n",
       "      <th>date</th>\n",
       "      <th>time</th>\n",
       "      <th>log</th>\n",
       "      <th>status</th>\n",
       "    </tr>\n",
       "  </thead>\n",
       "  <tbody>\n",
       "    <tr>\n",
       "      <th>2</th>\n",
       "      <td>01-01-2023</td>\n",
       "      <td>01:30</td>\n",
       "      <td>ERROR</td>\n",
       "      <td>failed</td>\n",
       "    </tr>\n",
       "    <tr>\n",
       "      <th>0</th>\n",
       "      <td>01-01-2023</td>\n",
       "      <td>14:00</td>\n",
       "      <td>ERROR</td>\n",
       "      <td>failed</td>\n",
       "    </tr>\n",
       "  </tbody>\n",
       "</table>\n",
       "</div>"
      ],
      "text/plain": [
       "         date   time    log  status\n",
       "2  01-01-2023  01:30  ERROR  failed\n",
       "0  01-01-2023  14:00  ERROR  failed"
      ]
     },
     "execution_count": 10,
     "metadata": {},
     "output_type": "execute_result"
    }
   ],
   "source": [
    "import pandas as pd\n",
    "\n",
    "df = pd.DataFrame(data=logs,columns=['date','time','log','status'])\n",
    "df[df['status'] == 'failed'].sort_values(['date','time'])"
   ]
  },
  {
   "cell_type": "code",
   "execution_count": 37,
   "metadata": {},
   "outputs": [
    {
     "data": {
      "text/html": [
       "<div>\n",
       "<style scoped>\n",
       "    .dataframe tbody tr th:only-of-type {\n",
       "        vertical-align: middle;\n",
       "    }\n",
       "\n",
       "    .dataframe tbody tr th {\n",
       "        vertical-align: top;\n",
       "    }\n",
       "\n",
       "    .dataframe thead th {\n",
       "        text-align: right;\n",
       "    }\n",
       "</style>\n",
       "<table border=\"1\" class=\"dataframe\">\n",
       "  <thead>\n",
       "    <tr style=\"text-align: right;\">\n",
       "      <th></th>\n",
       "      <th>0</th>\n",
       "      <th>1</th>\n",
       "      <th>2</th>\n",
       "      <th>3</th>\n",
       "      <th>4</th>\n",
       "      <th>5</th>\n",
       "    </tr>\n",
       "  </thead>\n",
       "  <tbody>\n",
       "    <tr>\n",
       "      <th>0</th>\n",
       "      <td>01</td>\n",
       "      <td>01</td>\n",
       "      <td>2023</td>\n",
       "      <td>14:00</td>\n",
       "      <td>ERROR</td>\n",
       "      <td>failed</td>\n",
       "    </tr>\n",
       "    <tr>\n",
       "      <th>1</th>\n",
       "      <td>01</td>\n",
       "      <td>01</td>\n",
       "      <td>2023</td>\n",
       "      <td>01:30</td>\n",
       "      <td>ERROR</td>\n",
       "      <td>failed</td>\n",
       "    </tr>\n",
       "  </tbody>\n",
       "</table>\n",
       "</div>"
      ],
      "text/plain": [
       "    0   1     2      3      4       5\n",
       "0  01  01  2023  14:00  ERROR  failed\n",
       "1  01  01  2023  01:30  ERROR  failed"
      ]
     },
     "metadata": {},
     "output_type": "display_data"
    }
   ],
   "source": [
    "\n",
    "\n",
    "def log_day_month_year_extract (logs):\n",
    "    date_list = []\n",
    "    for i in logs:\n",
    "        date = []\n",
    "        date = i[0].split('-')\n",
    "        year = date[2]\n",
    "        month = date[1]\n",
    "        day = date[0]\n",
    "        time = i[1]\n",
    "        log = i [2]\n",
    "        status = i[3]\n",
    "        date_list.append([day,month,year,time,log,status])\n",
    "        #print(day +\":\"+month+\":\"+year)\n",
    "    return date_list\n",
    "\n",
    "def pick_failed_tasks(updated_logs):\n",
    "    failed_logs = []\n",
    "    for i in updated_logs:\n",
    "        if i[-1] == 'failed':\n",
    "            failed_logs.append(i)\n",
    "    return failed_logs\n",
    "\n",
    "def pick_sorted_failed_logs(failed_logs):\n",
    "    df= pd.DataFrame(data=failed_logs)\n",
    "    df.sort_values([2,1,0,3])\n",
    "    return df\n",
    "    \n",
    "\n",
    "\n",
    "if __name__ == \"__main__\":\n",
    "    updated_logs = log_day_month_year_extract(logs)\n",
    "    failed_logs = pick_failed_tasks(updated_logs)\n",
    "    sorted_failed_logs = pick_sorted_failed_logs(failed_logs)\n",
    "    display(sorted_failed_logs)\n",
    "\n",
    "\n",
    "\n",
    "\n",
    "\n"
   ]
  },
  {
   "attachments": {},
   "cell_type": "markdown",
   "metadata": {},
   "source": [
    "Given an array of integers, write a function to find the maximum sum of any contiguous subarray within the array. For example:\n",
    "Input: [1, -2, 3, 4, -1, 6, -5, 3]\n",
    "Output: 12 (the subarray [3, 4, -1, 6] has the maximum sum)"
   ]
  },
  {
   "cell_type": "code",
   "execution_count": 32,
   "metadata": {},
   "outputs": [
    {
     "name": "stdout",
     "output_type": "stream",
     "text": [
      "{'0|0': -2, '0|1': -1, '0|2': -4, '0|3': 0, '0|4': -1, '0|5': 1, '0|6': 2, '0|7': -3, '0|8': 1, '1|0': 0, '1|1': 1, '1|2': -2, '1|3': 2, '1|4': 1, '1|5': 3, '1|6': 4, '1|7': -1, '1|8': 3, '2|0': 0, '2|1': 0, '2|2': -3, '2|3': 1, '2|4': 0, '2|5': 2, '2|6': 3, '2|7': -2, '2|8': 2, '3|0': 0, '3|1': 0, '3|2': 0, '3|3': 4, '3|4': 3, '3|5': 5, '3|6': 6, '3|7': 1, '3|8': 5, '4|0': 0, '4|1': 0, '4|2': 0, '4|3': 0, '4|4': -1, '4|5': 1, '4|6': 2, '4|7': -3, '4|8': 1, '5|0': 0, '5|1': 0, '5|2': 0, '5|3': 0, '5|4': 0, '5|5': 2, '5|6': 3, '5|7': -2, '5|8': 2, '6|0': 0, '6|1': 0, '6|2': 0, '6|3': 0, '6|4': 0, '6|5': 0, '6|6': 1, '6|7': -4, '6|8': 0, '7|0': 0, '7|1': 0, '7|2': 0, '7|3': 0, '7|4': 0, '7|5': 0, '7|6': 0, '7|7': -5, '7|8': -1, '8|0': 0, '8|1': 0, '8|2': 0, '8|3': 0, '8|4': 0, '8|5': 0, '8|6': 0, '8|7': 0, '8|8': 4}\n",
      "3|6\n"
     ]
    },
    {
     "data": {
      "text/plain": [
       "[4, -1, 2, 1]"
      ]
     },
     "execution_count": 32,
     "metadata": {},
     "output_type": "execute_result"
    }
   ],
   "source": [
    "l = [-2, 1, -3, 4, -1, 2, 1, -5, 4]\n",
    "j = 1\n",
    "sum_array = {}\n",
    "\n",
    "def compute_sum(l,i,j):\n",
    "    sum = 0 \n",
    "    for k in range(i,j+1):\n",
    "        if j<len(l):\n",
    "            sum += l[k]\n",
    "    return sum\n",
    "\n",
    "#key -> i | j\n",
    "for i in range(0,len(l)):\n",
    "    for j in range(0,len(l)):\n",
    "        sum_array[str(i)+\"|\"+str(j)] = compute_sum(l,i,j)\n",
    "        \n",
    "print(sum_array)\n",
    "\n",
    "\n",
    "for x,y in sum_array.items():\n",
    "    if y == max(sum_array.values()):\n",
    "        print(x)\n",
    "        answer = x.split('|')\n",
    "\n",
    "\n",
    "l[int(answer[0]):int(answer[1])+1]\n"
   ]
  },
  {
   "cell_type": "code",
   "execution_count": 35,
   "metadata": {},
   "outputs": [
    {
     "name": "stdout",
     "output_type": "stream",
     "text": [
      "Maximum subarray sum: 5\n",
      "Subarray with maximum sum: [5]\n"
     ]
    }
   ],
   "source": [
    "def kadane_max_subarray_sum(arr):\n",
    "    max_ending_here = max_so_far = arr[0]\n",
    "    start = end = 0\n",
    "\n",
    "    for i in range(1, len(arr)):\n",
    "        if arr[i] > max_ending_here + arr[i]:\n",
    "            max_ending_here = arr[i]\n",
    "            start = i\n",
    "        else:\n",
    "            max_ending_here += arr[i]\n",
    "\n",
    "        if max_ending_here > max_so_far:\n",
    "            max_so_far = max_ending_here\n",
    "            end = i\n",
    "\n",
    "    return max_so_far, arr[start:end + 1]\n",
    "\n",
    "#l = [-1, -1, -3, -4, -1, -2, -1, -5, -4]\n",
    "l = [1,-2,3,-4,5]\n",
    "max_sum, subarray = kadane_max_subarray_sum(l)\n",
    "print(\"Maximum subarray sum:\", max_sum)\n",
    "print(\"Subarray with maximum sum:\", subarray)\n",
    "\n",
    "# 1 -2 3 -4 5\n"
   ]
  },
  {
   "cell_type": "code",
   "execution_count": 7,
   "metadata": {},
   "outputs": [
    {
     "name": "stdout",
     "output_type": "stream",
     "text": [
      "5\n"
     ]
    }
   ],
   "source": [
    "def compute_sum(l,i,j):\n",
    "    sum = 0 \n",
    "    for k in range(i,j+1):\n",
    "        if j<len(l):\n",
    "            sum += l[k]\n",
    "    return sum\n",
    "\n",
    "print(compute_sum(l,0, 4))"
   ]
  },
  {
   "attachments": {},
   "cell_type": "markdown",
   "metadata": {},
   "source": [
    "# Question 1\n",
    "SDE interview at Addepar:\n",
    "\n",
    "Problem: Stock Transaction Profit Maximization\n",
    "\n",
    "You are given an array prices where prices[i] represents the price of a given stock on the i-th day. You want to maximize your profit by performing at most two transactions. A transaction consists of buying one share of the stock and selling it later on that or a subsequent day.\n",
    "\n",
    "However, you are not allowed to engage in multiple transactions (i.e., buy and sell the stock) at the same time. That is, you must sell the stock before buying again.\n",
    "\n",
    "Write a function maximize_profit(prices) that returns the maximum profit achievable with at most two transactions.\n",
    "\n",
    "Signature: def maximize_profit(prices: List[int]) -> int\n",
    "\n",
    "Example:\n",
    "\n",
    "python\n",
    "Copy code\n",
    "print(maximize_profit([3, 3, 5, 0, 0, 3, 1, 4]))  # Output: 6\n",
    "print(maximize_profit([1, 2, 3, 4, 5]))        # Output: 4\n",
    "print(maximize_profit([7, 6, 4, 3, 1]))        # Output: 0\n",
    "Explanation:\n",
    "\n",
    "In the first example, you can buy on day 3 (price = 5) and sell on day 4 (price = 0) for a profit of -5, then buy on day 5 (price = 0) and sell on day 7 (price = 4) for a profit of 4. The total profit is -5 + 4 = 6.\n",
    "In the second example, you can buy on day 1 (price = 1) and sell on day 5 (price = 5) for a profit of 4.\n",
    "In the third example, it's not possible to make any profit with at most two transactions.\n",
    "Constraints:\n",
    "\n",
    "The length of the prices array is between 1 and 10,000.\n",
    "Each price in the prices array is between 0 and 10,000.\n",
    "Hints:\n",
    "\n",
    "You can use dynamic programming to keep track of the maximum profit after each day for one transaction.\n",
    "Consider breaking the problem into two separate subproblems: one from the beginning of the array to each index, and the other from each index to the end of the array.\n",
    "To handle at most two transactions, you can combine the results from the two subproblems to get the maximum possible profit.\n"
   ]
  },
  {
   "cell_type": "code",
   "execution_count": 48,
   "metadata": {},
   "outputs": [
    {
     "name": "stdout",
     "output_type": "stream",
     "text": [
      "-1\n",
      "-1\n",
      "1\n",
      "-4\n",
      "-2\n",
      "-2\n",
      "-2\n",
      "-2\n"
     ]
    }
   ],
   "source": [
    "def compute_profit(l,i,j):\n",
    "    if i<len(l) and j<len(l):\n",
    "        return l[i] - l[j]\n",
    "    else:\n",
    "        return -1    \n",
    "\n",
    "\n",
    "def maximize_profit(list):\n",
    "    profit = 0\n",
    "    i=0\n",
    "    for k in range(len(list)):\n",
    "        print(compute_profit(l,i,i+k) + compute_profit(l,i+k,len(list) -1))\n",
    "        i+=1\n",
    "        #profit = compute_profit(l,i,i+k) + compute_profit(l,i+k,len(list) -1)\n",
    "        #print(profit)\n",
    "l = [3, 3, 5, 0, 0, 3, 1, 4]\n",
    "maximize_profit(l)"
   ]
  },
  {
   "attachments": {},
   "cell_type": "markdown",
   "metadata": {},
   "source": [
    "# Question 2\n",
    "Sure! Here's another finance-related problem that involves algorithms and data structures for your SDE interview at Addepar:\n",
    "\n",
    "Problem: Portfolio Maximum Gain\n",
    "\n",
    "You are given a list of daily stock prices prices, where prices[i] represents the price of a stock on the i-th day. You are also given an integer k, which represents the maximum number of transactions allowed.\n",
    "\n",
    "Your goal is to maximize the total gain of your portfolio within the given constraints. A \"transaction\" consists of buying one share of the stock and selling it later on the same day or a subsequent day.\n",
    "\n",
    "Write a function maximize_portfolio_gain(prices, k) that returns the maximum possible gain.\n",
    "\n",
    "Signature: def maximize_portfolio_gain(prices: List[int], k: int) -> int\n",
    "\n",
    "Example:\n",
    "\n",
    "python\n",
    "Copy code\n",
    "print(maximize_portfolio_gain([2, 4, 1], 2))  # Output: 2\n",
    "print(maximize_portfolio_gain([3, 2, 6, 5, 0, 3], 2))  # Output: 7\n",
    "print(maximize_portfolio_gain([1, 2, 4, 2, 5, 7, 2, 4, 9, 0], 3))  # Output: 13\n",
    "Explanation:\n",
    "\n",
    "In the first example, you can buy on day 1 (price = 2) and sell on day 2 (price = 4) for a profit of 2.\n",
    "In the second example, you can buy on day 1 (price = 3) and sell on day 3 (price = 6) for a profit of 3, then buy on day 4 (price = 5) and sell on day 5 (price = 0) for a profit of -5. But since we are allowed two transactions, you can buy on day 5 (price = 0) and sell on day 6 (price = 3) for an additional profit of 3. The total profit is 3 + 3 + 1 = 7.\n",
    "In the third example, you can buy on day 1 (price = 2) and sell on day 5 (price = 5) for a profit of 3, then buy on day 6 (price = 7) and sell on day 9 (price = 9) for a profit of 2, then buy on day 10 (price = 0) and sell on day 10 (price = 9) for a profit of 9. The total profit is 3 + 2 + 9 = 13.\n",
    "Constraints:\n",
    "\n",
    "The length of the prices array is between 1 and 10,000.\n",
    "Each price in the prices array is between 0 and 10,000.\n",
    "The value of k is between 0 and 1,000.\n",
    "Hints:\n",
    "\n",
    "You can use dynamic programming to keep track of the maximum profit after each day and after each transaction.\n",
    "Consider breaking the problem into two separate subproblems: one for the entire array with no transaction limit, and the other with the given k transactions allowed.\n",
    "To handle k transactions, you can combine the results from the two subproblems to get the maximum possible profit."
   ]
  },
  {
   "attachments": {},
   "cell_type": "markdown",
   "metadata": {},
   "source": [
    "# Question 3"
   ]
  },
  {
   "attachments": {},
   "cell_type": "markdown",
   "metadata": {},
   "source": [
    "Dijstras algorithm"
   ]
  },
  {
   "cell_type": "code",
   "execution_count": 36,
   "metadata": {},
   "outputs": [
    {
     "name": "stdout",
     "output_type": "stream",
     "text": [
      "{'A': 0, 'B': 3, 'C': 2, 'D': 6}\n"
     ]
    }
   ],
   "source": [
    "import heapq\n",
    "\n",
    "def dijkstra(graph, source):\n",
    "    distances = {node: float('inf') for node in graph}\n",
    "    distances[source] = 0\n",
    "\n",
    "    priority_queue = [(0, source)]\n",
    "\n",
    "    while priority_queue:\n",
    "        current_distance, current_node = heapq.heappop(priority_queue)\n",
    "\n",
    "        if current_distance > distances[current_node]:\n",
    "            continue\n",
    "\n",
    "        for neighbor, weight in graph[current_node].items():\n",
    "            distance = current_distance + weight\n",
    "\n",
    "            if distance < distances[neighbor]:\n",
    "                distances[neighbor] = distance\n",
    "                heapq.heappush(priority_queue, (distance, neighbor))\n",
    "\n",
    "    return distances\n",
    "\n",
    "# Example Usage:\n",
    "graph = {\n",
    "    'A': {'B': 5, 'C': 2},\n",
    "    'B': {'A': 5, 'C': 1, 'D': 3},\n",
    "    'C': {'A': 2, 'B': 1, 'D': 6},\n",
    "    'D': {'B': 3, 'C': 6}\n",
    "}\n",
    "\n",
    "source_node = 'A'\n",
    "shortest_distances = dijkstra(graph, source_node)\n",
    "print(shortest_distances)\n"
   ]
  },
  {
   "cell_type": "code",
   "execution_count": null,
   "metadata": {},
   "outputs": [],
   "source": []
  },
  {
   "cell_type": "code",
   "execution_count": 67,
   "metadata": {},
   "outputs": [
    {
     "name": "stdout",
     "output_type": "stream",
     "text": [
      "[10, 0, -10, 0]\n",
      "--------------------\n",
      "[15, 0, -10, -5]\n",
      "--------------------\n",
      "15\n"
     ]
    }
   ],
   "source": [
    "def add_investments(investments, rounds):\n",
    "    for start, end, amount in rounds:\n",
    "        investments[start] += amount\n",
    "\n",
    "        if end + 1 < len(investments):\n",
    "            \n",
    "            investments[end + 1] -= amount\n",
    "        print( investments)   \n",
    "        print(\"--------------------\")\n",
    "    \n",
    "    max_value = 0\n",
    "    current_value = 0\n",
    "    for value in investments:\n",
    "        current_value += value\n",
    "        max_value = max(max_value, current_value)\n",
    "    \n",
    "    return max_value\n",
    "\n",
    "# Test case\n",
    "investments = [0, 0, 0, 0]\n",
    "rounds = [\n",
    "     [0, 1, 10],  # Add 10 to indexes 1, 2, and 3\n",
    "    [0, 1, 10]   # Add 8 to indexes 2, 3, and 4\n",
    "]\n",
    "print(add_investments(investments, rounds))  # Output: 18 (largest number after all rounds)\n"
   ]
  },
  {
   "cell_type": "code",
   "execution_count": null,
   "metadata": {},
   "outputs": [],
   "source": [
    "x 10 0 -10 -x"
   ]
  },
  {
   "cell_type": "code",
   "execution_count": null,
   "metadata": {},
   "outputs": [],
   "source": [
    "a = [\"Appl 100\",\"Google 900\", \"Cash 10\" ] # Day 1\n",
    "b = [\"Appl 10 SL 3000\", \"Googl 100 BY 4000\", \"Cash 17626\"] # Potfolio\n",
    "c = [\"Appl 100\",\"Google 900\", \"Cash 10\" ] # Day 2\n",
    "\n",
    "\n",
    "Appl:100\n",
    "a , c\n",
    "\n",
    "ans = [\"Appl -10\", \"Cash -10\"]\n",
    "\n",
    "#Appl:"
   ]
  },
  {
   "cell_type": "code",
   "execution_count": 89,
   "metadata": {},
   "outputs": [
    {
     "name": "stdout",
     "output_type": "stream",
     "text": [
      "a b\n",
      "1000 -900\n"
     ]
    },
    {
     "data": {
      "text/plain": [
       "['b -900', 'b -1900']"
      ]
     },
     "execution_count": 89,
     "metadata": {},
     "output_type": "execute_result"
    }
   ],
   "source": [
    "a = {\"a\":100,\"b\":1000}\n",
    "b = {\"a\":1000,\"b\":100}\n",
    "answer = []\n",
    "for x,y in a.keys(),b.values():\n",
    "    print(str(x) +\" \"+str(y))\n",
    "    b[i] = b[i] - a[i]\n",
    "    answer.append(\" \".join([str(i),str(b[i])]))\n",
    "answer"
   ]
  },
  {
   "attachments": {},
   "cell_type": "markdown",
   "metadata": {},
   "source": [
    "[10:46] Jayraj Bhasme\n",
    "\n",
    "student.csv -- id, name\n",
    "\n",
    "address.parquet --  id, location\n",
    "\n",
    "[10:47] Jayraj Bhasme\n",
    "\n",
    "id,name,location\n",
    "\n",
    "[10:47] Jayraj Bhasme\n",
    "\n",
    "write it back as orc format with 5 number of partioins "
   ]
  },
  {
   "cell_type": "code",
   "execution_count": null,
   "metadata": {},
   "outputs": [],
   "source": [
    "import pyspark\n",
    "from pyspark import SparkContext as sc\n",
    "import pandas as pd\n",
    "\n",
    "\n",
    "sc.getConf(\"config.ini\") # \n",
    "\n",
    "df_student = pd.read_csv(\"student.csv\") #id, name\n",
    "df_address = pd.read_parquet(\"address.parquet\") # id , location\n",
    "df_output = df_student.join(df_address,type='inner',on=[\"id\"])\n",
    "df_output_final = df_output[[\"id\",\"name\",\"location\"]]\n",
    "df.to_csv(df_output,format=\"orc\")"
   ]
  },
  {
   "cell_type": "code",
   "execution_count": null,
   "metadata": {},
   "outputs": [],
   "source": []
  }
 ],
 "metadata": {
  "kernelspec": {
   "display_name": "Python 3",
   "language": "python",
   "name": "python3"
  },
  "language_info": {
   "codemirror_mode": {
    "name": "ipython",
    "version": 3
   },
   "file_extension": ".py",
   "mimetype": "text/x-python",
   "name": "python",
   "nbconvert_exporter": "python",
   "pygments_lexer": "ipython3",
   "version": "3.8.2"
  },
  "orig_nbformat": 4
 },
 "nbformat": 4,
 "nbformat_minor": 2
}
