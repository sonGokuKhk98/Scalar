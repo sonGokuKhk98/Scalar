
logs = [["01-01-2023", "14:00", "ERROR", "failed"], ["01-01-2023", "15:00", "INFO", "established"], ["01-01-2023", "01:30", "ERROR", "failed"]].