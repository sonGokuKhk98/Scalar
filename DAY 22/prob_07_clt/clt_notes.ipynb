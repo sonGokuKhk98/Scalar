{
 "cells": [
  {
   "cell_type": "code",
   "execution_count": 1,
   "id": "9d32dcbd",
   "metadata": {},
   "outputs": [],
   "source": [
    "import numpy as np\n",
    "import pandas as pd\n",
    "import seaborn as sns\n",
    "import matplotlib.pyplot as plt\n",
    "\n",
    "from scipy.stats import norm"
   ]
  },
  {
   "cell_type": "markdown",
   "id": "04134068",
   "metadata": {
    "heading_collapsed": true
   },
   "source": [
    "# CLT"
   ]
  },
  {
   "cell_type": "code",
   "execution_count": 2,
   "id": "32066bc9",
   "metadata": {
    "hidden": true
   },
   "outputs": [],
   "source": [
    "df_hw = pd.read_csv(\"weight-height.csv\")"
   ]
  },
  {
   "cell_type": "code",
   "execution_count": 3,
   "id": "6baef38e",
   "metadata": {
    "hidden": true
   },
   "outputs": [
    {
     "data": {
      "text/plain": [
       "(10000, 3)"
      ]
     },
     "execution_count": 3,
     "metadata": {},
     "output_type": "execute_result"
    }
   ],
   "source": [
    "df_hw.shape"
   ]
  },
  {
   "cell_type": "code",
   "execution_count": 4,
   "id": "f4b592da",
   "metadata": {
    "hidden": true
   },
   "outputs": [
    {
     "data": {
      "text/html": [
       "<div>\n",
       "<style scoped>\n",
       "    .dataframe tbody tr th:only-of-type {\n",
       "        vertical-align: middle;\n",
       "    }\n",
       "\n",
       "    .dataframe tbody tr th {\n",
       "        vertical-align: top;\n",
       "    }\n",
       "\n",
       "    .dataframe thead th {\n",
       "        text-align: right;\n",
       "    }\n",
       "</style>\n",
       "<table border=\"1\" class=\"dataframe\">\n",
       "  <thead>\n",
       "    <tr style=\"text-align: right;\">\n",
       "      <th></th>\n",
       "      <th>Gender</th>\n",
       "      <th>Height</th>\n",
       "      <th>Weight</th>\n",
       "    </tr>\n",
       "  </thead>\n",
       "  <tbody>\n",
       "    <tr>\n",
       "      <th>0</th>\n",
       "      <td>Male</td>\n",
       "      <td>73.847017</td>\n",
       "      <td>241.893563</td>\n",
       "    </tr>\n",
       "    <tr>\n",
       "      <th>1</th>\n",
       "      <td>Male</td>\n",
       "      <td>68.781904</td>\n",
       "      <td>162.310473</td>\n",
       "    </tr>\n",
       "    <tr>\n",
       "      <th>2</th>\n",
       "      <td>Male</td>\n",
       "      <td>74.110105</td>\n",
       "      <td>212.740856</td>\n",
       "    </tr>\n",
       "    <tr>\n",
       "      <th>3</th>\n",
       "      <td>Male</td>\n",
       "      <td>71.730978</td>\n",
       "      <td>220.042470</td>\n",
       "    </tr>\n",
       "    <tr>\n",
       "      <th>4</th>\n",
       "      <td>Male</td>\n",
       "      <td>69.881796</td>\n",
       "      <td>206.349801</td>\n",
       "    </tr>\n",
       "  </tbody>\n",
       "</table>\n",
       "</div>"
      ],
      "text/plain": [
       "  Gender     Height      Weight\n",
       "0   Male  73.847017  241.893563\n",
       "1   Male  68.781904  162.310473\n",
       "2   Male  74.110105  212.740856\n",
       "3   Male  71.730978  220.042470\n",
       "4   Male  69.881796  206.349801"
      ]
     },
     "execution_count": 4,
     "metadata": {},
     "output_type": "execute_result"
    }
   ],
   "source": [
    "df_hw.head()"
   ]
  },
  {
   "cell_type": "code",
   "execution_count": 5,
   "id": "f576b0f1",
   "metadata": {
    "hidden": true
   },
   "outputs": [],
   "source": [
    "df_height = df_hw[\"Height\"]"
   ]
  },
  {
   "cell_type": "code",
   "execution_count": 6,
   "id": "62cbd515",
   "metadata": {
    "hidden": true
   },
   "outputs": [
    {
     "data": {
      "text/plain": [
       "66.36755975482124"
      ]
     },
     "execution_count": 6,
     "metadata": {},
     "output_type": "execute_result"
    }
   ],
   "source": [
    "mu = df_height.mean() # Population mean\n",
    "mu"
   ]
  },
  {
   "cell_type": "code",
   "execution_count": 7,
   "id": "cb79fb0e",
   "metadata": {
    "hidden": true
   },
   "outputs": [
    {
     "data": {
      "text/plain": [
       "3.8475281207732293"
      ]
     },
     "execution_count": 7,
     "metadata": {},
     "output_type": "execute_result"
    }
   ],
   "source": [
    "sigma = df_height.std() # Population std dev\n",
    "sigma"
   ]
  },
  {
   "cell_type": "code",
   "execution_count": 8,
   "id": "0d0f4b3c",
   "metadata": {
    "hidden": true
   },
   "outputs": [
    {
     "data": {
      "text/plain": [
       "<AxesSubplot:xlabel='Height', ylabel='Count'>"
      ]
     },
     "execution_count": 8,
     "metadata": {},
     "output_type": "execute_result"
    },
    {
     "data": {
      "image/png": "[encoded data removed]",
      "text/plain": [
       "<Figure size 432x288 with 1 Axes>"
      ]
     },
     "metadata": {
      "needs_background": "light"
     },
     "output_type": "display_data"
    }
   ],
   "source": [
    "sns.histplot(df_height)"
   ]
  },
  {
   "cell_type": "code",
   "execution_count": 9,
   "id": "38a16501",
   "metadata": {
    "hidden": true
   },
   "outputs": [
    {
     "data": {
      "text/plain": [
       "5733    67.959814\n",
       "5727    61.120116\n",
       "6448    64.393366\n",
       "1717    69.338298\n",
       "9503    65.727711\n",
       "Name: Height, dtype: float64"
      ]
     },
     "execution_count": 9,
     "metadata": {},
     "output_type": "execute_result"
    }
   ],
   "source": [
    "df_height.sample(5)"
   ]
  },
  {
   "cell_type": "code",
   "execution_count": 10,
   "id": "60dbda17",
   "metadata": {
    "hidden": true
   },
   "outputs": [
    {
     "data": {
      "text/plain": [
       "67.29788258162978"
      ]
     },
     "execution_count": 10,
     "metadata": {},
     "output_type": "execute_result"
    }
   ],
   "source": [
    "# Every time, this mean is different\n",
    "# It is close to population mean of 66.3\n",
    "np.mean(df_height.sample(5)) "
   ]
  },
  {
   "cell_type": "code",
   "execution_count": 11,
   "id": "da67b8ea",
   "metadata": {
    "hidden": true
   },
   "outputs": [],
   "source": [
    "sample_mean_5 = [np.mean(df_height.sample(5)) for i in range(20000) ]"
   ]
  },
  {
   "cell_type": "code",
   "execution_count": 12,
   "id": "8a0f4caa",
   "metadata": {
    "hidden": true
   },
   "outputs": [
    {
     "data": {
      "text/plain": [
       "20000"
      ]
     },
     "execution_count": 12,
     "metadata": {},
     "output_type": "execute_result"
    }
   ],
   "source": [
    "len(sample_mean_5)\n",
    "# each of these numbers represents a sample mean of sample size 5"
   ]
  },
  {
   "cell_type": "code",
   "execution_count": 13,
   "id": "872edeeb",
   "metadata": {
    "hidden": true
   },
   "outputs": [
    {
     "data": {
      "text/plain": [
       "<AxesSubplot:ylabel='Count'>"
      ]
     },
     "execution_count": 13,
     "metadata": {},
     "output_type": "execute_result"
    },
    {
     "data": {
      "image/png": "[encoded data removed]",
      "text/plain": [
       "<Figure size 432x288 with 1 Axes>"
      ]
     },
     "metadata": {
      "needs_background": "light"
     },
     "output_type": "display_data"
    }
   ],
   "source": [
    "sns.histplot(sample_mean_5)"
   ]
  },
  {
   "cell_type": "code",
   "execution_count": 14,
   "id": "29dc47e6",
   "metadata": {
    "hidden": true
   },
   "outputs": [
    {
     "data": {
      "text/plain": [
       "66.3645917314545"
      ]
     },
     "execution_count": 14,
     "metadata": {},
     "output_type": "execute_result"
    }
   ],
   "source": [
    "np.mean(sample_mean_5)"
   ]
  },
  {
   "cell_type": "code",
   "execution_count": 15,
   "id": "7a5810eb",
   "metadata": {
    "hidden": true
   },
   "outputs": [
    {
     "data": {
      "text/plain": [
       "1.7250251190860824"
      ]
     },
     "execution_count": 15,
     "metadata": {},
     "output_type": "execute_result"
    }
   ],
   "source": [
    "np.std(sample_mean_5)"
   ]
  },
  {
   "cell_type": "code",
   "execution_count": 16,
   "id": "e2af3955",
   "metadata": {
    "hidden": true
   },
   "outputs": [
    {
     "data": {
      "text/plain": [
       "1.7206668846781923"
      ]
     },
     "execution_count": 16,
     "metadata": {},
     "output_type": "execute_result"
    }
   ],
   "source": [
    "sigma/np.sqrt(5)"
   ]
  },
  {
   "cell_type": "markdown",
   "id": "e940ec90",
   "metadata": {
    "hidden": true
   },
   "source": [
    "Changing sample size to 20"
   ]
  },
  {
   "cell_type": "code",
   "execution_count": 17,
   "id": "90417653",
   "metadata": {
    "hidden": true
   },
   "outputs": [
    {
     "data": {
      "text/plain": [
       "66.76110151981477"
      ]
     },
     "execution_count": 17,
     "metadata": {},
     "output_type": "execute_result"
    }
   ],
   "source": [
    "np.mean(df_height.sample(20))"
   ]
  },
  {
   "cell_type": "code",
   "execution_count": 18,
   "id": "26a70770",
   "metadata": {
    "hidden": true
   },
   "outputs": [],
   "source": [
    "sample_mean_20 = [np.mean(df_height.sample(20)) for i in range(20000)]"
   ]
  },
  {
   "cell_type": "code",
   "execution_count": 19,
   "id": "4fdccbbe",
   "metadata": {
    "hidden": true
   },
   "outputs": [
    {
     "data": {
      "text/plain": [
       "20000"
      ]
     },
     "execution_count": 19,
     "metadata": {},
     "output_type": "execute_result"
    }
   ],
   "source": [
    "len(sample_mean_20) \n",
    "# Each number represents a sample mean of sample size 20"
   ]
  },
  {
   "cell_type": "code",
   "execution_count": 20,
   "id": "051bd775",
   "metadata": {
    "hidden": true
   },
   "outputs": [
    {
     "data": {
      "text/plain": [
       "<AxesSubplot:ylabel='Count'>"
      ]
     },
     "execution_count": 20,
     "metadata": {},
     "output_type": "execute_result"
    },
    {
     "data": {
      "image/png": "[encoded data removed]",
      "text/plain": [
       "<Figure size 432x288 with 1 Axes>"
      ]
     },
     "metadata": {
      "needs_background": "light"
     },
     "output_type": "display_data"
    }
   ],
   "source": [
    "sns.histplot(sample_mean_20)"
   ]
  },
  {
   "cell_type": "code",
   "execution_count": 21,
   "id": "22d7b64d",
   "metadata": {
    "hidden": true
   },
   "outputs": [
    {
     "data": {
      "text/plain": [
       "66.36331406979353"
      ]
     },
     "execution_count": 21,
     "metadata": {},
     "output_type": "execute_result"
    }
   ],
   "source": [
    "np.mean(sample_mean_20)"
   ]
  },
  {
   "cell_type": "code",
   "execution_count": 22,
   "id": "e7a709b7",
   "metadata": {
    "hidden": true
   },
   "outputs": [
    {
     "data": {
      "text/plain": [
       "0.8520678642161935"
      ]
     },
     "execution_count": 22,
     "metadata": {},
     "output_type": "execute_result"
    }
   ],
   "source": [
    "np.std(sample_mean_20)"
   ]
  },
  {
   "cell_type": "code",
   "execution_count": 23,
   "id": "d6e4870e",
   "metadata": {
    "hidden": true
   },
   "outputs": [
    {
     "data": {
      "text/plain": [
       "0.8603334423390961"
      ]
     },
     "execution_count": 23,
     "metadata": {},
     "output_type": "execute_result"
    }
   ],
   "source": [
    "sigma/np.sqrt(20)"
   ]
  },
  {
   "cell_type": "markdown",
   "id": "330f656e",
   "metadata": {
    "hidden": true
   },
   "source": [
    "Change sample size to 100"
   ]
  },
  {
   "cell_type": "code",
   "execution_count": 24,
   "id": "2c5a6484",
   "metadata": {
    "hidden": true
   },
   "outputs": [],
   "source": [
    "sample_mean_100 = [np.mean(df_height.sample(100)) for i in range(20000) ] "
   ]
  },
  {
   "cell_type": "code",
   "execution_count": 25,
   "id": "fda697c6",
   "metadata": {
    "hidden": true
   },
   "outputs": [
    {
     "data": {
      "text/plain": [
       "20000"
      ]
     },
     "execution_count": 25,
     "metadata": {},
     "output_type": "execute_result"
    }
   ],
   "source": [
    "len(sample_mean_100)"
   ]
  },
  {
   "cell_type": "code",
   "execution_count": 26,
   "id": "f3ed7572",
   "metadata": {
    "hidden": true
   },
   "outputs": [
    {
     "data": {
      "text/plain": [
       "<AxesSubplot:ylabel='Count'>"
      ]
     },
     "execution_count": 26,
     "metadata": {},
     "output_type": "execute_result"
    },
    {
     "data": {
      "image/png": "[encoded data removed]",
      "text/plain": [
       "<Figure size 432x288 with 1 Axes>"
      ]
     },
     "metadata": {
      "needs_background": "light"
     },
     "output_type": "display_data"
    }
   ],
   "source": [
    "sns.histplot(sample_mean_100)"
   ]
  },
  {
   "cell_type": "code",
   "execution_count": 27,
   "id": "c038d3ad",
   "metadata": {
    "hidden": true
   },
   "outputs": [
    {
     "data": {
      "text/plain": [
       "66.37000997299543"
      ]
     },
     "execution_count": 27,
     "metadata": {},
     "output_type": "execute_result"
    }
   ],
   "source": [
    "np.mean(sample_mean_100)"
   ]
  },
  {
   "cell_type": "code",
   "execution_count": 28,
   "id": "b7aa2177",
   "metadata": {
    "hidden": true
   },
   "outputs": [
    {
     "data": {
      "text/plain": [
       "0.38617290598379195"
      ]
     },
     "execution_count": 28,
     "metadata": {},
     "output_type": "execute_result"
    }
   ],
   "source": [
    "np.std(sample_mean_100)"
   ]
  },
  {
   "cell_type": "code",
   "execution_count": 29,
   "id": "5914138f",
   "metadata": {
    "hidden": true
   },
   "outputs": [
    {
     "data": {
      "text/plain": [
       "0.3847528120773229"
      ]
     },
     "execution_count": 29,
     "metadata": {},
     "output_type": "execute_result"
    }
   ],
   "source": [
    "sigma/np.sqrt(100)"
   ]
  },
  {
   "cell_type": "markdown",
   "id": "96afd2ef",
   "metadata": {},
   "source": [
    "# Blood pressure example"
   ]
  },
  {
   "cell_type": "markdown",
   "id": "34dac559",
   "metadata": {},
   "source": [
    "Systolic blood pressure of a group of people is known to have an average of 122 mmHg and a standard deviation of 10 mmHg\n",
    "\n",
    "Calculate the probability that the average blood pressure of 16 people will be greater than 125 mmHg."
   ]
  },
  {
   "cell_type": "code",
   "execution_count": 30,
   "id": "10e21f87",
   "metadata": {},
   "outputs": [
    {
     "data": {
      "text/plain": [
       "2.5"
      ]
     },
     "execution_count": 30,
     "metadata": {},
     "output_type": "execute_result"
    }
   ],
   "source": [
    "std_error = 10/np.sqrt(16)\n",
    "std_error"
   ]
  },
  {
   "cell_type": "code",
   "execution_count": 31,
   "id": "574936e9",
   "metadata": {},
   "outputs": [
    {
     "data": {
      "text/plain": [
       "1.2"
      ]
     },
     "execution_count": 31,
     "metadata": {},
     "output_type": "execute_result"
    }
   ],
   "source": [
    "z = (125 - 122)/std_error\n",
    "z"
   ]
  },
  {
   "cell_type": "code",
   "execution_count": 32,
   "id": "29eecfa9",
   "metadata": {},
   "outputs": [
    {
     "data": {
      "text/plain": [
       "0.11506967022170822"
      ]
     },
     "execution_count": 32,
     "metadata": {},
     "output_type": "execute_result"
    }
   ],
   "source": [
    "prob = 1 - norm.cdf(z)\n",
    "prob"
   ]
  },
  {
   "cell_type": "markdown",
   "id": "49c09ba3",
   "metadata": {},
   "source": [
    "What if we had sampled 100 people instead of 16? What is the prob of average being greater than 125?"
   ]
  },
  {
   "cell_type": "code",
   "execution_count": 33,
   "id": "500e8e98",
   "metadata": {},
   "outputs": [
    {
     "data": {
      "text/plain": [
       "1.0"
      ]
     },
     "execution_count": 33,
     "metadata": {},
     "output_type": "execute_result"
    }
   ],
   "source": [
    "std_error = 10/np.sqrt(100)\n",
    "std_error"
   ]
  },
  {
   "cell_type": "code",
   "execution_count": 34,
   "id": "ff235027",
   "metadata": {},
   "outputs": [
    {
     "data": {
      "text/plain": [
       "3.0"
      ]
     },
     "execution_count": 34,
     "metadata": {},
     "output_type": "execute_result"
    }
   ],
   "source": [
    "z = (125 - 122)/std_error\n",
    "z"
   ]
  },
  {
   "cell_type": "code",
   "execution_count": 35,
   "id": "2f41ca2f",
   "metadata": {},
   "outputs": [
    {
     "data": {
      "text/plain": [
       "0.0013498980316301035"
      ]
     },
     "execution_count": 35,
     "metadata": {},
     "output_type": "execute_result"
    }
   ],
   "source": [
    "prob = 1 - norm.cdf(z)\n",
    "prob"
   ]
  },
  {
   "cell_type": "markdown",
   "id": "6a2b42ce",
   "metadata": {},
   "source": [
    "# Bharath Function"
   ]
  },
  {
   "cell_type": "markdown",
   "id": "44226d21",
   "metadata": {},
   "source": [
    "This is a function suggested by one of the students in class to solve problems in CLT"
   ]
  },
  {
   "cell_type": "code",
   "execution_count": 36,
   "id": "e5b1e17e",
   "metadata": {},
   "outputs": [],
   "source": [
    "def clt_prob(mu, sigma, n, obs):\n",
    "    std_error = sigma/np.sqrt(n)\n",
    "    z = (obs - mu)/std_error\n",
    "    prob_less = norm.cdf(z)\n",
    "    prob_greater = 1 - norm.cdf(z)\n",
    "    return prob_less, prob_greater"
   ]
  },
  {
   "cell_type": "code",
   "execution_count": 37,
   "id": "52bd038f",
   "metadata": {},
   "outputs": [
    {
     "data": {
      "text/plain": [
       "(0.8849303297782918, 0.11506967022170822)"
      ]
     },
     "execution_count": 37,
     "metadata": {},
     "output_type": "execute_result"
    }
   ],
   "source": [
    "clt_prob(122, 10, 16, 125)"
   ]
  },
  {
   "cell_type": "code",
   "execution_count": 38,
   "id": "77218736",
   "metadata": {},
   "outputs": [
    {
     "data": {
      "text/plain": [
       "(0.8643339390536173, 0.13566606094638267)"
      ]
     },
     "execution_count": 38,
     "metadata": {},
     "output_type": "execute_result"
    }
   ],
   "source": [
    "clt_prob(1000, 200, 4, 1110)"
   ]
  },
  {
   "cell_type": "code",
   "execution_count": 39,
   "id": "f3171418",
   "metadata": {},
   "outputs": [
    {
     "data": {
      "text/plain": [
       "(0.009211062727049501, 0.9907889372729505)"
      ]
     },
     "execution_count": 39,
     "metadata": {},
     "output_type": "execute_result"
    }
   ],
   "source": [
    "clt_prob(80, 15, 50, 75)"
   ]
  }
 ],
 "metadata": {
  "kernelspec": {
   "display_name": "Python 3 (ipykernel)",
   "language": "python",
   "name": "python3"
  },
  "language_info": {
   "codemirror_mode": {
    "name": "ipython",
    "version": 3
   },
   "file_extension": ".py",
   "mimetype": "text/x-python",
   "name": "python",
   "nbconvert_exporter": "python",
   "pygments_lexer": "ipython3",
   "version": "3.8.12"
  }
 },
 "nbformat": 4,
 "nbformat_minor": 5
}
