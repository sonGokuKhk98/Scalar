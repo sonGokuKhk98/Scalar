{
 "cells": [
  {
   "cell_type": "code",
   "execution_count": 9,
   "metadata": {},
   "outputs": [],
   "source": [
    "class Student:\n",
    "    pass\n",
    "\n",
    "#instantiating Student class\n",
    "s1 = Student()\n",
    "s2 = Student()"
   ]
  },
  {
   "cell_type": "code",
   "execution_count": 10,
   "metadata": {},
   "outputs": [],
   "source": [
    "#instance variables - Specific to an instance | Not set in stone\n",
    "s1.name = \"Hitesh\"\n",
    "s2.name = \"Devilipsa\"\n",
    "s2.id = 100"
   ]
  },
  {
   "cell_type": "code",
   "execution_count": 17,
   "metadata": {},
   "outputs": [
    {
     "ename": "AttributeError",
     "evalue": "'Student' object has no attribute 'id'",
     "output_type": "error",
     "traceback": [
      "\u001b[0;31m---------------------------------------------------------------------------\u001b[0m",
      "\u001b[0;31mAttributeError\u001b[0m                            Traceback (most recent call last)",
      "\u001b[0;32m<ipython-input-17-12f76b7ce0f1>\u001b[0m in \u001b[0;36m<module>\u001b[0;34m\u001b[0m\n\u001b[1;32m      1\u001b[0m \u001b[0;31m#  we are trying to use a variable which does not have it's instance set\u001b[0m\u001b[0;34m\u001b[0m\u001b[0;34m\u001b[0m\u001b[0;34m\u001b[0m\u001b[0m\n\u001b[0;32m----> 2\u001b[0;31m \u001b[0mprint\u001b[0m\u001b[0;34m(\u001b[0m\u001b[0ms1\u001b[0m\u001b[0;34m.\u001b[0m\u001b[0mid\u001b[0m\u001b[0;34m)\u001b[0m\u001b[0;34m\u001b[0m\u001b[0;34m\u001b[0m\u001b[0m\n\u001b[0m\u001b[1;32m      3\u001b[0m \u001b[0misinstance\u001b[0m\u001b[0;34m(\u001b[0m\u001b[0ms1\u001b[0m\u001b[0;34m,\u001b[0m\u001b[0mStudent\u001b[0m\u001b[0;34m)\u001b[0m\u001b[0;34m\u001b[0m\u001b[0;34m\u001b[0m\u001b[0m\n",
      "\u001b[0;31mAttributeError\u001b[0m: 'Student' object has no attribute 'id'"
     ]
    }
   ],
   "source": [
    "#  we are trying to use a variable which does not have it's instance set  \n",
    "print(s1.id)\n",
    "\n"
   ]
  },
  {
   "cell_type": "code",
   "execution_count": 20,
   "metadata": {},
   "outputs": [
    {
     "data": {
      "text/plain": [
       "False"
      ]
     },
     "execution_count": 20,
     "metadata": {},
     "output_type": "execute_result"
    }
   ],
   "source": [
    "isinstance(s1,Student)\n",
    "\n",
    "isinstance(s1,object)\n",
    "# Is the class itself an object\n",
    "isinstance(Student,object)"
   ]
  },
  {
   "cell_type": "code",
   "execution_count": 14,
   "metadata": {},
   "outputs": [
    {
     "name": "stdout",
     "output_type": "stream",
     "text": [
      "{'name': 'Hitesh'}\n",
      "{'name': 'Devilipsa', 'id': 100}\n"
     ]
    }
   ],
   "source": [
    "# To get all instance variables of Student\n",
    "print(s1.__dict__)\n",
    "print(s2.__dict__)\n"
   ]
  },
  {
   "attachments": {},
   "cell_type": "markdown",
   "metadata": {},
   "source": [
    "#### Initializer\n",
    "* If we have same attributes of a particular class, we can't sit cr4eatingeach and every thing\n"
   ]
  },
  {
   "cell_type": "code",
   "execution_count": 21,
   "metadata": {},
   "outputs": [],
   "source": [
    "def Student():\n",
    "    def __init__(self,name,id):\n",
    "        self.name = name\n",
    "        self.id = id\n",
    "s1 = Student()\n",
    "s2 = Student()"
   ]
  },
  {
   "cell_type": "code",
   "execution_count": 23,
   "metadata": {},
   "outputs": [],
   "source": [
    "import math\n",
    "\n",
    "def dotProduct(vl, v2):\n",
    "    return sum ((a*b) for a, b in zip(v1, v2))\n",
    "\n",
    "def magnitude(v):\n",
    "    return ______(dotProduct(v, v))            #---(i)\n",
    "\n",
    "def angleBtnTwoVectors(vl, v2):\n",
    "    if :                                #---(ii)\n",
    "        return \"Error\"\n",
    "    else : \n",
    "        return math.acos(dotProduct(v1, v2) / (magnitude(v1) * magnitude (v2)))"
   ]
  },
  {
   "cell_type": "code",
   "execution_count": 31,
   "metadata": {},
   "outputs": [
    {
     "data": {
      "text/plain": [
       "[32]"
      ]
     },
     "execution_count": 31,
     "metadata": {},
     "output_type": "execute_result"
    }
   ],
   "source": [
    "A = [1,2, 3]\n",
    "B = [4, 5, 6]\n",
    "[sum((a*b) for a , b in zip(A,B))]"
   ]
  },
  {
   "cell_type": "code",
   "execution_count": null,
   "metadata": {},
   "outputs": [],
   "source": []
  },
  {
   "cell_type": "code",
   "execution_count": null,
   "metadata": {},
   "outputs": [],
   "source": [
    "# b0, b1 , b2\n",
    "# statemnt -> date, transaction, description, credit, debit , balance\n",
    "\n",
    "# ASK : Every bank statement 90 day average daily balance\n",
    "# Customer : Every bank statement 90 day average daily balance\n",
    "# previous day fill if that day doesn;t have balance\n",
    "# month may be missing as well\n",
    "# b0 jan to march, b1 feb to march (same account_no)\n",
    "\n",
    "import pandas as pd\n",
    "import json\n",
    "\n",
    "dict = pd.read_json(\"data.json\")\n",
    "avg_90_days = 0\n",
    "curr_Date = \"23-01-2023\"\n",
    "for key in dict.keys():\n",
    "    # customer_name , balance_sheets, \n",
    "    if key == \"balance_sheets\":\n",
    "        for k in key[\"balance_sheets\"].keys():\n",
    "            # b0 , b1\n",
    "            for i in k:\n",
    "                key[\"balance_sheets\"][i][\"date\"] - curr_Date\n",
    "                \n",
    "                \n",
    "\n",
    "\n",
    "\n",
    "    "
   ]
  },
  {
   "cell_type": "code",
   "execution_count": null,
   "metadata": {},
   "outputs": [],
   "source": []
  }
 ],
 "metadata": {
  "kernelspec": {
   "display_name": "base",
   "language": "python",
   "name": "python3"
  },
  "language_info": {
   "codemirror_mode": {
    "name": "ipython",
    "version": 3
   },
   "file_extension": ".py",
   "mimetype": "text/x-python",
   "name": "python",
   "nbconvert_exporter": "python",
   "pygments_lexer": "ipython3",
   "version": "3.8.5"
  },
  "orig_nbformat": 4
 },
 "nbformat": 4,
 "nbformat_minor": 2
}
