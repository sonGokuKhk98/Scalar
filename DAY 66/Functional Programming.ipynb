{
 "cells": [
  {
   "attachments": {},
   "cell_type": "markdown",
   "metadata": {},
   "source": [
    "# Higher order functions\n",
    "* A function that's returning another function"
   ]
  },
  {
   "cell_type": "code",
   "execution_count": 7,
   "metadata": {},
   "outputs": [
    {
     "data": {
      "text/plain": [
       "32"
      ]
     },
     "execution_count": 7,
     "metadata": {},
     "output_type": "execute_result"
    }
   ],
   "source": [
    "def gen_exp(n):\n",
    "    def exp(x):\n",
    "        return x**n\n",
    "    return exp\n",
    "exp_5 =gen_exp(5)\n",
    "exp_5(2)"
   ]
  },
  {
   "attachments": {},
   "cell_type": "markdown",
   "metadata": {},
   "source": [
    "### Reason to do this is generate different variations of these functions"
   ]
  },
  {
   "attachments": {},
   "cell_type": "markdown",
   "metadata": {},
   "source": [
    "# Decorators\n",
    "* It's a function that takes another function as argument and adds extra functionality"
   ]
  },
  {
   "cell_type": "code",
   "execution_count": 15,
   "metadata": {},
   "outputs": [
    {
     "name": "stdout",
     "output_type": "stream",
     "text": [
      "Hello Everyone\n",
      "Welcome to FP2 Session!!\n"
     ]
    }
   ],
   "source": [
    "def foo():\n",
    "    print(\"Hello Everyone\")\n",
    "\n",
    "def bar():\n",
    "    print(\"Welcome to FP2 Session!!\")\n",
    "foo()\n",
    "bar()"
   ]
  },
  {
   "attachments": {},
   "cell_type": "markdown",
   "metadata": {},
   "source": [
    "### Instead of writing print 50 - before and after the existing print statments (Add a line before and after the print statement)"
   ]
  },
  {
   "cell_type": "code",
   "execution_count": 16,
   "metadata": {},
   "outputs": [
    {
     "name": "stdout",
     "output_type": "stream",
     "text": [
      "--------------------------------------------------\n",
      "Hello Everyone\n",
      "--------------------------------------------------\n",
      "--------------------------------------------------\n",
      "Welcome to FP2 Session!!\n",
      "--------------------------------------------------\n"
     ]
    }
   ],
   "source": [
    "def pretty(func):\n",
    "    def inner():\n",
    "        print(\"-\"*50)\n",
    "        func()\n",
    "        print(\"-\"*50)\n",
    "    return inner()\n",
    "new_foo = pretty(foo)\n",
    "new_bar = pretty(bar)\n"
   ]
  },
  {
   "cell_type": "code",
   "execution_count": 22,
   "metadata": {},
   "outputs": [
    {
     "name": "stdout",
     "output_type": "stream",
     "text": [
      "--------------------------------------------------\n",
      "What in the world is happening\n",
      "--------------------------------------------------\n"
     ]
    }
   ],
   "source": [
    "@pretty\n",
    "def random_func():\n",
    "    print(\"What in the world is happening\")\n"
   ]
  },
  {
   "attachments": {},
   "cell_type": "markdown",
   "metadata": {},
   "source": [
    "### Dataclass : What is this and how does it work\n",
    "### Fastapi.flaskapi : Python frameworks to creatre webserver (Covered in mlops)"
   ]
  },
  {
   "cell_type": "code",
   "execution_count": 24,
   "metadata": {},
   "outputs": [
    {
     "data": {
      "text/plain": [
       "120"
      ]
     },
     "execution_count": 24,
     "metadata": {},
     "output_type": "execute_result"
    }
   ],
   "source": [
    "def factorial_rec(n):\n",
    "    if n<=1:\n",
    "        return 1\n",
    "    else:\n",
    "        return factorial_rec(n-1)*n\n",
    "factorial_rec(5)"
   ]
  },
  {
   "cell_type": "code",
   "execution_count": 25,
   "metadata": {},
   "outputs": [
    {
     "data": {
      "text/plain": [
       "120"
      ]
     },
     "execution_count": 25,
     "metadata": {},
     "output_type": "execute_result"
    }
   ],
   "source": [
    "def factorial_for(n):\n",
    "    out = 1\n",
    "    for i in range(1,n+1):\n",
    "        out *= i\n",
    "    return out\n",
    "factorial_rec(5)"
   ]
  },
  {
   "cell_type": "code",
   "execution_count": 32,
   "metadata": {},
   "outputs": [
    {
     "ename": "TypeError",
     "evalue": "wrapper() takes 0 positional arguments but 1 was given",
     "output_type": "error",
     "traceback": [
      "\u001b[0;31m---------------------------------------------------------------------------\u001b[0m",
      "\u001b[0;31mTypeError\u001b[0m                                 Traceback (most recent call last)",
      "\u001b[0;32m<ipython-input-32-36e219c8af80>\u001b[0m in \u001b[0;36m<module>\u001b[0;34m\u001b[0m\n\u001b[1;32m      6\u001b[0m         \u001b[0mn\u001b[0m\u001b[0;34m-=\u001b[0m\u001b[0;36m1\u001b[0m\u001b[0;34m\u001b[0m\u001b[0;34m\u001b[0m\u001b[0m\n\u001b[1;32m      7\u001b[0m     \u001b[0;32mreturn\u001b[0m \u001b[0mout\u001b[0m\u001b[0;34m\u001b[0m\u001b[0;34m\u001b[0m\u001b[0m\n\u001b[0;32m----> 8\u001b[0;31m \u001b[0mfactorial_rec\u001b[0m\u001b[0;34m(\u001b[0m\u001b[0;36m5\u001b[0m\u001b[0;34m)\u001b[0m\u001b[0;34m\u001b[0m\u001b[0;34m\u001b[0m\u001b[0m\n\u001b[0m",
      "\u001b[0;31mTypeError\u001b[0m: wrapper() takes 0 positional arguments but 1 was given"
     ]
    }
   ],
   "source": [
    "def factorial_while(n):\n",
    "    out = 1\n",
    "    while n>=1:\n",
    "        out *= n\n",
    "        n-=1\n",
    "    return out\n",
    "factorial_rec(5)"
   ]
  },
  {
   "cell_type": "code",
   "execution_count": 40,
   "metadata": {},
   "outputs": [
    {
     "name": "stdout",
     "output_type": "stream",
     "text": [
      "Starting Execution\n",
      "Starting Execution\n",
      "Starting Execution\n",
      "Starting Execution\n",
      "Starting Execution\n",
      "Starting Execution\n",
      "Execution finished\n",
      "Total time taken 1.1920928955078125e-06\n",
      "Execution finished\n",
      "Total time taken 7.891654968261719e-05\n",
      "Execution finished\n",
      "Total time taken 0.00013327598571777344\n",
      "Execution finished\n",
      "Total time taken 0.00021910667419433594\n",
      "Execution finished\n",
      "Total time taken 0.0003631114959716797\n",
      "Execution finished\n",
      "Total time taken 0.0003859996795654297\n"
     ]
    },
    {
     "data": {
      "text/plain": [
       "0"
      ]
     },
     "execution_count": 40,
     "metadata": {},
     "output_type": "execute_result"
    }
   ],
   "source": [
    "import time\n",
    "def speed_check(func):\n",
    "    def wrapper(n):\n",
    "        print(\"Starting Execution\")\n",
    "        s = time.time()\n",
    "        out = func(n)\n",
    "        e = time.time()\n",
    "        print(\"Execution finished\")\n",
    "        print(\"Total time taken\", e-s)\n",
    "        return out\n",
    "    return wrapper\n",
    "\n",
    "@speed_check\n",
    "def factorial_rec(n):\n",
    "    if n<-1:\n",
    "        return 1\n",
    "    else:\n",
    "        return factorial_rec(n-1)*n\n",
    "factorial_rec(3)"
   ]
  },
  {
   "cell_type": "code",
   "execution_count": 41,
   "metadata": {},
   "outputs": [
    {
     "name": "stdout",
     "output_type": "stream",
     "text": [
      "Starting Execution\n",
      "Starting Execution\n",
      "Starting Execution\n",
      "Starting Execution\n",
      "Starting Execution\n",
      "Starting Execution\n",
      "Starting Execution\n",
      "Starting Execution\n",
      "Execution finished\n",
      "Total time taken 0.0\n",
      "Execution finished\n",
      "Total time taken 7.009506225585938e-05\n",
      "Execution finished\n",
      "Total time taken 0.00019884109497070312\n",
      "Execution finished\n",
      "Total time taken 0.0002932548522949219\n",
      "Execution finished\n",
      "Total time taken 0.0003571510314941406\n",
      "Execution finished\n",
      "Total time taken 0.0006022453308105469\n",
      "Execution finished\n",
      "Total time taken 0.0006840229034423828\n",
      "Execution finished\n",
      "Total time taken 0.0007421970367431641\n"
     ]
    },
    {
     "data": {
      "text/plain": [
       "0"
      ]
     },
     "execution_count": 41,
     "metadata": {},
     "output_type": "execute_result"
    }
   ],
   "source": [
    "@speed_check\n",
    "def factorial_while(n):\n",
    "    out = 1\n",
    "    while n>=1:\n",
    "        out *= n\n",
    "        n-=1\n",
    "    return out\n",
    "factorial_rec(5)"
   ]
  },
  {
   "cell_type": "code",
   "execution_count": 38,
   "metadata": {},
   "outputs": [
    {
     "name": "stdout",
     "output_type": "stream",
     "text": [
      "Starting Execution\n",
      "Starting Execution\n",
      "Starting Execution\n",
      "Starting Execution\n",
      "Starting Execution\n",
      "Starting Execution\n",
      "Starting Execution\n",
      "Starting Execution\n",
      "Execution finished\n",
      "Total time taken 1.1920928955078125e-06\n",
      "Execution finished\n",
      "Total time taken 8.225440979003906e-05\n",
      "Execution finished\n",
      "Total time taken 0.0001468658447265625\n",
      "Execution finished\n",
      "Total time taken 0.00018405914306640625\n",
      "Execution finished\n",
      "Total time taken 0.0002989768981933594\n",
      "Execution finished\n",
      "Total time taken 0.00033092498779296875\n",
      "Execution finished\n",
      "Total time taken 0.0003662109375\n",
      "Execution finished\n",
      "Total time taken 0.0004010200500488281\n"
     ]
    },
    {
     "data": {
      "text/plain": [
       "0"
      ]
     },
     "execution_count": 38,
     "metadata": {},
     "output_type": "execute_result"
    }
   ],
   "source": [
    "@speed_check\n",
    "def factorial_for(n):\n",
    "    out = 1\n",
    "    for i in range(1,n+1):\n",
    "        out *= i\n",
    "    return out\n",
    "factorial_rec(5)"
   ]
  },
  {
   "cell_type": "code",
   "execution_count": 43,
   "metadata": {},
   "outputs": [
    {
     "name": "stdout",
     "output_type": "stream",
     "text": [
      "Starting Execution\n",
      "Execution finished\n",
      "Total time taken 1.9073486328125e-06\n"
     ]
    },
    {
     "data": {
      "text/plain": [
       "(11, 20, 7, 2)"
      ]
     },
     "execution_count": 43,
     "metadata": {},
     "output_type": "execute_result"
    }
   ],
   "source": [
    "def speed_check(func):\n",
    "    def wrapper(a,b):\n",
    "        print(\"Starting Execution\")\n",
    "        s = time.time()\n",
    "        out = func(a,b)\n",
    "        e = time.time()\n",
    "        print(\"Execution finished\")\n",
    "        print(\"Total time taken\", e-s)\n",
    "        return out\n",
    "    return wrapper\n",
    "\n",
    "@speed_check\n",
    "def achu_func2(a,b):\n",
    "    return a+1,a*2,a-3,a//4\n",
    "achu_func2(10,20)"
   ]
  },
  {
   "cell_type": "code",
   "execution_count": 45,
   "metadata": {},
   "outputs": [
    {
     "data": {
      "text/plain": [
       "'2023-09-09 21:55:35.486180'"
      ]
     },
     "execution_count": 45,
     "metadata": {},
     "output_type": "execute_result"
    }
   ],
   "source": [
    "from datetime import datetime\n",
    "str(datetime.now())"
   ]
  },
  {
   "cell_type": "code",
   "execution_count": 48,
   "metadata": {},
   "outputs": [
    {
     "name": "stdout",
     "output_type": "stream",
     "text": [
      "Starting Execution\n",
      "Execution finished\n",
      "Total time taken 3.0994415283203125e-06\n"
     ]
    },
    {
     "data": {
      "text/plain": [
       "'wrapper'"
      ]
     },
     "execution_count": 48,
     "metadata": {},
     "output_type": "execute_result"
    }
   ],
   "source": [
    "a = factorial_for\n",
    "a(3)\n",
    "a.__name__"
   ]
  },
  {
   "cell_type": "code",
   "execution_count": 74,
   "metadata": {},
   "outputs": [
    {
     "name": "stdout",
     "output_type": "stream",
     "text": [
      "logger is logging: \n"
     ]
    },
    {
     "data": {
      "text/plain": [
       "93326215443944152681699238856266700490715968264381621468592963895217599993229915608941463976156518286253697920827223758251185210916864000000000000000000000000"
      ]
     },
     "execution_count": 74,
     "metadata": {},
     "output_type": "execute_result"
    }
   ],
   "source": [
    "### We want to add logger to all of our functions to track\n",
    "\n",
    "def logger(func):\n",
    "    def wrapper(n):\n",
    "        print(\"logger is logging: \")\n",
    "        with open(\"logs.txt\",\"a\") as f:\n",
    "            info = f\"Function {func.__name__} executed with input at {str(n)} on {str(datetime.now())} \\n\"\n",
    "            f.write(info)\n",
    "        out = func(n)\n",
    "        return out\n",
    "    return wrapper\n",
    "\n",
    "@logger\n",
    "def factorial_for(n):\n",
    "    out = 1\n",
    "    for i in range(1,n+1):\n",
    "        out *= i\n",
    "    return out\n",
    "factorial_for(100)"
   ]
  },
  {
   "cell_type": "code",
   "execution_count": null,
   "metadata": {},
   "outputs": [],
   "source": []
  }
 ],
 "metadata": {
  "kernelspec": {
   "display_name": "my_name",
   "language": "python",
   "name": "python3"
  },
  "language_info": {
   "codemirror_mode": {
    "name": "ipython",
    "version": 3
   },
   "file_extension": ".py",
   "mimetype": "text/x-python",
   "name": "python",
   "nbconvert_exporter": "python",
   "pygments_lexer": "ipython3",
   "version": "3.8.5"
  },
  "orig_nbformat": 4
 },
 "nbformat": 4,
 "nbformat_minor": 2
}
