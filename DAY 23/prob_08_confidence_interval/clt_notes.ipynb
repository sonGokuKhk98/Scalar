{
 "cells": [
  {
   "cell_type": "code",
   "execution_count": 1,
   "id": "8219e16c",
   "metadata": {},
   "outputs": [],
   "source": [
    "import numpy as np\n",
    "import pandas as pd\n",
    "import seaborn as sns\n",
    "import matplotlib.pyplot as plt\n",
    "\n",
    "from scipy.stats import norm"
   ]
  },
  {
   "cell_type": "markdown",
   "id": "92294bbd",
   "metadata": {
    "heading_collapsed": true
   },
   "source": [
    "# Recap - Gaussian and CLT "
   ]
  },
  {
   "cell_type": "markdown",
   "id": "b16a24ca",
   "metadata": {
    "hidden": true
   },
   "source": [
    "## Purchase time"
   ]
  },
  {
   "cell_type": "markdown",
   "id": "fa8bd053",
   "metadata": {
    "hidden": true
   },
   "source": [
    "The average time taken for customers to complete a purchase is 4 minutes with a standard deviation of 1 minute. Find the probability that a randomly selected customer will complete a purchase within 6 minutes? Assume Gaussian"
   ]
  },
  {
   "cell_type": "code",
   "execution_count": 6,
   "id": "cca01c90",
   "metadata": {
    "hidden": true
   },
   "outputs": [
    {
     "data": {
      "text/plain": [
       "0.9772498680518208"
      ]
     },
     "execution_count": 6,
     "metadata": {},
     "output_type": "execute_result"
    }
   ],
   "source": [
    "norm.cdf((6 - 4) / (1))"
   ]
  },
  {
   "cell_type": "markdown",
   "id": "04d3cdad",
   "metadata": {
    "hidden": true
   },
   "source": [
    "What is the probability that the average time of the next 5 customers is less than 6 minutes?"
   ]
  },
  {
   "cell_type": "code",
   "execution_count": 7,
   "id": "4dd40f66",
   "metadata": {
    "hidden": true
   },
   "outputs": [
    {
     "data": {
      "text/plain": [
       "0.9999961278917845"
      ]
     },
     "execution_count": 7,
     "metadata": {},
     "output_type": "execute_result"
    }
   ],
   "source": [
    "norm.cdf((6 - 4) / (1/np.sqrt(5)))"
   ]
  },
  {
   "cell_type": "markdown",
   "id": "4515c85c",
   "metadata": {
    "hidden": true
   },
   "source": [
    "## Purchase amount"
   ]
  },
  {
   "cell_type": "markdown",
   "id": "0a813613",
   "metadata": {
    "hidden": true
   },
   "source": [
    "The average order value on an e-commerce website is 50, with a standard deviation of 5. What is the probability that a randomly selected order will have a value exceeding 60?"
   ]
  },
  {
   "cell_type": "code",
   "execution_count": 3,
   "id": "40444ad8",
   "metadata": {
    "hidden": true
   },
   "outputs": [
    {
     "data": {
      "text/plain": [
       "0.02275013194817921"
      ]
     },
     "execution_count": 3,
     "metadata": {},
     "output_type": "execute_result"
    }
   ],
   "source": [
    "1 - norm.cdf((60-50)/(5))"
   ]
  },
  {
   "cell_type": "markdown",
   "id": "f9315e51",
   "metadata": {
    "hidden": true
   },
   "source": [
    "The average order value on an e-commerce website is 50, with a standard deviation of 5. What is the probability that the average of the next 3 orders exceeds 60?"
   ]
  },
  {
   "cell_type": "code",
   "execution_count": 8,
   "id": "a6d3bb27",
   "metadata": {
    "hidden": true
   },
   "outputs": [
    {
     "data": {
      "text/plain": [
       "0.00026600275256960515"
      ]
     },
     "execution_count": 8,
     "metadata": {},
     "output_type": "execute_result"
    }
   ],
   "source": [
    "1 - norm.cdf((60-50)/(5/np.sqrt(3)))"
   ]
  },
  {
   "cell_type": "markdown",
   "id": "34c37d4c",
   "metadata": {
    "hidden": true
   },
   "source": [
    "## Body temperature"
   ]
  },
  {
   "cell_type": "markdown",
   "id": "4ca617bd",
   "metadata": {
    "hidden": true
   },
   "source": [
    "Average body temperature has a mean of 98.6°F and a standard deviation of 0.5°F. What is the probability that a randomly chosen patient has a body temperature higher than 99.5°F?"
   ]
  },
  {
   "cell_type": "code",
   "execution_count": 5,
   "id": "73d3b6d4",
   "metadata": {
    "hidden": true
   },
   "outputs": [
    {
     "data": {
      "text/plain": [
       "0.03593031911292488"
      ]
     },
     "execution_count": 5,
     "metadata": {},
     "output_type": "execute_result"
    }
   ],
   "source": [
    "1 - norm.cdf((99.5 - 98.6)/(0.5))"
   ]
  },
  {
   "cell_type": "markdown",
   "id": "7e80a2ff",
   "metadata": {
    "heading_collapsed": true
   },
   "source": [
    "# Confidence Interval using CLT"
   ]
  },
  {
   "cell_type": "markdown",
   "id": "61d90f1f",
   "metadata": {
    "heading_collapsed": true,
    "hidden": true
   },
   "source": [
    "## Height example"
   ]
  },
  {
   "cell_type": "markdown",
   "id": "28c0531b",
   "metadata": {
    "hidden": true
   },
   "source": [
    "The mean height of a sample of 100 adults was found to be 65 inches, with a standard deviation of 2.5 inches."
   ]
  },
  {
   "cell_type": "code",
   "execution_count": 13,
   "id": "d53ea46b",
   "metadata": {
    "hidden": true
   },
   "outputs": [
    {
     "data": {
      "text/plain": [
       "0.25"
      ]
     },
     "execution_count": 13,
     "metadata": {},
     "output_type": "execute_result"
    }
   ],
   "source": [
    "std_error = 2.5/np.sqrt(100)\n",
    "std_error"
   ]
  },
  {
   "cell_type": "code",
   "execution_count": 10,
   "id": "39722a14",
   "metadata": {
    "hidden": true
   },
   "outputs": [
    {
     "data": {
      "text/plain": [
       "-1.9599639845400545"
      ]
     },
     "execution_count": 10,
     "metadata": {},
     "output_type": "execute_result"
    }
   ],
   "source": [
    "z1 = norm.ppf(0.025) # z-multiplier\n",
    "z1"
   ]
  },
  {
   "cell_type": "code",
   "execution_count": 12,
   "id": "55903dad",
   "metadata": {
    "hidden": true
   },
   "outputs": [
    {
     "data": {
      "text/plain": [
       "1.959963984540054"
      ]
     },
     "execution_count": 12,
     "metadata": {},
     "output_type": "execute_result"
    }
   ],
   "source": [
    "z2 = norm.ppf(0.975)\n",
    "z2"
   ]
  },
  {
   "cell_type": "code",
   "execution_count": 16,
   "id": "d69fd469",
   "metadata": {
    "hidden": true
   },
   "outputs": [
    {
     "data": {
      "text/plain": [
       "64.51000900386498"
      ]
     },
     "execution_count": 16,
     "metadata": {},
     "output_type": "execute_result"
    }
   ],
   "source": [
    "x1 = 65 + z1 * std_error\n",
    "x1"
   ]
  },
  {
   "cell_type": "code",
   "execution_count": 17,
   "id": "1fcc4357",
   "metadata": {
    "hidden": true
   },
   "outputs": [
    {
     "data": {
      "text/plain": [
       "65.48999099613502"
      ]
     },
     "execution_count": 17,
     "metadata": {},
     "output_type": "execute_result"
    }
   ],
   "source": [
    "x2 = 65 + z2 * std_error\n",
    "x2"
   ]
  },
  {
   "cell_type": "markdown",
   "id": "7a731403",
   "metadata": {
    "hidden": true
   },
   "source": [
    "The 95% confidence interval --> [64.51, 65.49]"
   ]
  },
  {
   "cell_type": "markdown",
   "id": "79053ce3",
   "metadata": {
    "hidden": true
   },
   "source": [
    "Compute the 90% confidence interval"
   ]
  },
  {
   "cell_type": "code",
   "execution_count": 18,
   "id": "a8883e7c",
   "metadata": {
    "hidden": true
   },
   "outputs": [
    {
     "data": {
      "text/plain": [
       "64.58878659326213"
      ]
     },
     "execution_count": 18,
     "metadata": {},
     "output_type": "execute_result"
    }
   ],
   "source": [
    "65 + norm.ppf(0.05) * std_error"
   ]
  },
  {
   "cell_type": "code",
   "execution_count": 19,
   "id": "13ea3f88",
   "metadata": {
    "hidden": true
   },
   "outputs": [
    {
     "data": {
      "text/plain": [
       "65.41121340673787"
      ]
     },
     "execution_count": 19,
     "metadata": {},
     "output_type": "execute_result"
    }
   ],
   "source": [
    "65 + norm.ppf(0.95) * std_error"
   ]
  },
  {
   "cell_type": "markdown",
   "id": "6f38af09",
   "metadata": {
    "hidden": true
   },
   "source": [
    "## Recovery days"
   ]
  },
  {
   "cell_type": "markdown",
   "id": "c560aef1",
   "metadata": {
    "hidden": true
   },
   "source": [
    "The sample mean recovery time of 100 patients after taking a drug was seen to be 10.5 days with a standard deviation of 2 days. Find the 95% confidence interval of the true mean."
   ]
  },
  {
   "cell_type": "code",
   "execution_count": 20,
   "id": "292fa784",
   "metadata": {
    "hidden": true
   },
   "outputs": [
    {
     "data": {
      "text/plain": [
       "0.2"
      ]
     },
     "execution_count": 20,
     "metadata": {},
     "output_type": "execute_result"
    }
   ],
   "source": [
    "std_error = 2/np.sqrt(100)\n",
    "std_error"
   ]
  },
  {
   "cell_type": "code",
   "execution_count": 21,
   "id": "f28f1a6c",
   "metadata": {
    "hidden": true
   },
   "outputs": [
    {
     "data": {
      "text/plain": [
       "10.108007203091988"
      ]
     },
     "execution_count": 21,
     "metadata": {},
     "output_type": "execute_result"
    }
   ],
   "source": [
    "z1 = norm.ppf(0.025)\n",
    "x1 = 10.5 + z1 * std_error\n",
    "x1"
   ]
  },
  {
   "cell_type": "code",
   "execution_count": 22,
   "id": "7c2d8dd9",
   "metadata": {
    "hidden": true
   },
   "outputs": [
    {
     "data": {
      "text/plain": [
       "10.89199279690801"
      ]
     },
     "execution_count": 22,
     "metadata": {},
     "output_type": "execute_result"
    }
   ],
   "source": [
    "z2 = norm.ppf(0.975)\n",
    "x2 = 10.5 + z2 * std_error\n",
    "x2"
   ]
  },
  {
   "cell_type": "markdown",
   "id": "3d3c3649",
   "metadata": {
    "hidden": true
   },
   "source": [
    "## Youtube watch hours"
   ]
  },
  {
   "cell_type": "markdown",
   "id": "b09fb5a9",
   "metadata": {
    "hidden": true
   },
   "source": [
    "The mean Youtube watch time of a sample of 100 students was found to be 3.5 hours, with a standard deviation of 1 hour. Construct a 90% confidence interval for the true watch time.\n"
   ]
  },
  {
   "cell_type": "code",
   "execution_count": 23,
   "id": "33eadba5",
   "metadata": {
    "hidden": true
   },
   "outputs": [],
   "source": [
    "def calc_CI(mean, std, N, prob):\n",
    "    std_err = std / np.sqrt(N)\n",
    "    print(\"SE \", std_err)\n",
    "    slice = (1 - (prob/100))/2\n",
    "    print(\"slice \", slice)\n",
    "    z1 = norm.ppf(slice)\n",
    "    print(\"z1 \", z1)\n",
    "    z2 = norm.ppf(1-slice)\n",
    "    print(\"z2 \", z2)\n",
    "    x1 = mean + ( z1 * std_err)\n",
    "    x2 = mean + ( z2 * std_err)\n",
    "    return x1, x2"
   ]
  },
  {
   "cell_type": "code",
   "execution_count": 24,
   "id": "be3cb9b7",
   "metadata": {
    "hidden": true
   },
   "outputs": [
    {
     "name": "stdout",
     "output_type": "stream",
     "text": [
      "SE  0.1\n",
      "slice  0.04999999999999999\n",
      "z1  -1.6448536269514729\n",
      "z2  1.6448536269514722\n"
     ]
    },
    {
     "data": {
      "text/plain": [
       "(3.3355146373048528, 3.6644853626951472)"
      ]
     },
     "execution_count": 24,
     "metadata": {},
     "output_type": "execute_result"
    }
   ],
   "source": [
    "calc_CI(3.5, 1, 100, 90)"
   ]
  },
  {
   "cell_type": "code",
   "execution_count": 27,
   "id": "76071aa9",
   "metadata": {
    "hidden": true
   },
   "outputs": [
    {
     "data": {
      "text/plain": [
       "(3.3355146373048528, 3.6644853626951472)"
      ]
     },
     "execution_count": 27,
     "metadata": {},
     "output_type": "execute_result"
    }
   ],
   "source": [
    "norm.interval(confidence=0.90, loc = 3.5, scale = 1/np.sqrt(100))"
   ]
  },
  {
   "cell_type": "code",
   "execution_count": 29,
   "id": "301d9a48",
   "metadata": {
    "hidden": true
   },
   "outputs": [
    {
     "data": {
      "text/plain": [
       "'1.10.0'"
      ]
     },
     "execution_count": 29,
     "metadata": {},
     "output_type": "execute_result"
    }
   ],
   "source": [
    "import scipy\n",
    "scipy.__version__"
   ]
  },
  {
   "cell_type": "markdown",
   "id": "bdfaa0a8",
   "metadata": {},
   "source": [
    "# Confidence Interval using Bootstrap"
   ]
  },
  {
   "cell_type": "code",
   "execution_count": 30,
   "id": "4414ce69",
   "metadata": {},
   "outputs": [
    {
     "data": {
      "text/plain": [
       "35.0"
      ]
     },
     "execution_count": 30,
     "metadata": {},
     "output_type": "execute_result"
    }
   ],
   "source": [
    "survey_1 = [35, 36, 33, 37, 34, 35]\n",
    "np.mean(survey_1)"
   ]
  },
  {
   "cell_type": "code",
   "execution_count": 31,
   "id": "fea483ce",
   "metadata": {},
   "outputs": [
    {
     "data": {
      "text/plain": [
       "35.0"
      ]
     },
     "execution_count": 31,
     "metadata": {},
     "output_type": "execute_result"
    }
   ],
   "source": [
    "survey_2 = [20, 37, 17, 50, 53, 33]\n",
    "np.mean(survey_2)"
   ]
  },
  {
   "cell_type": "markdown",
   "id": "21df9e1d",
   "metadata": {},
   "source": [
    "Can we simulate more and more sets of samples like the ones above"
   ]
  },
  {
   "cell_type": "markdown",
   "id": "895280f0",
   "metadata": {},
   "source": [
    "Sample with replacement"
   ]
  },
  {
   "cell_type": "code",
   "execution_count": 76,
   "id": "ff14a501",
   "metadata": {},
   "outputs": [
    {
     "data": {
      "text/plain": [
       "35.0"
      ]
     },
     "execution_count": 76,
     "metadata": {},
     "output_type": "execute_result"
    }
   ],
   "source": [
    "n = 6\n",
    "bootstrapped_samples = np.random.choice(survey_1, size=n)\n",
    "np.mean(bootstrapped_samples)"
   ]
  },
  {
   "cell_type": "code",
   "execution_count": 83,
   "id": "28dffee0",
   "metadata": {},
   "outputs": [
    {
     "data": {
      "text/plain": [
       "40.5"
      ]
     },
     "execution_count": 83,
     "metadata": {},
     "output_type": "execute_result"
    }
   ],
   "source": [
    "bootstrapped_samples = np.random.choice(survey_2, size=n)\n",
    "np.mean(bootstrapped_samples)"
   ]
  },
  {
   "cell_type": "code",
   "execution_count": 84,
   "id": "36095e1c",
   "metadata": {},
   "outputs": [],
   "source": [
    "bootstrapped_means_survey_1 = []\n",
    "for reps in range(10000):\n",
    "    bootstrapped_samples = np.random.choice(survey_1, size=n)\n",
    "    bootstrapped_mean = np.mean(bootstrapped_samples)\n",
    "    bootstrapped_means_survey_1.append(bootstrapped_mean)"
   ]
  },
  {
   "cell_type": "code",
   "execution_count": 85,
   "id": "33a595da",
   "metadata": {},
   "outputs": [
    {
     "data": {
      "text/plain": [
       "<AxesSubplot:ylabel='Count'>"
      ]
     },
     "execution_count": 85,
     "metadata": {},
     "output_type": "execute_result"
    },
    {
     "data": {
      "image/png": "[encoded data removed]",
      "text/plain": [
       "<Figure size 432x288 with 1 Axes>"
      ]
     },
     "metadata": {
      "needs_background": "light"
     },
     "output_type": "display_data"
    }
   ],
   "source": [
    "sns.histplot(bootstrapped_means_survey_1)"
   ]
  },
  {
   "cell_type": "code",
   "execution_count": 86,
   "id": "2d994832",
   "metadata": {},
   "outputs": [],
   "source": [
    "bootstrapped_means_survey_2 = []\n",
    "for reps in range(10000):\n",
    "    bootstrapped_samples = np.random.choice(survey_2, size=n)\n",
    "    bootstrapped_mean = np.mean(bootstrapped_samples) # Replace by any statistic (median, percentile)\n",
    "    bootstrapped_means_survey_2.append(bootstrapped_mean)"
   ]
  },
  {
   "cell_type": "code",
   "execution_count": 87,
   "id": "587c33cc",
   "metadata": {},
   "outputs": [
    {
     "data": {
      "text/plain": [
       "<AxesSubplot:ylabel='Count'>"
      ]
     },
     "execution_count": 87,
     "metadata": {},
     "output_type": "execute_result"
    },
    {
     "data": {
      "image/png": "[encoded data removed]",
      "text/plain": [
       "<Figure size 432x288 with 1 Axes>"
      ]
     },
     "metadata": {
      "needs_background": "light"
     },
     "output_type": "display_data"
    }
   ],
   "source": [
    "sns.histplot(bootstrapped_means_survey_2)"
   ]
  },
  {
   "cell_type": "code",
   "execution_count": 88,
   "id": "f4513c5f",
   "metadata": {},
   "outputs": [
    {
     "data": {
      "text/plain": [
       "10000"
      ]
     },
     "execution_count": 88,
     "metadata": {},
     "output_type": "execute_result"
    }
   ],
   "source": [
    "len(bootstrapped_means_survey_1)"
   ]
  },
  {
   "cell_type": "code",
   "execution_count": 90,
   "id": "3a60eb6a",
   "metadata": {},
   "outputs": [
    {
     "data": {
      "text/plain": [
       "34.0"
      ]
     },
     "execution_count": 90,
     "metadata": {},
     "output_type": "execute_result"
    }
   ],
   "source": [
    "x1 = np.percentile(bootstrapped_means_survey_1, 2.5)\n",
    "x1"
   ]
  },
  {
   "cell_type": "code",
   "execution_count": 91,
   "id": "78fddd9c",
   "metadata": {},
   "outputs": [
    {
     "data": {
      "text/plain": [
       "36.0"
      ]
     },
     "execution_count": 91,
     "metadata": {},
     "output_type": "execute_result"
    }
   ],
   "source": [
    "x2 = np.percentile(bootstrapped_means_survey_1, 97.5)\n",
    "x2"
   ]
  },
  {
   "cell_type": "markdown",
   "id": "163d6a25",
   "metadata": {},
   "source": [
    "Confidence interval: (34.0, 36.0)"
   ]
  },
  {
   "cell_type": "code",
   "execution_count": 92,
   "id": "ba088ff1",
   "metadata": {},
   "outputs": [
    {
     "data": {
      "text/plain": [
       "10000"
      ]
     },
     "execution_count": 92,
     "metadata": {},
     "output_type": "execute_result"
    }
   ],
   "source": [
    "len(bootstrapped_means_survey_2)"
   ]
  },
  {
   "cell_type": "code",
   "execution_count": 93,
   "id": "8fc8a48d",
   "metadata": {},
   "outputs": [
    {
     "data": {
      "text/plain": [
       "24.0"
      ]
     },
     "execution_count": 93,
     "metadata": {},
     "output_type": "execute_result"
    }
   ],
   "source": [
    "x1 = np.percentile(bootstrapped_means_survey_2, 2.5)\n",
    "x1"
   ]
  },
  {
   "cell_type": "code",
   "execution_count": 94,
   "id": "c1ca463a",
   "metadata": {},
   "outputs": [
    {
     "data": {
      "text/plain": [
       "46.0"
      ]
     },
     "execution_count": 94,
     "metadata": {},
     "output_type": "execute_result"
    }
   ],
   "source": [
    "x2 = np.percentile(bootstrapped_means_survey_2, 97.5)\n",
    "x2"
   ]
  }
 ],
 "metadata": {
  "kernelspec": {
   "display_name": "Python 3 (ipykernel)",
   "language": "python",
   "name": "python3"
  },
  "language_info": {
   "codemirror_mode": {
    "name": "ipython",
    "version": 3
   },
   "file_extension": ".py",
   "mimetype": "text/x-python",
   "name": "python",
   "nbconvert_exporter": "python",
   "pygments_lexer": "ipython3",
   "version": "3.8.12"
  }
 },
 "nbformat": 4,
 "nbformat_minor": 5
}
