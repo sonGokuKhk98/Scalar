{
 "cells": [
  {
   "attachments": {},
   "cell_type": "markdown",
   "metadata": {},
   "source": [
    "#### WAYS TO CREATE A DATAFRAME"
   ]
  },
  {
   "cell_type": "code",
   "execution_count": 1,
   "metadata": {},
   "outputs": [],
   "source": [
    "import pandas as pd"
   ]
  },
  {
   "cell_type": "code",
   "execution_count": 24,
   "metadata": {},
   "outputs": [
    {
     "data": {
      "text/html": [
       "<div>\n",
       "<style scoped>\n",
       "    .dataframe tbody tr th:only-of-type {\n",
       "        vertical-align: middle;\n",
       "    }\n",
       "\n",
       "    .dataframe tbody tr th {\n",
       "        vertical-align: top;\n",
       "    }\n",
       "\n",
       "    .dataframe thead th {\n",
       "        text-align: right;\n",
       "    }\n",
       "</style>\n",
       "<table border=\"1\" class=\"dataframe\">\n",
       "  <thead>\n",
       "    <tr style=\"text-align: right;\">\n",
       "      <th></th>\n",
       "      <th>emp_id</th>\n",
       "      <th>name</th>\n",
       "      <th>dept</th>\n",
       "    </tr>\n",
       "  </thead>\n",
       "  <tbody>\n",
       "    <tr>\n",
       "      <th>0</th>\n",
       "      <td>1</td>\n",
       "      <td>Ram</td>\n",
       "      <td>IT</td>\n",
       "    </tr>\n",
       "    <tr>\n",
       "      <th>1</th>\n",
       "      <td>2</td>\n",
       "      <td>Shyam</td>\n",
       "      <td>Ops</td>\n",
       "    </tr>\n",
       "  </tbody>\n",
       "</table>\n",
       "</div>"
      ],
      "text/plain": [
       "   emp_id   name dept\n",
       "0       1    Ram   IT\n",
       "1       2  Shyam  Ops"
      ]
     },
     "metadata": {},
     "output_type": "display_data"
    },
    {
     "data": {
      "text/html": [
       "<div>\n",
       "<style scoped>\n",
       "    .dataframe tbody tr th:only-of-type {\n",
       "        vertical-align: middle;\n",
       "    }\n",
       "\n",
       "    .dataframe tbody tr th {\n",
       "        vertical-align: top;\n",
       "    }\n",
       "\n",
       "    .dataframe thead th {\n",
       "        text-align: right;\n",
       "    }\n",
       "</style>\n",
       "<table border=\"1\" class=\"dataframe\">\n",
       "  <thead>\n",
       "    <tr style=\"text-align: right;\">\n",
       "      <th></th>\n",
       "      <th>emp_id</th>\n",
       "      <th>name</th>\n",
       "      <th>dept</th>\n",
       "    </tr>\n",
       "  </thead>\n",
       "  <tbody>\n",
       "    <tr>\n",
       "      <th>0</th>\n",
       "      <td>1</td>\n",
       "      <td>Ram</td>\n",
       "      <td>IT</td>\n",
       "    </tr>\n",
       "    <tr>\n",
       "      <th>1</th>\n",
       "      <td>2</td>\n",
       "      <td>Shyam</td>\n",
       "      <td>Ops</td>\n",
       "    </tr>\n",
       "  </tbody>\n",
       "</table>\n",
       "</div>"
      ],
      "text/plain": [
       "   emp_id   name dept\n",
       "0       1    Ram   IT\n",
       "1       2  Shyam  Ops"
      ]
     },
     "metadata": {},
     "output_type": "display_data"
    }
   ],
   "source": [
    "# Column approach\n",
    "df = pd.DataFrame({\"emp_id\": [1,2], \"name\": [\"Ram\",\"Shyam\"], \"dept\": [\"IT\", \"Ops\"]})\n",
    "display(df)\n",
    "# Row approach\n",
    "df = pd.DataFrame([[1, \"Ram\", \"IT\"], [2, \"Shyam\", \"Ops\"]], columns = [\"emp_id\", \"name\", \"dept\"])\n",
    "display(df)\n"
   ]
  },
  {
   "attachments": {},
   "cell_type": "markdown",
   "metadata": {},
   "source": [
    "#### Sort_index is used to sort the elements in a dataframe by it's index\n",
    "\n",
    "If index contains characters then it's ASCII value is considered in the ascending order of the index"
   ]
  },
  {
   "cell_type": "code",
   "execution_count": 53,
   "metadata": {},
   "outputs": [
    {
     "name": "stdout",
     "output_type": "stream",
     "text": [
      "Character 'H' is samller than 'a' : True\n"
     ]
    },
    {
     "data": {
      "text/html": [
       "<div>\n",
       "<style scoped>\n",
       "    .dataframe tbody tr th:only-of-type {\n",
       "        vertical-align: middle;\n",
       "    }\n",
       "\n",
       "    .dataframe tbody tr th {\n",
       "        vertical-align: top;\n",
       "    }\n",
       "\n",
       "    .dataframe thead th {\n",
       "        text-align: right;\n",
       "    }\n",
       "</style>\n",
       "<table border=\"1\" class=\"dataframe\">\n",
       "  <thead>\n",
       "    <tr style=\"text-align: right;\">\n",
       "      <th></th>\n",
       "      <th>0</th>\n",
       "      <th>count</th>\n",
       "    </tr>\n",
       "  </thead>\n",
       "  <tbody>\n",
       "    <tr>\n",
       "      <th>0</th>\n",
       "      <td>How</td>\n",
       "      <td>1</td>\n",
       "    </tr>\n",
       "    <tr>\n",
       "      <th>1</th>\n",
       "      <td>a</td>\n",
       "      <td>2</td>\n",
       "    </tr>\n",
       "    <tr>\n",
       "      <th>2</th>\n",
       "      <td>chuck</td>\n",
       "      <td>2</td>\n",
       "    </tr>\n",
       "    <tr>\n",
       "      <th>3</th>\n",
       "      <td>could</td>\n",
       "      <td>1</td>\n",
       "    </tr>\n",
       "    <tr>\n",
       "      <th>4</th>\n",
       "      <td>if</td>\n",
       "      <td>1</td>\n",
       "    </tr>\n",
       "    <tr>\n",
       "      <th>5</th>\n",
       "      <td>much</td>\n",
       "      <td>1</td>\n",
       "    </tr>\n",
       "    <tr>\n",
       "      <th>6</th>\n",
       "      <td>wood</td>\n",
       "      <td>2</td>\n",
       "    </tr>\n",
       "    <tr>\n",
       "      <th>7</th>\n",
       "      <td>woodchuck</td>\n",
       "      <td>2</td>\n",
       "    </tr>\n",
       "    <tr>\n",
       "      <th>8</th>\n",
       "      <td>would</td>\n",
       "      <td>1</td>\n",
       "    </tr>\n",
       "  </tbody>\n",
       "</table>\n",
       "</div>"
      ],
      "text/plain": [
       "           0  count\n",
       "0        How      1\n",
       "1          a      2\n",
       "2      chuck      2\n",
       "3      could      1\n",
       "4         if      1\n",
       "5       much      1\n",
       "6       wood      2\n",
       "7  woodchuck      2\n",
       "8      would      1"
      ]
     },
     "execution_count": 53,
     "metadata": {},
     "output_type": "execute_result"
    }
   ],
   "source": [
    "string = \"How much wood would a woodchuck chuck if a woodchuck could chuck wood\"\n",
    "\n",
    "df = pd.DataFrame(string.split(\" \")).value_counts().sort_index()\n",
    "print(\"Character 'H' is samller than 'a' : \"+str('a' > 'H'))\n",
    "\n",
    "df.to_frame().reset_index()"
   ]
  },
  {
   "attachments": {},
   "cell_type": "markdown",
   "metadata": {},
   "source": [
    "#### nuique()\n",
    "df.nunique() returns the number of unique elements."
   ]
  },
  {
   "attachments": {},
   "cell_type": "markdown",
   "metadata": {},
   "source": [
    "#### df.insert(3,\"imported\",imported)\n",
    "* position 1 = index starting at 0\n",
    "* position 2 = column_name \n",
    "* list containing exact rows as the data frame"
   ]
  },
  {
   "attachments": {},
   "cell_type": "markdown",
   "metadata": {},
   "source": [
    "#### df.loc[10:3:-1,[\"country\",\"year\"]] #Starts at 10 and goes back to 3 which is the first index skipping 0th index\n",
    "* If we want to start printing in reverse from 10th index to 3rd index in revesrse\n",
    "* if the step i.e -1 is not mentioned lower limit i.e 10 can't be before the ':'"
   ]
  },
  {
   "cell_type": "code",
   "execution_count": 7,
   "metadata": {},
   "outputs": [],
   "source": [
    "import pandas as pd\n",
    "df = pd.DataFrame({\"date\": pd.to_datetime([\"2020-01-01\", \"2020-07-01\", \"2020-08-01\", \"2020-03-02\", \"2020-01-03\"]),\"name\": ['Himanshu', 'Robert', 'Karie', 'Rohan', 'John'],\"amt\": [100, 200, 400, 150, 300]})"
   ]
  },
  {
   "cell_type": "code",
   "execution_count": 11,
   "metadata": {},
   "outputs": [
    {
     "data": {
      "text/html": [
       "<div>\n",
       "<style scoped>\n",
       "    .dataframe tbody tr th:only-of-type {\n",
       "        vertical-align: middle;\n",
       "    }\n",
       "\n",
       "    .dataframe tbody tr th {\n",
       "        vertical-align: top;\n",
       "    }\n",
       "\n",
       "    .dataframe thead th {\n",
       "        text-align: right;\n",
       "    }\n",
       "</style>\n",
       "<table border=\"1\" class=\"dataframe\">\n",
       "  <thead>\n",
       "    <tr style=\"text-align: right;\">\n",
       "      <th></th>\n",
       "      <th>name</th>\n",
       "      <th>amt</th>\n",
       "    </tr>\n",
       "  </thead>\n",
       "  <tbody>\n",
       "    <tr>\n",
       "      <th>1</th>\n",
       "      <td>Robert</td>\n",
       "      <td>200</td>\n",
       "    </tr>\n",
       "    <tr>\n",
       "      <th>2</th>\n",
       "      <td>Karie</td>\n",
       "      <td>400</td>\n",
       "    </tr>\n",
       "  </tbody>\n",
       "</table>\n",
       "</div>"
      ],
      "text/plain": [
       "     name  amt\n",
       "1  Robert  200\n",
       "2   Karie  400"
      ]
     },
     "execution_count": 11,
     "metadata": {},
     "output_type": "execute_result"
    }
   ],
   "source": [
    "df.iloc[1:3,1:3]"
   ]
  },
  {
   "cell_type": "code",
   "execution_count": null,
   "metadata": {},
   "outputs": [],
   "source": [
    "import pandas as pd\n",
    "def add_and_remove(df, data, out):\n",
    "    '''\n",
    "    Input:\n",
    "    df -> The dataframe passed as input\n",
    "    data -> The list of list variable containg the rows to append\n",
    "    out -> the variable containing the row index value to be removed\n",
    "    \n",
    "    Output:\n",
    "    df -> return the dataframe df after doing the above operations\n",
    "    '''\n",
    "    \n",
    "    # Add the rows \n",
    "    df1 = pd.DataFrame(data,columns=['name','age'])\n",
    "    df_final = pd.concat([df,df1],axis=0,ignore_index=True) #Axis = 0 denotes  \n",
    "    # Remove the out index row \n",
    "    df_final.drop(out ,axis=\"index\",inplace = True)\n",
    "    return df_final\n",
    "\n",
    "\n"
   ]
  },
  {
   "attachments": {},
   "cell_type": "markdown",
   "metadata": {},
   "source": [
    "Q10. Employee records\n",
    "Solved\n",
    "feature icon\n",
    "Using hints is now penalty free\n",
    "Use Hint\n",
    "Given a data frame consisting of Name, employment_type, department, and p_id for employees,\n",
    "\n",
    "Complete the function del_dupl() that\n",
    "\n",
    "1. Deletes the records of a given name, where name is a string, then\n",
    "\n",
    "2. Deletes the duplicate p_id rows and keeps only the last entry as it contains the latest employment details of the candidate\n",
    "\n",
    "3. Deletes the column p_id as the organization is moving to another fintech app, and returns this dataframe.\n",
    "\n",
    "There are no two people with the same p_id in the organization, if there are records with the same p_id then it should be assumed that the person has updated their profile (designation) in the organization.\n",
    "\n",
    "Input Format:\n",
    "\n",
    "A dictionary is taken as input which then typecasted to a data frame and passed as an argument.\n",
    "A string representing the name of employee whose record is to be deleted.\n",
    "Output Format:\n",
    "\n",
    "A data frame\n",
    "Sample Input:\n",
    "\n",
    "\n",
    "Mark\n",
    "Sample Output:\n",
    "\n",
    "\n",
    "\n",
    "Sample Explanation:\n",
    "\n",
    "The second row with the name \"Mark\" is deleted, and column \"p_id\" is deleted. In the end, a data frame consisting of the employee's latest records (last occurrence) is returned. In the sample, it can be seen that \"Sam\" with \"p_id\" as 1 has multiple records therefore only his last record is preserved in the returned data frame.\n",
    "\n",
    "Note:\n",
    "\n",
    "Refer to drop_duplicates() documentation to see how to drop rows based on certain columns duplication"
   ]
  },
  {
   "cell_type": "code",
   "execution_count": null,
   "metadata": {},
   "outputs": [],
   "source": [
    "import pandas as pd\n",
    "def del_dupl(df,name):\n",
    "    ''' df is a dataframe with columns ['Name', 'employment_type', 'department', 'p_id']\n",
    "        name is a string.\n",
    "        Output a dataframe is expected to be returned'''\n",
    "        \n",
    "    # YOUR CODE GOES HERE\n",
    "    \n",
    "    # delete the record with name\n",
    "    df.drop( df.loc[df['Name']== name].index,inplace = True, axis = 0)\n",
    "    # drop the column 'p_id'\n",
    "    df.drop(['p_id'],inplace=True, axis=1)\n",
    "    # drop the duplicates, preserving the last one with same name\n",
    "    df.drop_duplicates(subset=['Name'],keep='last',inplace=True)\n",
    "    return df"
   ]
  },
  {
   "attachments": {},
   "cell_type": "markdown",
   "metadata": {},
   "source": [
    "#### To consider multiple columns sorting\n",
    "* df_sorted = df_filtered.sort_values(by=[\"Year\",\"Population\"],ascending=[True,True])"
   ]
  },
  {
   "cell_type": "code",
   "execution_count": 30,
   "metadata": {},
   "outputs": [],
   "source": [
    "import pandas as pd  \n",
    "df1 = pd.DataFrame({\"name\": ['tobey', 'peter', 'chris', 'pratt'],'chem_score':[10, 9, 8, 7], 'phy_score':[7, 8, 9, 10], 'Hindi_score':[9, 9, 9, 9]})  \n",
    "df2 = pd.DataFrame({\"name\": ['chris', 'pratt', 'andrew', 'tom'],'chem_score':[10, 10, 10, 9], 'maths_score':[6, 6, 7, 9], 'eng_score':[9, 10, 10, 9]})"
   ]
  },
  {
   "cell_type": "code",
   "execution_count": 24,
   "metadata": {},
   "outputs": [
    {
     "data": {
      "text/plain": [
       "9.125"
      ]
     },
     "execution_count": 24,
     "metadata": {},
     "output_type": "execute_result"
    }
   ],
   "source": [
    "df1 = df[['name','chem_score']]['chem_score'].mean()\n",
    "df1"
   ]
  },
  {
   "cell_type": "code",
   "execution_count": 43,
   "metadata": {},
   "outputs": [
    {
     "data": {
      "text/plain": [
       "[8.5, 8.666666666666666]"
      ]
     },
     "execution_count": 43,
     "metadata": {},
     "output_type": "execute_result"
    }
   ],
   "source": [
    "mean1 = df1[['name','chem_score']]['chem_score'].agg('mean')\n",
    "mean2 = df2[['name','chem_score']]['chem_score'].agg('mean')\n",
    "\n",
    "mean_total= (mean2+mean1)/2.0\n",
    "df_common = pd.merge(df1,df2,on='name')\n",
    "l = list(df_common.drop(columns='name').mean(axis = 1 ))\n",
    "l"
   ]
  },
  {
   "attachments": {},
   "cell_type": "markdown",
   "metadata": {},
   "source": [
    "#Different columns from different data frames\n",
    "\n",
    "users.rename(columns={\"user_id\":\"id\"},inplace=True)\n",
    "users"
   ]
  },
  {
   "cell_type": "markdown",
   "metadata": {},
   "source": []
  }
 ],
 "metadata": {
  "kernelspec": {
   "display_name": "Python 3",
   "language": "python",
   "name": "python3"
  },
  "language_info": {
   "codemirror_mode": {
    "name": "ipython",
    "version": 3
   },
   "file_extension": ".py",
   "mimetype": "text/x-python",
   "name": "python",
   "nbconvert_exporter": "python",
   "pygments_lexer": "ipython3",
   "version": "3.8.2"
  },
  "orig_nbformat": 4
 },
 "nbformat": 4,
 "nbformat_minor": 2
}
